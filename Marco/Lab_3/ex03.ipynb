{
 "cells": [
  {
   "cell_type": "code",
   "execution_count": 1,
   "metadata": {},
   "outputs": [],
   "source": [
    "# Useful starting lines\n",
    "%matplotlib inline\n",
    "import numpy as np\n",
    "import matplotlib.pyplot as plt\n",
    "%load_ext autoreload\n",
    "%autoreload 2\n",
    "from helpers import *"
   ]
  },
  {
   "cell_type": "markdown",
   "metadata": {},
   "source": [
    "# 1 Least squares and linear basis functions models\n",
    "## 1.1 Least squares"
   ]
  },
  {
   "cell_type": "code",
   "execution_count": 2,
   "metadata": {},
   "outputs": [],
   "source": [
    "def compute_loss(y, tx, w):\n",
    "    e = y - np.dot(tx,w)\n",
    "    return 1/(2*len(y))*np.dot(e.transpose(),e)"
   ]
  },
  {
   "cell_type": "code",
   "execution_count": 3,
   "metadata": {},
   "outputs": [],
   "source": [
    "def least_squares(y, tx):\n",
    "    LS = np.dot((np.dot((np.linalg.inv(np.dot(np.transpose(tx),tx))),np.transpose(tx))),y)\n",
    "    MSE = compute_loss(y,tx,LS)\n",
    "    # ***************************************************\n",
    "    # INSERT YOUR CODE HERE\n",
    "    # least squares: TODO\n",
    "    # returns mse, and optimal weights\n",
    "    # ***************************************************\n",
    "    return MSE, LS"
   ]
  },
  {
   "cell_type": "code",
   "execution_count": 4,
   "metadata": {},
   "outputs": [],
   "source": [
    "height, weight, gender = load_data_from_ex02(sub_sample=False, add_outlier=False)\n",
    "x, mean_x, std_x = standardize(height)\n",
    "y, tx = build_model_data(x, weight)"
   ]
  },
  {
   "cell_type": "code",
   "execution_count": 5,
   "metadata": {},
   "outputs": [],
   "source": [
    "def compute_gradient(y, tx, w):\n",
    "    e = y - np.dot(tx,w)\n",
    "    return -1/(2*len(y))*np.dot(tx.transpose(),e)"
   ]
  },
  {
   "cell_type": "code",
   "execution_count": 6,
   "metadata": {},
   "outputs": [],
   "source": [
    "def gradient_descent(y, tx, initial_w, max_iters, gamma):\n",
    "    \"\"\"Gradient descent algorithm.\"\"\"\n",
    "    # Define parameters to store w and loss\n",
    "    ws = [initial_w]\n",
    "    losses = []\n",
    "    w = initial_w\n",
    "    for n_iter in range(max_iters):\n",
    "        G = compute_gradient(y, tx,w)\n",
    "        loss = compute_loss(y, tx,w)\n",
    "        w = w-gamma*G\n",
    "        ws.append(w)\n",
    "        losses.append(loss)\n",
    "    return ws[max_iters-1]"
   ]
  },
  {
   "cell_type": "code",
   "execution_count": 7,
   "metadata": {},
   "outputs": [],
   "source": [
    "# Define the parameters of the algorithm.\n",
    "max_iters = 100\n",
    "gamma = 0.1\n",
    "\n",
    "# Initialization\n",
    "w_initial = np.array([10, 70])\n",
    "\n",
    "ws = gradient_descent(y, tx, w_initial, max_iters, gamma)"
   ]
  },
  {
   "cell_type": "code",
   "execution_count": 8,
   "metadata": {},
   "outputs": [
    {
     "data": {
      "text/plain": [
       "array([72.89946567, 13.83195456])"
      ]
     },
     "execution_count": 8,
     "metadata": {},
     "output_type": "execute_result"
    }
   ],
   "source": [
    "ws"
   ]
  },
  {
   "cell_type": "markdown",
   "metadata": {},
   "source": [
    "### Load the data\n",
    "Here we will reuse the dataset `height_weight_genders.csv` from previous exercise section to check the correctness of your implementation. Please compare it with your previous result."
   ]
  },
  {
   "cell_type": "code",
   "execution_count": 9,
   "metadata": {},
   "outputs": [],
   "source": [
    "from helpers import *\n",
    "def test_your_least_squares():\n",
    "    height, weight, gender = load_data_from_ex02(sub_sample=False, add_outlier=False)\n",
    "    x, mean_x, std_x = standardize(height)\n",
    "    y, tx = build_model_data(x, weight)\n",
    "    w_LS = least_squares(y, tx)[1]\n",
    "    max_iters = 100\n",
    "    gamma = 0.1\n",
    "\n",
    "    # Initialization\n",
    "    w_initial = np.array([10, 70])\n",
    "\n",
    "    ws = gradient_descent(y, tx, w_initial, max_iters, gamma)\n",
    "    \n",
    "    print(\"Gradient Descent W:  w0={w0}, w1={w1} ; Least Squares: w0:{w2}, W1:{w3}\".format(\n",
    "              w0=ws[0], w1=ws[1], w2=w_LS[0], w3=w_LS[1]))\n",
    "    \n",
    "    return \n",
    "        # ***************************************************\n",
    "    # INSERT YOUR CODE HERE\n",
    "    # least square or grid search: TODO\n",
    "    # this code should compare the optimal weights obtained \n",
    "    # by least squares vs. grid search\n",
    "    # ***************************************************"
   ]
  },
  {
   "cell_type": "markdown",
   "metadata": {},
   "source": [
    "Test it here"
   ]
  },
  {
   "cell_type": "code",
   "execution_count": 10,
   "metadata": {},
   "outputs": [
    {
     "name": "stdout",
     "output_type": "stream",
     "text": [
      "Gradient Descent W:  w0=72.89946567085993, w1=13.831954555063074 ; Least Squares: w0:73.2939220021052, W1:13.479712434989057\n"
     ]
    }
   ],
   "source": [
    "test_your_least_squares()"
   ]
  },
  {
   "cell_type": "markdown",
   "metadata": {},
   "source": [
    "## 1.2 Least squares with a linear basis function model\n",
    "Start from this section, we will use the dataset `dataEx3.csv`.\n",
    "\n",
    "### Implement polynomial basis functions"
   ]
  },
  {
   "cell_type": "code",
   "execution_count": 11,
   "metadata": {
    "scrolled": true
   },
   "outputs": [
    {
     "name": "stdout",
     "output_type": "stream",
     "text": [
      "shape of x (50,)\n",
      "shape of y (50,)\n"
     ]
    }
   ],
   "source": [
    "# load dataset\n",
    "x, y = load_data()\n",
    "print(\"shape of x {}\".format(x.shape))\n",
    "print(\"shape of y {}\".format(y.shape))"
   ]
  },
  {
   "cell_type": "code",
   "execution_count": 12,
   "metadata": {},
   "outputs": [],
   "source": [
    "def PI(x,degree):\n",
    "    pi=np.empty([degree+1,x.shape[0]])\n",
    "    for i in range(degree+1):\n",
    "        pi[i] = x**i\n",
    "    return pi"
   ]
  },
  {
   "cell_type": "code",
   "execution_count": 13,
   "metadata": {},
   "outputs": [],
   "source": [
    "def build_poly(x, degree):\n",
    "    pi=np.empty([degree+1,x.shape[0]])\n",
    "    for i in range(degree+1):\n",
    "        pi[i] = x**i\n",
    "    res = np.transpose(pi)\n",
    "    return res\n",
    "        \n",
    "\n",
    "    \"\"\"polynomial basis functions for input data x, for j=0 up to j=degree.\"\"\"\n",
    "    # ***************************************************\n",
    "    # INSERT YOUR CODE HERE\n",
    "    # polynomial basis function: TODO\n",
    "    # this function should return the matrix formed\n",
    "    # by applying the polynomial basis to the input data\n",
    "    # ***************************************************\n"
   ]
  },
  {
   "cell_type": "code",
   "execution_count": 14,
   "metadata": {},
   "outputs": [
    {
     "data": {
      "text/plain": [
       "(50, 13)"
      ]
     },
     "execution_count": 14,
     "metadata": {},
     "output_type": "execute_result"
    }
   ],
   "source": [
    "build_poly(x, 12).shape"
   ]
  },
  {
   "cell_type": "markdown",
   "metadata": {},
   "source": [
    "Let us play with polynomial regression. Note that we will use your implemented function `compute_mse`. Please copy and paste your implementation from exercise02."
   ]
  },
  {
   "cell_type": "code",
   "execution_count": 15,
   "metadata": {},
   "outputs": [],
   "source": [
    "from plots import *\n",
    "\n",
    "def polynomial_regression():\n",
    "    \"\"\"Constructing the polynomial basis function expansion of the data,\n",
    "       and then running least squares regression.\"\"\"\n",
    "    # define parameters\n",
    "    degrees = [1, 3, 7, 12]\n",
    "    \n",
    "    # define the structure of the figure\n",
    "    num_row = 2\n",
    "    num_col = 2\n",
    "    f, axs = plt.subplots(num_row, num_col)\n",
    "\n",
    "    for ind, degree in enumerate(degrees):\n",
    "        # create the polynomial basis\n",
    "        X_P = build_poly(x,degree)\n",
    "        weights = least_squares(y, X_P)[1]\n",
    "        rmse = np.sqrt(least_squares(y,X_P)[0])\n",
    "        print(\"Processing {i}th experiment, degree={d}, rmse={loss}\".format(\n",
    "              i=ind + 1, d=degree, loss=rmse))\n",
    "        # plot fit\n",
    "        plot_fitted_curve(\n",
    "            y, x, weights, degree, axs[ind // num_col][ind % num_col])\n",
    "    plt.tight_layout()\n",
    "    plt.savefig(\"visualize_polynomial_regression\")\n",
    "    plt.show()\n",
    "    \n",
    "    return "
   ]
  },
  {
   "cell_type": "markdown",
   "metadata": {},
   "source": [
    "Run polynomial regression"
   ]
  },
  {
   "cell_type": "code",
   "execution_count": 16,
   "metadata": {},
   "outputs": [
    {
     "name": "stdout",
     "output_type": "stream",
     "text": [
      "Processing 1th experiment, degree=1, rmse=0.3336667757890794\n",
      "Processing 2th experiment, degree=3, rmse=0.1828456348866184\n",
      "Processing 3th experiment, degree=7, rmse=0.17653536230422046\n",
      "Processing 4th experiment, degree=12, rmse=0.655367390972215\n"
     ]
    },
    {
     "data": {
      "image/png": "[encoded data removed]",
      "text/plain": [
       "<Figure size 432x288 with 4 Axes>"
      ]
     },
     "metadata": {
      "needs_background": "light"
     },
     "output_type": "display_data"
    }
   ],
   "source": [
    "polynomial_regression()"
   ]
  },
  {
   "cell_type": "markdown",
   "metadata": {},
   "source": [
    "# 2 Evaluating model predication performance\n",
    "\n",
    "\n",
    "Let us show the train and test splits for various polynomial degrees. First of all, please fill in the function `split_data()`"
   ]
  },
  {
   "cell_type": "code",
   "execution_count": 17,
   "metadata": {},
   "outputs": [],
   "source": [
    "def split_data(x, y, ratio, seed=1):\n",
    "    \"\"\"\n",
    "    split the dataset based on the split ratio. If ratio is 0.8 \n",
    "    you will have 80% of your data set dedicated to training \n",
    "    and the rest dedicated to testing\n",
    "    \"\"\"\n",
    "    np.random.seed(seed)\n",
    "    train_x = x[0:int(len(x)*ratio),]\n",
    "    test_x = x[int(len(x)*ratio):,]\n",
    "    train_y = y[0:int(len(y)*ratio),]\n",
    "    test_y = y[int(len(y)*ratio):,]\n",
    "    # ***************************************************\n",
    "    # INSERT YOUR CODE HERE\n",
    "    # split the data based on the given ratio: TODO\n",
    "    # ***************************************************\n",
    "    return train_x,train_y,test_x, test_y"
   ]
  },
  {
   "cell_type": "markdown",
   "metadata": {},
   "source": [
    "Then, test your `split_data` function below."
   ]
  },
  {
   "cell_type": "code",
   "execution_count": 18,
   "metadata": {},
   "outputs": [],
   "source": [
    "def train_test_split_demo(x, y, degree, ratio, seed = 1):\n",
    "    \"\"\"polynomial regression with different split ratios and different degrees.\"\"\"\n",
    "    # ***************************************************\n",
    "    # INSERT YOUR CODE HERE\n",
    "    # split the data, and return train and test data: TODO\n",
    "    # ***************************************************\n",
    "    train_x,train_y,test_x, test_y = split_data(x, y, ratio, seed)\n",
    "    # ***************************************************\n",
    "    # INSERT YOUR CODE HERE\n",
    "    # form train and test data with polynomial basis function: TODO\n",
    "    # ***************************************************\n",
    "    X_P_train = build_poly(train_x,degree)\n",
    "    X_P_test = build_poly(test_x,degree)\n",
    "    # ***************************************************\n",
    "    # INSERT YOUR CODE HERE\n",
    "    # calcualte weight through least square.: TODO\n",
    "    # ***************************************************\n",
    "    weights = least_squares(train_y, X_P_train)[1]\n",
    "    # ***************************************************\n",
    "    # INSERT YOUR CODE HERE\n",
    "    # calculate RMSE for train and test data,\n",
    "    # and store them in rmse_tr and rmse_te respectively: TODO\n",
    "    # ***************************************************\n",
    "    rmse_tr = np.sqrt(compute_loss(train_y,X_P_train,weights))\n",
    "    rmse_te = np.sqrt(compute_loss(test_y,X_P_test,weights))\n",
    "    print(\"proportion={p}, degree={d}, Training RMSE={tr:.3f}, Testing RMSE={te:.3f}\".format(\n",
    "          p=ratio, d=degree, tr=rmse_tr, te=rmse_te))\n",
    "    return\n"
   ]
  },
  {
   "cell_type": "code",
   "execution_count": 19,
   "metadata": {},
   "outputs": [
    {
     "name": "stdout",
     "output_type": "stream",
     "text": [
      "proportion=0.9, degree=1, Training RMSE=0.345, Testing RMSE=0.210\n",
      "proportion=0.9, degree=3, Training RMSE=0.188, Testing RMSE=0.137\n",
      "proportion=0.9, degree=7, Training RMSE=0.182, Testing RMSE=0.131\n",
      "proportion=0.9, degree=12, Training RMSE=0.189, Testing RMSE=0.132\n",
      "proportion=0.5, degree=1, Training RMSE=0.324, Testing RMSE=0.387\n",
      "proportion=0.5, degree=3, Training RMSE=0.184, Testing RMSE=0.189\n",
      "proportion=0.5, degree=7, Training RMSE=0.164, Testing RMSE=0.221\n",
      "proportion=0.5, degree=12, Training RMSE=0.419, Testing RMSE=0.455\n",
      "proportion=0.1, degree=1, Training RMSE=0.422, Testing RMSE=0.351\n",
      "proportion=0.1, degree=3, Training RMSE=0.019, Testing RMSE=0.316\n",
      "proportion=0.1, degree=7, Training RMSE=1.826, Testing RMSE=2.165\n",
      "proportion=0.1, degree=12, Training RMSE=10.631, Testing RMSE=110544.990\n"
     ]
    }
   ],
   "source": [
    "seed = 6\n",
    "degrees = [1, 3, 7, 12]\n",
    "split_ratios = [0.9, 0.5, 0.1]\n",
    "\n",
    "for split_ratio in split_ratios:\n",
    "    for degree in degrees:\n",
    "        train_test_split_demo(x, y, degree, split_ratio, seed)"
   ]
  },
  {
   "cell_type": "markdown",
   "metadata": {},
   "source": [
    "# 3 Ridge Regression\n",
    "Please fill in the function below."
   ]
  },
  {
   "cell_type": "code",
   "execution_count": 96,
   "metadata": {},
   "outputs": [],
   "source": [
    "def ridge_regression(y, tx, lambda_):\n",
    "    xtranspose = np.transpose(tx)\n",
    "    xtransx = np.dot(xtranspose, tx)\n",
    "    lamidentity = np.identity(xtransx.shape[0]) * (lambda_*2*len(y))\n",
    "    matinv = np.linalg.inv(lamidentity + xtransx)\n",
    "    xtransy = np.dot(xtranspose, y)\n",
    "    weights = np.dot(matinv, xtransy)\n",
    "    return weights"
   ]
  },
  {
   "cell_type": "code",
   "execution_count": 97,
   "metadata": {},
   "outputs": [],
   "source": [
    "def ridge_regression_demo(x, y, degree, ratio, seed):\n",
    "    \"\"\"ridge regression demo.\"\"\"\n",
    "    # define parameter\n",
    "    lambdas = np.logspace(-5, 0, 15)\n",
    "    # ***************************************************\n",
    "    # INSERT YOUR CODE HERE\n",
    "    # split the data, and return train and test data: TODO\n",
    "    # ***************************************************\n",
    "    train_x,train_y,test_x, test_y = split_data(x, y, ratio, seed)\n",
    "    # ***************************************************\n",
    "    # INSERT YOUR CODE HERE\n",
    "    # form train and test data with polynomial basis function: TODO\n",
    "    # ***************************************************\n",
    "    X_P_train = build_poly(train_x,degree)\n",
    "    X_P_test = build_poly(test_x,degree)\n",
    "\n",
    "    rmse_tr = []\n",
    "    rmse_te = []\n",
    "    for ind, lambda_ in enumerate(lambdas):\n",
    "        # ***************************************************\n",
    "        # INSERT YOUR CODE HERE\n",
    "        # ridge regression with a given lambda\n",
    "        # ***************************************************\n",
    "        weights = ridge_regression(train_y,X_P_train,lambda_)\n",
    "        rmse_tr.append(np.sqrt(compute_loss(train_y,X_P_train,weights)))\n",
    "        rmse_te.append(np.sqrt(compute_loss(test_y,X_P_test,weights)))\n",
    "        print(\"proportion={p}, degree={d}, lambda={l:.3f}, Training RMSE={tr:.3f}, Testing RMSE={te:.3f}\".format(\n",
    "               p=ratio, d=degree, l=lambda_, tr=rmse_tr[ind], te=rmse_te[ind]))\n",
    "        \n",
    "    # Plot the obtained results\n",
    "    plot_train_test(rmse_tr, rmse_te, lambdas, degree)\n",
    "\n",
    "    return\n"
   ]
  },
  {
   "cell_type": "code",
   "execution_count": 98,
   "metadata": {
    "scrolled": false
   },
   "outputs": [
    {
     "name": "stdout",
     "output_type": "stream",
     "text": [
      "proportion=0.5, degree=7, lambda=0.000, Training RMSE=0.164, Testing RMSE=0.214\n",
      "proportion=0.5, degree=7, lambda=0.000, Training RMSE=0.166, Testing RMSE=0.209\n",
      "proportion=0.5, degree=7, lambda=0.000, Training RMSE=0.168, Testing RMSE=0.204\n",
      "proportion=0.5, degree=7, lambda=0.000, Training RMSE=0.171, Testing RMSE=0.200\n",
      "proportion=0.5, degree=7, lambda=0.000, Training RMSE=0.173, Testing RMSE=0.197\n",
      "proportion=0.5, degree=7, lambda=0.001, Training RMSE=0.175, Testing RMSE=0.196\n",
      "proportion=0.5, degree=7, lambda=0.001, Training RMSE=0.175, Testing RMSE=0.195\n",
      "proportion=0.5, degree=7, lambda=0.003, Training RMSE=0.176, Testing RMSE=0.194\n",
      "proportion=0.5, degree=7, lambda=0.007, Training RMSE=0.177, Testing RMSE=0.192\n",
      "proportion=0.5, degree=7, lambda=0.016, Training RMSE=0.178, Testing RMSE=0.190\n",
      "proportion=0.5, degree=7, lambda=0.037, Training RMSE=0.181, Testing RMSE=0.188\n",
      "proportion=0.5, degree=7, lambda=0.085, Training RMSE=0.190, Testing RMSE=0.189\n",
      "proportion=0.5, degree=7, lambda=0.193, Training RMSE=0.210, Testing RMSE=0.198\n",
      "proportion=0.5, degree=7, lambda=0.439, Training RMSE=0.240, Testing RMSE=0.216\n",
      "proportion=0.5, degree=7, lambda=1.000, Training RMSE=0.269, Testing RMSE=0.237\n"
     ]
    },
    {
     "data": {
      "image/png": "[encoded data removed]",
      "text/plain": [
       "<Figure size 432x288 with 1 Axes>"
      ]
     },
     "metadata": {
      "needs_background": "light"
     },
     "output_type": "display_data"
    }
   ],
   "source": [
    "seed = 56\n",
    "degree = 7\n",
    "split_ratio = 0.5\n",
    "ridge_regression_demo(x, y, degree, split_ratio, seed)"
   ]
  },
  {
   "cell_type": "code",
   "execution_count": null,
   "metadata": {},
   "outputs": [],
   "source": []
  },
  {
   "cell_type": "code",
   "execution_count": null,
   "metadata": {},
   "outputs": [],
   "source": []
  }
 ],
 "metadata": {
  "anaconda-cloud": {},
  "kernelspec": {
   "display_name": "Python 3",
   "language": "python",
   "name": "python3"
  },
  "language_info": {
   "codemirror_mode": {
    "name": "ipython",
    "version": 3
   },
   "file_extension": ".py",
   "mimetype": "text/x-python",
   "name": "python",
   "nbconvert_exporter": "python",
   "pygments_lexer": "ipython3",
   "version": "3.7.3"
  }
 },
 "nbformat": 4,
 "nbformat_minor": 1
}
