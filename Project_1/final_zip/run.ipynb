{
 "cells": [
  {
   "cell_type": "code",
   "execution_count": 21,
   "metadata": {},
   "outputs": [
    {
     "name": "stdout",
     "output_type": "stream",
     "text": [
      "The autoreload extension is already loaded. To reload it, use:\n",
      "  %reload_ext autoreload\n"
     ]
    }
   ],
   "source": [
    "from helpers import *\n",
    "from implementations import ridge_regression\n",
    "import numpy as np\n",
    "%load_ext autoreload\n",
    "%autoreload 2\n",
    "\n",
    "# original data loading\n",
    "DATA_TRAIN_PATH = 'train.csv'\n",
    "y, tX, ids = load_csv_data(DATA_TRAIN_PATH)"
   ]
  },
  {
   "cell_type": "code",
   "execution_count": 22,
   "metadata": {},
   "outputs": [
    {
     "name": "stdout",
     "output_type": "stream",
     "text": [
      "0.81366\n"
     ]
    }
   ],
   "source": [
    "# split 80/20 dataset\n",
    "x_tr_tot, x_te_tot, y_tr_tot, y_te_tot = split_data(y,tX,0.8,1)\n",
    "\n",
    "# apply preprocessing to train and test sets\n",
    "y_tr, tX_tr, indexes_tr, means_tr, std_tr = preprocessing(x_tr_tot, y_tr_tot)\n",
    "y_te, tX_te, indexes_te, means_te, std_te = preprocessing(x_te_tot, y_te_tot)\n",
    "\n",
    "#hardcoded parameter from ridge regression\n",
    "degrees_star = [7, 8, 5, 8, 5, 8, 2, 8]\n",
    "lambdas_star = [2.395026619987491e-09, 1e-10, 4.893900918477499e-10, 5.298316906283702e-09, 1e-10, 1e-10, 1e-10, 4.893900918477499e-10]\n",
    "\n",
    "# compute parameters by using cross validation on train set\n",
    "# !NOTE: this function is commented because it needs more than 1 hour to run: the resulting parameters are hard coded for simplicity (uncomment if you wan to run it)\n",
    "#degrees_star, lambdas_star = select_best_hypers_ridge(y_tr, tX_tr, max_degree = 9, k_fold = 12, min_lambda_pow = -10, max_lambda_pow = 0)\n",
    "\n",
    "#computing w with tuned hyper-parameters\n",
    "w = []\n",
    "for jet in range(0,8):\n",
    "    x_tr_poly = build_poly(tX_tr[jet], degrees_star[jet])\n",
    "    w_star, loss = ridge_regression(y_tr[jet], x_tr_poly, lambdas_star[jet])\n",
    "    w.append(w_star)\n",
    "    \n",
    "#computing accuracy on our test set\n",
    "y_pred = build_predictions(tX_te, indexes_te, w, degrees_star)\n",
    "acc = accuracy(y_te_tot, y_pred)\n",
    "print(acc)\n",
    "\n",
    "#preparing data for submission\n",
    "DATA_TEST_PATH = 'test.csv'\n",
    "_, tX_test, ids_test = load_csv_data(DATA_TEST_PATH)\n",
    "tX_test_new, indexes_test_new, means_test, stds_test = preprocessing(tX_test) # same function as train, when run without y doesn't compute nothing on that\n",
    "\n",
    "#building submission\n",
    "y_pred_test = build_predictions(tX_test_new, indexes_test_new, w, degrees_star)\n",
    "OUTPUT_PATH = 'submission.csv'\n",
    "create_csv_submission(ids_test, y_pred_test, OUTPUT_PATH)"
   ]
  }
 ],
 "metadata": {
  "kernelspec": {
   "display_name": "Python [conda env:ml] *",
   "language": "python",
   "name": "conda-env-ml-py"
  },
  "language_info": {
   "codemirror_mode": {
    "name": "ipython",
    "version": 3
   },
   "file_extension": ".py",
   "mimetype": "text/x-python",
   "name": "python",
   "nbconvert_exporter": "python",
   "pygments_lexer": "ipython3",
   "version": "3.7.4"
  }
 },
 "nbformat": 4,
 "nbformat_minor": 4
}
