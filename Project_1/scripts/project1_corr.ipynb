{
 "cells": [
  {
   "cell_type": "code",
   "execution_count": 1,
   "metadata": {},
   "outputs": [],
   "source": [
    "# Useful starting lines\n",
    "%matplotlib inline\n",
    "import numpy as np\n",
    "import matplotlib.pyplot as plt\n",
    "%load_ext autoreload\n",
    "%autoreload 2\n",
    "from costs import *"
   ]
  },
  {
   "cell_type": "markdown",
   "metadata": {},
   "source": [
    "## Load the training data into feature matrix, class labels, and event ids:"
   ]
  },
  {
   "cell_type": "code",
   "execution_count": 2,
   "metadata": {},
   "outputs": [],
   "source": [
    "from proj1_helpers import *\n",
    "DATA_TRAIN_PATH = '../data/train.csv'\n",
    "y, tX, ids = load_csv_data(DATA_TRAIN_PATH)"
   ]
  },
  {
   "cell_type": "markdown",
   "metadata": {},
   "source": [
    "## Data preprocessing"
   ]
  },
  {
   "cell_type": "code",
   "execution_count": 3,
   "metadata": {},
   "outputs": [
    {
     "data": {
      "text/html": [
       "<div>\n",
       "<style scoped>\n",
       "    .dataframe tbody tr th:only-of-type {\n",
       "        vertical-align: middle;\n",
       "    }\n",
       "\n",
       "    .dataframe tbody tr th {\n",
       "        vertical-align: top;\n",
       "    }\n",
       "\n",
       "    .dataframe thead th {\n",
       "        text-align: right;\n",
       "    }\n",
       "</style>\n",
       "<table border=\"1\" class=\"dataframe\">\n",
       "  <thead>\n",
       "    <tr style=\"text-align: right;\">\n",
       "      <th></th>\n",
       "      <th>0</th>\n",
       "      <th>1</th>\n",
       "      <th>2</th>\n",
       "      <th>3</th>\n",
       "      <th>4</th>\n",
       "      <th>5</th>\n",
       "      <th>6</th>\n",
       "      <th>7</th>\n",
       "      <th>8</th>\n",
       "      <th>9</th>\n",
       "      <th>...</th>\n",
       "      <th>20</th>\n",
       "      <th>21</th>\n",
       "      <th>22</th>\n",
       "      <th>23</th>\n",
       "      <th>24</th>\n",
       "      <th>25</th>\n",
       "      <th>26</th>\n",
       "      <th>27</th>\n",
       "      <th>28</th>\n",
       "      <th>29</th>\n",
       "    </tr>\n",
       "  </thead>\n",
       "  <tbody>\n",
       "    <tr>\n",
       "      <td>0</td>\n",
       "      <td>138.470</td>\n",
       "      <td>51.655</td>\n",
       "      <td>97.827</td>\n",
       "      <td>27.980</td>\n",
       "      <td>0.910</td>\n",
       "      <td>124.711</td>\n",
       "      <td>2.666</td>\n",
       "      <td>3.064</td>\n",
       "      <td>41.928</td>\n",
       "      <td>197.760</td>\n",
       "      <td>...</td>\n",
       "      <td>-0.277</td>\n",
       "      <td>258.733</td>\n",
       "      <td>2.0</td>\n",
       "      <td>67.435</td>\n",
       "      <td>2.150</td>\n",
       "      <td>0.444</td>\n",
       "      <td>46.062</td>\n",
       "      <td>1.240</td>\n",
       "      <td>-2.475</td>\n",
       "      <td>113.497</td>\n",
       "    </tr>\n",
       "    <tr>\n",
       "      <td>1</td>\n",
       "      <td>160.937</td>\n",
       "      <td>68.768</td>\n",
       "      <td>103.235</td>\n",
       "      <td>48.146</td>\n",
       "      <td>-999.000</td>\n",
       "      <td>-999.000</td>\n",
       "      <td>-999.000</td>\n",
       "      <td>3.473</td>\n",
       "      <td>2.078</td>\n",
       "      <td>125.157</td>\n",
       "      <td>...</td>\n",
       "      <td>-1.916</td>\n",
       "      <td>164.546</td>\n",
       "      <td>1.0</td>\n",
       "      <td>46.226</td>\n",
       "      <td>0.725</td>\n",
       "      <td>1.158</td>\n",
       "      <td>-999.000</td>\n",
       "      <td>-999.000</td>\n",
       "      <td>-999.000</td>\n",
       "      <td>46.226</td>\n",
       "    </tr>\n",
       "    <tr>\n",
       "      <td>2</td>\n",
       "      <td>-999.000</td>\n",
       "      <td>162.172</td>\n",
       "      <td>125.953</td>\n",
       "      <td>35.635</td>\n",
       "      <td>-999.000</td>\n",
       "      <td>-999.000</td>\n",
       "      <td>-999.000</td>\n",
       "      <td>3.148</td>\n",
       "      <td>9.336</td>\n",
       "      <td>197.814</td>\n",
       "      <td>...</td>\n",
       "      <td>-2.186</td>\n",
       "      <td>260.414</td>\n",
       "      <td>1.0</td>\n",
       "      <td>44.251</td>\n",
       "      <td>2.053</td>\n",
       "      <td>-2.028</td>\n",
       "      <td>-999.000</td>\n",
       "      <td>-999.000</td>\n",
       "      <td>-999.000</td>\n",
       "      <td>44.251</td>\n",
       "    </tr>\n",
       "    <tr>\n",
       "      <td>3</td>\n",
       "      <td>143.905</td>\n",
       "      <td>81.417</td>\n",
       "      <td>80.943</td>\n",
       "      <td>0.414</td>\n",
       "      <td>-999.000</td>\n",
       "      <td>-999.000</td>\n",
       "      <td>-999.000</td>\n",
       "      <td>3.310</td>\n",
       "      <td>0.414</td>\n",
       "      <td>75.968</td>\n",
       "      <td>...</td>\n",
       "      <td>0.060</td>\n",
       "      <td>86.062</td>\n",
       "      <td>0.0</td>\n",
       "      <td>-999.000</td>\n",
       "      <td>-999.000</td>\n",
       "      <td>-999.000</td>\n",
       "      <td>-999.000</td>\n",
       "      <td>-999.000</td>\n",
       "      <td>-999.000</td>\n",
       "      <td>0.000</td>\n",
       "    </tr>\n",
       "    <tr>\n",
       "      <td>4</td>\n",
       "      <td>175.864</td>\n",
       "      <td>16.915</td>\n",
       "      <td>134.805</td>\n",
       "      <td>16.405</td>\n",
       "      <td>-999.000</td>\n",
       "      <td>-999.000</td>\n",
       "      <td>-999.000</td>\n",
       "      <td>3.891</td>\n",
       "      <td>16.405</td>\n",
       "      <td>57.983</td>\n",
       "      <td>...</td>\n",
       "      <td>-0.871</td>\n",
       "      <td>53.131</td>\n",
       "      <td>0.0</td>\n",
       "      <td>-999.000</td>\n",
       "      <td>-999.000</td>\n",
       "      <td>-999.000</td>\n",
       "      <td>-999.000</td>\n",
       "      <td>-999.000</td>\n",
       "      <td>-999.000</td>\n",
       "      <td>0.000</td>\n",
       "    </tr>\n",
       "    <tr>\n",
       "      <td>5</td>\n",
       "      <td>89.744</td>\n",
       "      <td>13.550</td>\n",
       "      <td>59.149</td>\n",
       "      <td>116.344</td>\n",
       "      <td>2.636</td>\n",
       "      <td>284.584</td>\n",
       "      <td>-0.540</td>\n",
       "      <td>1.362</td>\n",
       "      <td>61.619</td>\n",
       "      <td>278.876</td>\n",
       "      <td>...</td>\n",
       "      <td>2.237</td>\n",
       "      <td>282.849</td>\n",
       "      <td>3.0</td>\n",
       "      <td>90.547</td>\n",
       "      <td>-2.412</td>\n",
       "      <td>-0.653</td>\n",
       "      <td>56.165</td>\n",
       "      <td>0.224</td>\n",
       "      <td>3.106</td>\n",
       "      <td>193.660</td>\n",
       "    </tr>\n",
       "    <tr>\n",
       "      <td>6</td>\n",
       "      <td>148.754</td>\n",
       "      <td>28.862</td>\n",
       "      <td>107.782</td>\n",
       "      <td>106.130</td>\n",
       "      <td>0.733</td>\n",
       "      <td>158.359</td>\n",
       "      <td>0.113</td>\n",
       "      <td>2.941</td>\n",
       "      <td>2.545</td>\n",
       "      <td>305.967</td>\n",
       "      <td>...</td>\n",
       "      <td>-1.443</td>\n",
       "      <td>294.074</td>\n",
       "      <td>2.0</td>\n",
       "      <td>123.010</td>\n",
       "      <td>0.864</td>\n",
       "      <td>1.450</td>\n",
       "      <td>56.867</td>\n",
       "      <td>0.131</td>\n",
       "      <td>-2.767</td>\n",
       "      <td>179.877</td>\n",
       "    </tr>\n",
       "    <tr>\n",
       "      <td>7</td>\n",
       "      <td>154.916</td>\n",
       "      <td>10.418</td>\n",
       "      <td>94.714</td>\n",
       "      <td>29.169</td>\n",
       "      <td>-999.000</td>\n",
       "      <td>-999.000</td>\n",
       "      <td>-999.000</td>\n",
       "      <td>2.897</td>\n",
       "      <td>1.526</td>\n",
       "      <td>138.178</td>\n",
       "      <td>...</td>\n",
       "      <td>-1.761</td>\n",
       "      <td>187.299</td>\n",
       "      <td>1.0</td>\n",
       "      <td>30.638</td>\n",
       "      <td>-0.715</td>\n",
       "      <td>-1.724</td>\n",
       "      <td>-999.000</td>\n",
       "      <td>-999.000</td>\n",
       "      <td>-999.000</td>\n",
       "      <td>30.638</td>\n",
       "    </tr>\n",
       "    <tr>\n",
       "      <td>8</td>\n",
       "      <td>105.594</td>\n",
       "      <td>50.559</td>\n",
       "      <td>100.989</td>\n",
       "      <td>4.288</td>\n",
       "      <td>-999.000</td>\n",
       "      <td>-999.000</td>\n",
       "      <td>-999.000</td>\n",
       "      <td>2.904</td>\n",
       "      <td>4.288</td>\n",
       "      <td>65.333</td>\n",
       "      <td>...</td>\n",
       "      <td>0.024</td>\n",
       "      <td>129.804</td>\n",
       "      <td>0.0</td>\n",
       "      <td>-999.000</td>\n",
       "      <td>-999.000</td>\n",
       "      <td>-999.000</td>\n",
       "      <td>-999.000</td>\n",
       "      <td>-999.000</td>\n",
       "      <td>-999.000</td>\n",
       "      <td>0.000</td>\n",
       "    </tr>\n",
       "    <tr>\n",
       "      <td>9</td>\n",
       "      <td>128.053</td>\n",
       "      <td>88.941</td>\n",
       "      <td>69.272</td>\n",
       "      <td>193.392</td>\n",
       "      <td>-999.000</td>\n",
       "      <td>-999.000</td>\n",
       "      <td>-999.000</td>\n",
       "      <td>1.609</td>\n",
       "      <td>28.859</td>\n",
       "      <td>255.123</td>\n",
       "      <td>...</td>\n",
       "      <td>0.845</td>\n",
       "      <td>294.741</td>\n",
       "      <td>1.0</td>\n",
       "      <td>167.735</td>\n",
       "      <td>-2.767</td>\n",
       "      <td>-2.514</td>\n",
       "      <td>-999.000</td>\n",
       "      <td>-999.000</td>\n",
       "      <td>-999.000</td>\n",
       "      <td>167.735</td>\n",
       "    </tr>\n",
       "  </tbody>\n",
       "</table>\n",
       "<p>10 rows × 30 columns</p>\n",
       "</div>"
      ],
      "text/plain": [
       "        0        1        2        3        4        5        6      7   \\\n",
       "0  138.470   51.655   97.827   27.980    0.910  124.711    2.666  3.064   \n",
       "1  160.937   68.768  103.235   48.146 -999.000 -999.000 -999.000  3.473   \n",
       "2 -999.000  162.172  125.953   35.635 -999.000 -999.000 -999.000  3.148   \n",
       "3  143.905   81.417   80.943    0.414 -999.000 -999.000 -999.000  3.310   \n",
       "4  175.864   16.915  134.805   16.405 -999.000 -999.000 -999.000  3.891   \n",
       "5   89.744   13.550   59.149  116.344    2.636  284.584   -0.540  1.362   \n",
       "6  148.754   28.862  107.782  106.130    0.733  158.359    0.113  2.941   \n",
       "7  154.916   10.418   94.714   29.169 -999.000 -999.000 -999.000  2.897   \n",
       "8  105.594   50.559  100.989    4.288 -999.000 -999.000 -999.000  2.904   \n",
       "9  128.053   88.941   69.272  193.392 -999.000 -999.000 -999.000  1.609   \n",
       "\n",
       "       8        9   ...     20       21   22       23       24       25  \\\n",
       "0  41.928  197.760  ... -0.277  258.733  2.0   67.435    2.150    0.444   \n",
       "1   2.078  125.157  ... -1.916  164.546  1.0   46.226    0.725    1.158   \n",
       "2   9.336  197.814  ... -2.186  260.414  1.0   44.251    2.053   -2.028   \n",
       "3   0.414   75.968  ...  0.060   86.062  0.0 -999.000 -999.000 -999.000   \n",
       "4  16.405   57.983  ... -0.871   53.131  0.0 -999.000 -999.000 -999.000   \n",
       "5  61.619  278.876  ...  2.237  282.849  3.0   90.547   -2.412   -0.653   \n",
       "6   2.545  305.967  ... -1.443  294.074  2.0  123.010    0.864    1.450   \n",
       "7   1.526  138.178  ... -1.761  187.299  1.0   30.638   -0.715   -1.724   \n",
       "8   4.288   65.333  ...  0.024  129.804  0.0 -999.000 -999.000 -999.000   \n",
       "9  28.859  255.123  ...  0.845  294.741  1.0  167.735   -2.767   -2.514   \n",
       "\n",
       "        26       27       28       29  \n",
       "0   46.062    1.240   -2.475  113.497  \n",
       "1 -999.000 -999.000 -999.000   46.226  \n",
       "2 -999.000 -999.000 -999.000   44.251  \n",
       "3 -999.000 -999.000 -999.000    0.000  \n",
       "4 -999.000 -999.000 -999.000    0.000  \n",
       "5   56.165    0.224    3.106  193.660  \n",
       "6   56.867    0.131   -2.767  179.877  \n",
       "7 -999.000 -999.000 -999.000   30.638  \n",
       "8 -999.000 -999.000 -999.000    0.000  \n",
       "9 -999.000 -999.000 -999.000  167.735  \n",
       "\n",
       "[10 rows x 30 columns]"
      ]
     },
     "execution_count": 3,
     "metadata": {},
     "output_type": "execute_result"
    }
   ],
   "source": [
    "import pandas as pd\n",
    "tX_pd = pd.DataFrame(tX)\n",
    "tX_pd.head(10)"
   ]
  },
  {
   "cell_type": "code",
   "execution_count": 4,
   "metadata": {},
   "outputs": [],
   "source": [
    "drops = [5,6,12,24,25,26,27,28]"
   ]
  },
  {
   "cell_type": "code",
   "execution_count": 5,
   "metadata": {},
   "outputs": [],
   "source": [
    "tX_pd.drop(drops, inplace=True, axis=1)"
   ]
  },
  {
   "cell_type": "code",
   "execution_count": 71,
   "metadata": {},
   "outputs": [
    {
     "data": {
      "text/plain": [
       "<matplotlib.axes._subplots.AxesSubplot at 0x7fc0e9ee9518>"
      ]
     },
     "execution_count": 71,
     "metadata": {},
     "output_type": "execute_result"
    },
    {
     "data": {
      "image/png": "[encoded data removed]",
      "text/plain": [
       "<Figure size 792x648 with 2 Axes>"
      ]
     },
     "metadata": {},
     "output_type": "display_data"
    }
   ],
   "source": [
    "\n",
    "sns.set(style=\"white\")\n",
    "\n",
    "d = tX_pd\n",
    "# Compute the correlation matrix\n",
    "corr = d.corr()\n",
    "\n",
    "# Generate a mask for the upper triangle\n",
    "mask = np.zeros_like(corr, dtype=np.bool)\n",
    "mask[np.triu_indices_from(mask)] = True\n",
    "\n",
    "# Set up the matplotlib figure\n",
    "f, ax = plt.subplots(figsize=(11, 11))\n",
    "\n",
    "# Generate a custom diverging colormap\n",
    "cmap = sns.diverging_palette(220, 10, as_cmap=True)\n",
    "\n",
    "# Draw the heatmap with the mask and correct aspect ratio\n",
    "sns.heatmap(corr, mask=mask, cmap=cmap, vmax=1, center=0,\n",
    "            square=True, linewidths=.5, cbar_kws={\"shrink\": .5})"
   ]
  },
  {
   "cell_type": "code",
   "execution_count": 6,
   "metadata": {},
   "outputs": [
    {
     "data": {
      "text/plain": [
       "<matplotlib.axes._subplots.AxesSubplot at 0x7ff2baaee390>"
      ]
     },
     "execution_count": 6,
     "metadata": {},
     "output_type": "execute_result"
    },
    {
     "data": {
      "image/png": "[encoded data removed]",
      "text/plain": [
       "<Figure size 1440x1296 with 1 Axes>"
      ]
     },
     "metadata": {
      "needs_background": "light"
     },
     "output_type": "display_data"
    }
   ],
   "source": [
    "tX_pd[[1,2,3,8]].plot.density(figsize=(20,18))"
   ]
  },
  {
   "cell_type": "code",
   "execution_count": 43,
   "metadata": {},
   "outputs": [
    {
     "name": "stdout",
     "output_type": "stream",
     "text": [
      "13.09 12.940000000000001\n"
     ]
    }
   ],
   "source": [
    "print(np.sum(corr.round(2)[9]),np.sum(corr.round(2)[29]))"
   ]
  },
  {
   "cell_type": "code",
   "execution_count": 34,
   "metadata": {},
   "outputs": [
    {
     "name": "stderr",
     "output_type": "stream",
     "text": [
      "'c' argument looks like a single numeric RGB or RGBA sequence, which should be avoided as value-mapping will have precedence in case its length matches with 'x' & 'y'.  Please use a 2-D array with a single row if you really want to specify the same RGB or RGBA value for all points.\n"
     ]
    },
    {
     "data": {
      "text/plain": [
       "<matplotlib.axes._subplots.AxesSubplot at 0x7fc0f028cc18>"
      ]
     },
     "execution_count": 34,
     "metadata": {},
     "output_type": "execute_result"
    },
    {
     "data": {
      "text/plain": [
       "<Figure size 1440x1296 with 0 Axes>"
      ]
     },
     "metadata": {},
     "output_type": "display_data"
    },
    {
     "data": {
      "image/png": "[encoded data removed]",
      "text/plain": [
       "<Figure size 1440x1296 with 1 Axes>"
      ]
     },
     "metadata": {},
     "output_type": "display_data"
    }
   ],
   "source": [
    "plt.figure(figsize=(20,18))\n",
    "tX_pd.plot.scatter(9,29, figsize=(20,18))"
   ]
  },
  {
   "cell_type": "code",
   "execution_count": 44,
   "metadata": {},
   "outputs": [
    {
     "name": "stdout",
     "output_type": "stream",
     "text": [
      "4 177457\n",
      "5 177457\n",
      "6 177457\n",
      "12 177457\n",
      "26 177457\n",
      "27 177457\n",
      "28 177457\n"
     ]
    }
   ],
   "source": [
    "for i in range(0,30):\n",
    "    s = tX_pd[tX_pd[i]==-999].index.size\n",
    "    if s > 150000:\n",
    "        print(i, s)\n",
    "        tX_pd.drop(i, axis=1, inplace=True)"
   ]
  },
  {
   "cell_type": "code",
   "execution_count": 45,
   "metadata": {},
   "outputs": [
    {
     "data": {
      "text/plain": [
       "23"
      ]
     },
     "execution_count": 45,
     "metadata": {},
     "output_type": "execute_result"
    }
   ],
   "source": [
    "tX_pd.columns.size"
   ]
  },
  {
   "cell_type": "code",
   "execution_count": 46,
   "metadata": {},
   "outputs": [
    {
     "data": {
      "text/plain": [
       "(250000, 23)"
      ]
     },
     "execution_count": 46,
     "metadata": {},
     "output_type": "execute_result"
    }
   ],
   "source": [
    "tX_clean = tX_pd.values\n",
    "tX_clean.shape"
   ]
  },
  {
   "cell_type": "code",
   "execution_count": 47,
   "metadata": {},
   "outputs": [],
   "source": [
    "tX = tX_clean"
   ]
  },
  {
   "cell_type": "code",
   "execution_count": 48,
   "metadata": {},
   "outputs": [],
   "source": [
    "#normalize data\n",
    "from helpers import *\n",
    "tX, mean_x, std_x = standardize(tX)"
   ]
  },
  {
   "cell_type": "code",
   "execution_count": 49,
   "metadata": {},
   "outputs": [
    {
     "data": {
      "text/plain": [
       "(250000, 23)"
      ]
     },
     "execution_count": 49,
     "metadata": {},
     "output_type": "execute_result"
    }
   ],
   "source": [
    "tX.shape"
   ]
  },
  {
   "cell_type": "code",
   "execution_count": 50,
   "metadata": {},
   "outputs": [
    {
     "data": {
      "text/plain": [
       "array([[ 0.61210652,  0.27263912,  0.45318267, ...,  0.07906273,\n",
       "         0.07239186,  0.51445612],\n",
       "       [ 0.69995786,  0.33955504,  0.47432925, ...,  0.07349064,\n",
       "         0.07518377,  0.25141043],\n",
       "       [-3.83567311,  0.70478701,  0.56316206, ...,  0.07868344,\n",
       "         0.06272575,  0.24368771],\n",
       "       ...,\n",
       "       [ 0.4830178 ,  0.30732685,  0.36720434, ...,  0.07769415,\n",
       "         0.07000662,  0.23485448],\n",
       "       [ 0.44193683,  0.14636577,  0.33972709, ..., -3.83567311,\n",
       "        -3.83567311,  0.07065572],\n",
       "       [-3.83567311,  0.35514907,  0.34762186, ..., -3.83567311,\n",
       "        -3.83567311,  0.07065572]])"
      ]
     },
     "execution_count": 50,
     "metadata": {},
     "output_type": "execute_result"
    }
   ],
   "source": [
    "tX"
   ]
  },
  {
   "cell_type": "code",
   "execution_count": 51,
   "metadata": {},
   "outputs": [],
   "source": [
    "#polynomial basis\n",
    "def build_poly(x, degree):\n",
    "    \"\"\"polynomial basis functions for input data x, for j=0 up to j=degree.\"\"\"\n",
    "    for d in range (0, degree+1):\n",
    "        if d==0:\n",
    "            psi=np.power(x,d)\n",
    "        else:\n",
    "            psi = np.hstack((psi, np.power(x,d)))\n",
    "    return psi\n"
   ]
  },
  {
   "cell_type": "code",
   "execution_count": 53,
   "metadata": {},
   "outputs": [
    {
     "data": {
      "text/plain": [
       "(250000, 184)"
      ]
     },
     "execution_count": 53,
     "metadata": {},
     "output_type": "execute_result"
    }
   ],
   "source": [
    "xpoly = build_poly(tX,7)\n",
    "xpoly.shape"
   ]
  },
  {
   "cell_type": "code",
   "execution_count": 54,
   "metadata": {},
   "outputs": [],
   "source": [
    "def build_k_indices(y, k_fold, seed):\n",
    "    \"\"\"build k indices for k-fold.\"\"\"\n",
    "    num_row = y.shape[0]\n",
    "    interval = int(num_row / k_fold)\n",
    "    np.random.seed(seed)\n",
    "    indices = np.random.permutation(num_row)\n",
    "    k_indices = [indices[k * interval: (k + 1) * interval]\n",
    "                 for k in range(k_fold)]\n",
    "    return np.array(k_indices)"
   ]
  },
  {
   "cell_type": "code",
   "execution_count": 55,
   "metadata": {},
   "outputs": [],
   "source": [
    "from costs import *\n",
    "def compute_rmse(y, x, w):\n",
    "    l = compute_loss(y, x, w)\n",
    "    return np.math.sqrt(2*l)"
   ]
  },
  {
   "cell_type": "code",
   "execution_count": 56,
   "metadata": {},
   "outputs": [],
   "source": [
    "import matplotlib.pyplot as plt\n",
    "\n",
    "def cross_validation(y, x, k_indices, k, lambda_, degree, mean=True):\n",
    "    \"\"\"return the loss of ridge regression.\"\"\"\n",
    "    losses_tr = []\n",
    "    losses_te = []\n",
    "    for k_group in range(k):\n",
    "        index_te = k_indices[k_group]\n",
    "        index_tr = np.setdiff1d(np.arange(len(y)), index_te)\n",
    "        x_te = x[index_te]\n",
    "        x_tr = x[index_tr]\n",
    "        y_te = y[index_te]\n",
    "        y_tr = y[index_tr]\n",
    "    # ***************************************************\n",
    "    # INSERT YOUR CODE HERE\n",
    "    # get k'th subgroup in test, others in train: TODO\n",
    "    # ***************************************************\n",
    "        x_te_poly = build_poly(x_te, degree)\n",
    "        x_tr_poly = build_poly(x_tr, degree)\n",
    "    # ***************************************************\n",
    "    # INSERT YOUR CODE HERE\n",
    "    # form data with polynomial degree: TODO\n",
    "    # ***************************************************\n",
    "        w = ridge_regression(y_tr, x_tr_poly, lambda_)\n",
    "    # ***************************************************\n",
    "    # INSERT YOUR CODE HERE\n",
    "    # ridge regression: TODO\n",
    "    # ***************************************************\n",
    "        rmse_tr = compute_rmse(y_tr, x_tr_poly, w)\n",
    "        rmse_te = compute_rmse(y_te, x_te_poly, w)\n",
    "        losses_tr.append(rmse_tr)\n",
    "        losses_te.append(rmse_te)\n",
    "    # ***************************************************\n",
    "    # INSERT YOUR CODE HERE\n",
    "    # calculate the loss for train and test data: TODO\n",
    "    # ***************************************************\n",
    "    if mean==True:\n",
    "        loss_tr = np.mean(losses_tr)\n",
    "        loss_te = np.mean(losses_te)\n",
    "    else:\n",
    "        loss_tr = losses_tr\n",
    "        loss_te = losses_te\n",
    "    return loss_tr, loss_te"
   ]
  },
  {
   "cell_type": "code",
   "execution_count": 57,
   "metadata": {},
   "outputs": [
    {
     "ename": "NameError",
     "evalue": "name 'ridge_regression' is not defined",
     "output_type": "error",
     "traceback": [
      "\u001b[0;31m---------------------------------------------------------------------------\u001b[0m",
      "\u001b[0;31mNameError\u001b[0m                                 Traceback (most recent call last)",
      "\u001b[0;32m<ipython-input-57-0efeabf79451>\u001b[0m in \u001b[0;36m<module>\u001b[0;34m\u001b[0m\n\u001b[1;32m     22\u001b[0m     \u001b[0mcross_validation_visualization\u001b[0m\u001b[0;34m(\u001b[0m\u001b[0mlambdas\u001b[0m\u001b[0;34m,\u001b[0m \u001b[0mrmse_tr\u001b[0m\u001b[0;34m,\u001b[0m \u001b[0mrmse_te\u001b[0m\u001b[0;34m)\u001b[0m\u001b[0;34m\u001b[0m\u001b[0;34m\u001b[0m\u001b[0m\n\u001b[1;32m     23\u001b[0m \u001b[0;34m\u001b[0m\u001b[0m\n\u001b[0;32m---> 24\u001b[0;31m \u001b[0mcross_validation_demo\u001b[0m\u001b[0;34m(\u001b[0m\u001b[0;34m)\u001b[0m\u001b[0;34m\u001b[0m\u001b[0;34m\u001b[0m\u001b[0m\n\u001b[0m",
      "\u001b[0;32m<ipython-input-57-0efeabf79451>\u001b[0m in \u001b[0;36mcross_validation_demo\u001b[0;34m()\u001b[0m\n\u001b[1;32m     13\u001b[0m     \u001b[0mrmse_te\u001b[0m \u001b[0;34m=\u001b[0m \u001b[0;34m[\u001b[0m\u001b[0;34m]\u001b[0m\u001b[0;34m\u001b[0m\u001b[0;34m\u001b[0m\u001b[0m\n\u001b[1;32m     14\u001b[0m     \u001b[0;32mfor\u001b[0m \u001b[0mlambda_\u001b[0m \u001b[0;32min\u001b[0m \u001b[0mlambdas\u001b[0m\u001b[0;34m:\u001b[0m\u001b[0;34m\u001b[0m\u001b[0;34m\u001b[0m\u001b[0m\n\u001b[0;32m---> 15\u001b[0;31m         \u001b[0mloss_tr\u001b[0m\u001b[0;34m,\u001b[0m \u001b[0mloss_te\u001b[0m \u001b[0;34m=\u001b[0m \u001b[0mcross_validation\u001b[0m\u001b[0;34m(\u001b[0m\u001b[0my\u001b[0m\u001b[0;34m,\u001b[0m \u001b[0mtX\u001b[0m\u001b[0;34m,\u001b[0m \u001b[0mk_indices\u001b[0m\u001b[0;34m,\u001b[0m \u001b[0mk_fold\u001b[0m\u001b[0;34m,\u001b[0m \u001b[0mlambda_\u001b[0m\u001b[0;34m,\u001b[0m \u001b[0mdegree\u001b[0m\u001b[0;34m)\u001b[0m\u001b[0;34m\u001b[0m\u001b[0;34m\u001b[0m\u001b[0m\n\u001b[0m\u001b[1;32m     16\u001b[0m         \u001b[0mrmse_tr\u001b[0m\u001b[0;34m.\u001b[0m\u001b[0mappend\u001b[0m\u001b[0;34m(\u001b[0m\u001b[0mloss_tr\u001b[0m\u001b[0;34m)\u001b[0m\u001b[0;34m\u001b[0m\u001b[0;34m\u001b[0m\u001b[0m\n\u001b[1;32m     17\u001b[0m         \u001b[0mrmse_te\u001b[0m\u001b[0;34m.\u001b[0m\u001b[0mappend\u001b[0m\u001b[0;34m(\u001b[0m\u001b[0mloss_te\u001b[0m\u001b[0;34m)\u001b[0m\u001b[0;34m\u001b[0m\u001b[0;34m\u001b[0m\u001b[0m\n",
      "\u001b[0;32m<ipython-input-56-b67d1c028d5d>\u001b[0m in \u001b[0;36mcross_validation\u001b[0;34m(y, x, k_indices, k, lambda_, degree, mean)\u001b[0m\n\u001b[1;32m     22\u001b[0m     \u001b[0;31m# form data with polynomial degree: TODO\u001b[0m\u001b[0;34m\u001b[0m\u001b[0;34m\u001b[0m\u001b[0;34m\u001b[0m\u001b[0m\n\u001b[1;32m     23\u001b[0m     \u001b[0;31m# ***************************************************\u001b[0m\u001b[0;34m\u001b[0m\u001b[0;34m\u001b[0m\u001b[0;34m\u001b[0m\u001b[0m\n\u001b[0;32m---> 24\u001b[0;31m         \u001b[0mw\u001b[0m \u001b[0;34m=\u001b[0m \u001b[0mridge_regression\u001b[0m\u001b[0;34m(\u001b[0m\u001b[0my_tr\u001b[0m\u001b[0;34m,\u001b[0m \u001b[0mx_tr_poly\u001b[0m\u001b[0;34m,\u001b[0m \u001b[0mlambda_\u001b[0m\u001b[0;34m)\u001b[0m\u001b[0;34m\u001b[0m\u001b[0;34m\u001b[0m\u001b[0m\n\u001b[0m\u001b[1;32m     25\u001b[0m     \u001b[0;31m# ***************************************************\u001b[0m\u001b[0;34m\u001b[0m\u001b[0;34m\u001b[0m\u001b[0;34m\u001b[0m\u001b[0m\n\u001b[1;32m     26\u001b[0m     \u001b[0;31m# INSERT YOUR CODE HERE\u001b[0m\u001b[0;34m\u001b[0m\u001b[0;34m\u001b[0m\u001b[0;34m\u001b[0m\u001b[0m\n",
      "\u001b[0;31mNameError\u001b[0m: name 'ridge_regression' is not defined"
     ]
    }
   ],
   "source": [
    "from plots_lab4 import cross_validation_visualization\n",
    "\n",
    "def cross_validation_demo():\n",
    "    seed = 1\n",
    "    degree = 3\n",
    "    k_fold = 4\n",
    "    lambdas = np.logspace(-4, 0, 30)\n",
    "    #lambdas =[0.1, 0.01, 1]\n",
    "    # split data in k fold\n",
    "    k_indices = build_k_indices(y, k_fold, seed)\n",
    "    # define lists to store the loss of training data and test data\n",
    "    rmse_tr = []\n",
    "    rmse_te = []\n",
    "    for lambda_ in lambdas:\n",
    "        loss_tr, loss_te = cross_validation(y, tX, k_indices, k_fold, lambda_, degree)\n",
    "        rmse_tr.append(loss_tr)\n",
    "        rmse_te.append(loss_te)\n",
    "    # ***************************************************\n",
    "    # INSERT YOUR CODE HERE\n",
    "    # cross validation: TODO\n",
    "    # ***************************************************    \n",
    "    cross_validation_visualization(lambdas, rmse_tr, rmse_te)\n",
    "\n",
    "cross_validation_demo()"
   ]
  },
  {
   "cell_type": "code",
   "execution_count": 58,
   "metadata": {},
   "outputs": [],
   "source": [
    "from helpers import *"
   ]
  },
  {
   "cell_type": "code",
   "execution_count": 59,
   "metadata": {},
   "outputs": [],
   "source": [
    "def compute_loss(y, tx, w):\n",
    "    e = y - np.dot(tx,w)\n",
    "    N = len(y)\n",
    "    L=e.T.dot(e)/(2*N)\n",
    "    return L"
   ]
  },
  {
   "cell_type": "code",
   "execution_count": 60,
   "metadata": {},
   "outputs": [],
   "source": [
    "def compute_gradient(y, tx, w):\n",
    "    \"\"\"Compute the gradient.\"\"\"\n",
    "    e=y-tx.dot(w)\n",
    "    N=len(y)\n",
    "    return -(np.transpose(tx).dot(e))/N"
   ]
  },
  {
   "cell_type": "code",
   "execution_count": 61,
   "metadata": {},
   "outputs": [],
   "source": [
    "def gradient_descent(y, tx, initial_w, max_iters, gamma):\n",
    "    \"\"\"Gradient descent algorithm.\"\"\"\n",
    "    # Define parameters to store w and loss\n",
    "    w = initial_w\n",
    "    loss = np.inf\n",
    "    for n_iter in range(max_iters):\n",
    "        g = compute_gradient(y, tx, w)\n",
    "        new_w = w - gamma*g;\n",
    "        new_loss = compute_loss(y, tx, new_w)\n",
    "        # print TO DELETE IN FINAL VERSION\n",
    "        if new_loss <= loss:\n",
    "            loss, w = new_loss, new_w\n",
    "            gamma *=1.8 #accelerate algorithm learning rate\n",
    "            #print(\"Gradient Descent({bi}/{ti}): loss={l} ; gamma={g}; gamma aumenta\".format(\n",
    "             # bi=n_iter, ti=max_iters - 1, l=loss, g= gamma))\n",
    "        else:\n",
    "            gamma *=0.3 #decelerate to avoid exponential growing\n",
    "            #print(\"Gradient Descent({bi}/{ti}): loss={l} ; gamma={g}; gamma diminuisce\".format(\n",
    "             # bi=n_iter, ti=max_iters - 1, l=loss, g= gamma)\n",
    "        print(\"Gradient Descent({bi}/{ti}): ||gradient||={grad}, loss={l}, w0={w0}, w1={w1}\".format(\n",
    "              bi=n_iter, ti=max_iters - 1, grad=np.linalg.norm(g), l=loss, w0=w[0], w1=w[1]))\n",
    "\n",
    "    return w, loss"
   ]
  },
  {
   "cell_type": "code",
   "execution_count": 62,
   "metadata": {},
   "outputs": [
    {
     "name": "stdout",
     "output_type": "stream",
     "text": [
      "Gradient Descent(0/199): ||gradient||=1.3806362044517237, loss=0.49980954921762955, w0=3.987689246236717e-05, w1=-1.2892054974017063e-05\n",
      "Gradient Descent(1/199): ||gradient||=1.3782482609281335, loss=0.4994681591153545, w0=0.00011159950766115943, w1=-3.6077239650049636e-05\n",
      "Gradient Descent(2/199): ||gradient||=1.3739582070354468, loss=0.49885823757962516, w0=0.00024051972695684495, w1=-7.774422083393094e-05\n",
      "Gradient Descent(3/199): ||gradient||=1.3662627789697979, loss=0.49777507885452743, w0=0.00047199294443025955, w1=-0.00015253047858335123\n",
      "Gradient Descent(4/199): ||gradient||=1.3524971652843432, loss=0.49587220722941844, w0=0.0008867645665557507, w1=-0.0002864552758464355\n",
      "Gradient Descent(5/199): ||gradient||=1.3279967548395086, loss=0.4925940696327378, w0=0.0016273158082551664, w1=-0.0005253053667126485\n",
      "Gradient Descent(6/199): ||gradient||=1.2847873413949542, loss=0.4871437404269158, w0=0.002941058040296109, w1=-0.0009481906344710306\n",
      "Gradient Descent(7/199): ||gradient||=1.2098500784609967, loss=0.47865051494396627, w0=0.0052452101521768685, w1=-0.0016873037210816178\n",
      "Gradient Descent(8/199): ||gradient||=1.0838908574873376, loss=0.46690403652672946, w0=0.009206459435325061, w1=-0.0029503635463888536\n",
      "Gradient Descent(9/199): ||gradient||=0.8845903162619052, loss=0.45388075738325256, w0=0.01578851299900823, w1=-0.005028647828386086\n",
      "Gradient Descent(10/199): ||gradient||=0.6069142341262169, loss=0.44409982676217286, w0=0.026146947495902687, w1=-0.008256174440693051\n",
      "Gradient Descent(11/199): ||gradient||=0.3312008426762628, loss=0.4386604468768821, w0=0.04131458792216853, w1=-0.012958868922159913\n",
      "Gradient Descent(12/199): ||gradient||=0.2408234214935726, loss=0.4328277758719496, w0=0.062474103964550436, w1=-0.019921985098049093\n",
      "Gradient Descent(13/199): ||gradient||=0.18763245477550994, loss=0.4273798900501255, w0=0.09215044724379437, w1=-0.03195037401962625\n",
      "Gradient Descent(14/199): ||gradient||=0.1486138952668338, loss=0.4273798900501255, w0=0.09215044724379437, w1=-0.03195037401962625\n",
      "Gradient Descent(15/199): ||gradient||=0.1486138952668338, loss=0.4260984688080978, w0=0.09952727790023702, w1=-0.036951136239636695\n",
      "Gradient Descent(16/199): ||gradient||=0.1369998446481909, loss=0.4260984688080978, w0=0.09952727790023702, w1=-0.036951136239636695\n",
      "Gradient Descent(17/199): ||gradient||=0.1369998446481909, loss=0.42532202309645734, w0=0.10362391435046735, w1=-0.04003149611088339\n",
      "Gradient Descent(18/199): ||gradient||=0.08552847426635134, loss=0.42459117507581656, w0=0.10890967718022489, w1=-0.044924336617923125\n",
      "Gradient Descent(19/199): ||gradient||=0.07395097762915372, loss=0.4236640847062105, w0=0.1165182014791251, w1=-0.05358272589144279\n",
      "Gradient Descent(20/199): ||gradient||=0.06532005779238485, loss=0.42309811379979956, w0=0.12308508416674324, w1=-0.06773093722336354\n",
      "Gradient Descent(21/199): ||gradient||=0.15388916542791553, loss=0.42309811379979956, w0=0.12308508416674324, w1=-0.06773093722336354\n",
      "Gradient Descent(22/199): ||gradient||=0.15388916542791553, loss=0.42309811379979956, w0=0.12308508416674324, w1=-0.06773093722336354\n",
      "Gradient Descent(23/199): ||gradient||=0.15388916542791553, loss=0.4223714477203758, w0=0.12420191325061768, w1=-0.0702962533433124\n",
      "Gradient Descent(24/199): ||gradient||=0.05087688899060545, loss=0.4221091960015892, w0=0.12452237018447791, w1=-0.07420313991834356\n",
      "Gradient Descent(25/199): ||gradient||=0.05034575836696167, loss=0.42165077948174984, w0=0.12513040221547475, w1=-0.08127380048476093\n",
      "Gradient Descent(26/199): ||gradient||=0.05111440747094301, loss=0.42095908435960155, w0=0.12508253316116413, w1=-0.09355919187532191\n",
      "Gradient Descent(27/199): ||gradient||=0.0824091853011299, loss=0.42095908435960155, w0=0.12508253316116413, w1=-0.09355919187532191\n",
      "Gradient Descent(28/199): ||gradient||=0.0824091853011299, loss=0.42095908435960155, w0=0.12508253316116413, w1=-0.09355919187532191\n",
      "Gradient Descent(29/199): ||gradient||=0.0824091853011299, loss=0.4207096374553471, w0=0.125433437271029, w1=-0.09570101317133\n",
      "Gradient Descent(30/199): ||gradient||=0.04842031527120331, loss=0.4204815024821347, w0=0.1253937148180104, w1=-0.09926505225096457\n",
      "Gradient Descent(31/199): ||gradient||=0.04819900494166528, loss=0.4200753362765767, w0=0.12526861473088655, w1=-0.10564066047989289\n",
      "Gradient Descent(32/199): ||gradient||=0.047835493810443365, loss=0.41935961648063086, w0=0.12506301146391438, w1=-0.1170672286967689\n",
      "Gradient Descent(33/199): ||gradient||=0.047760485406970914, loss=0.41825429835813155, w0=0.1240214695238365, w1=-0.1371457904114807\n",
      "Gradient Descent(34/199): ||gradient||=0.08573140308938855, loss=0.41825429835813155, w0=0.1240214695238365, w1=-0.1371457904114807\n",
      "Gradient Descent(35/199): ||gradient||=0.08573140308938855, loss=0.41825429835813155, w0=0.1240214695238365, w1=-0.1371457904114807\n",
      "Gradient Descent(36/199): ||gradient||=0.08573140308938855, loss=0.41798193264655165, w0=0.12460666751653285, w1=-0.14065607107324482\n",
      "Gradient Descent(37/199): ||gradient||=0.0669961033473117, loss=0.4178378347206647, w0=0.12357563010498795, w1=-0.14606670850973166\n",
      "Gradient Descent(38/199): ||gradient||=0.10865357043762476, loss=0.4178378347206647, w0=0.12357563010498795, w1=-0.14606670850973166\n",
      "Gradient Descent(39/199): ||gradient||=0.10865357043762476, loss=0.4174914656554736, w0=0.12439013044844721, w1=-0.14955470505048332\n",
      "Gradient Descent(40/199): ||gradient||=0.076836463059693, loss=0.4174523130515786, w0=0.12317026096293275, w1=-0.15467010208133142\n",
      "Gradient Descent(41/199): ||gradient||=0.12813942244635465, loss=0.4174523130515786, w0=0.12317026096293275, w1=-0.15467010208133142\n",
      "Gradient Descent(42/199): ||gradient||=0.12813942244635465, loss=0.41701565483314956, w0=0.12415508135055195, w1=-0.15811608630328247\n",
      "Gradient Descent(43/199): ||gradient||=0.08311315035057877, loss=0.41701565483314956, w0=0.12415508135055195, w1=-0.15811608630328247\n",
      "Gradient Descent(44/199): ||gradient||=0.08311315035057877, loss=0.41678949832626966, w0=0.12376121283109534, w1=-0.1595772752938683\n",
      "Gradient Descent(45/199): ||gradient||=0.0458178328160372, loss=0.41661881730401823, w0=0.12357750121669554, w1=-0.16242659815585567\n",
      "Gradient Descent(46/199): ||gradient||=0.04485393931933426, loss=0.416319582912378, w0=0.1234937626161682, w1=-0.16764522819074557\n",
      "Gradient Descent(47/199): ||gradient||=0.045279029976254354, loss=0.4158245928803588, w0=0.12291367608282941, w1=-0.1768058932812461\n",
      "Gradient Descent(48/199): ||gradient||=0.05833265753061767, loss=0.4158245928803588, w0=0.12291367608282941, w1=-0.1768058932812461\n",
      "Gradient Descent(49/199): ||gradient||=0.05833265753061767, loss=0.4156189407735928, w0=0.12334276133703985, w1=-0.18202120303788405\n",
      "Gradient Descent(50/199): ||gradient||=0.0784996339542641, loss=0.4156189407735928, w0=0.12334276133703985, w1=-0.18202120303788405\n",
      "Gradient Descent(51/199): ||gradient||=0.0784996339542641, loss=0.41537494536424124, w0=0.12271309923957696, w1=-0.1844564190553968\n",
      "Gradient Descent(52/199): ||gradient||=0.05250691284230468, loss=0.41514502720241514, w0=0.12299793912916164, w1=-0.18943125479849054\n",
      "Gradient Descent(53/199): ||gradient||=0.06449904172403705, loss=0.41514502720241514, w0=0.12299793912916164, w1=-0.18943125479849054\n",
      "Gradient Descent(54/199): ||gradient||=0.06449904172403705, loss=0.4149486417578214, w0=0.12252602750761883, w1=-0.19183801533750888\n",
      "Gradient Descent(55/199): ||gradient||=0.04727991387489219, loss=0.4147068323425303, w0=0.1226610983958952, w1=-0.1965775838703724\n",
      "Gradient Descent(56/199): ||gradient||=0.052540510885422075, loss=0.4145565062371858, w0=0.12158648196436465, w1=-0.20450696537879764\n",
      "Gradient Descent(57/199): ||gradient||=0.11763325060701893, loss=0.4145565062371858, w0=0.12158648196436465, w1=-0.20450696537879764\n",
      "Gradient Descent(58/199): ||gradient||=0.11763325060701893, loss=0.4145565062371858, w0=0.12158648196436465, w1=-0.20450696537879764\n",
      "Gradient Descent(59/199): ||gradient||=0.11763325060701893, loss=0.414174450360882, w0=0.1220064141139189, w1=-0.20603324526331657\n",
      "Gradient Descent(60/199): ||gradient||=0.05078858135713455, loss=0.4140245856077423, w0=0.12214255496513018, w1=-0.20851297220073417\n",
      "Gradient Descent(61/199): ||gradient||=0.04308433321009025, loss=0.4137941845498739, w0=0.12186954549860339, w1=-0.21274483015221707\n",
      "Gradient Descent(62/199): ||gradient||=0.04387617802263624, loss=0.4134297633094273, w0=0.12194214294789663, w1=-0.22056796533733172\n",
      "Gradient Descent(63/199): ||gradient||=0.060699378530865246, loss=0.4134297633094273, w0=0.12194214294789663, w1=-0.22056796533733172\n",
      "Gradient Descent(64/199): ||gradient||=0.060699378530865246, loss=0.41325272498820553, w0=0.12121345024490272, w1=-0.2244315468863857\n",
      "Gradient Descent(65/199): ||gradient||=0.07222307435673671, loss=0.41325272498820553, w0=0.12121345024490272, w1=-0.2244315468863857\n",
      "Gradient Descent(66/199): ||gradient||=0.07222307435673671, loss=0.4130450372800321, w0=0.12156577564206208, w1=-0.22682625287598934\n",
      "Gradient Descent(67/199): ||gradient||=0.04390871328895768, loss=0.412838958706398, w0=0.12123155345021966, w1=-0.23071449798974714\n",
      "Gradient Descent(68/199): ||gradient||=0.04538416616384373, loss=0.41255654893411514, w0=0.12145187696041261, w1=-0.23803376638933155\n",
      "Gradient Descent(69/199): ||gradient||=0.0731745355801564, loss=0.41255654893411514, w0=0.12145187696041261, w1=-0.23803376638933155\n",
      "Gradient Descent(70/199): ||gradient||=0.0731745355801564, loss=0.4124046063749843, w0=0.12055677948579148, w1=-0.2415247820970666\n",
      "Gradient Descent(71/199): ||gradient||=0.08390364623774048, loss=0.4124046063749843, w0=0.12055677948579148, w1=-0.2415247820970666\n",
      "Gradient Descent(72/199): ||gradient||=0.08390364623774048, loss=0.4121548112479433, w0=0.12098726053981314, w1=-0.24379122815255078\n",
      "Gradient Descent(73/199): ||gradient||=0.04262189198599215, loss=0.4119661712175286, w0=0.12068997142985617, w1=-0.24740560612728862\n",
      "Gradient Descent(74/199): ||gradient||=0.04317691208774173, loss=0.4116791119135733, w0=0.12082259961130332, w1=-0.25417016384666874\n",
      "Gradient Descent(75/199): ||gradient||=0.06101651849093061, loss=0.4116791119135733, w0=0.12082259961130332, w1=-0.25417016384666874\n",
      "Gradient Descent(76/199): ||gradient||=0.06101651849093061, loss=0.4115092955639255, w0=0.12015177478262394, w1=-0.2574812967590006\n",
      "Gradient Descent(77/199): ||gradient||=0.06397198686006197, loss=0.4115092955639255, w0=0.12015177478262394, w1=-0.2574812967590006\n",
      "Gradient Descent(78/199): ||gradient||=0.06397198686006197, loss=0.41134419574006453, w0=0.12040978662319853, w1=-0.25952652866896825\n",
      "Gradient Descent(79/199): ||gradient||=0.039938206231732575, loss=0.41117130025878884, w0=0.12022003285018355, w1=-0.26292200493407464\n",
      "Gradient Descent(80/199): ||gradient||=0.03980076700122171, loss=0.4108701752377789, w0=0.12014654050412862, w1=-0.269125536941056\n",
      "Gradient Descent(81/199): ||gradient||=0.042622006595265764, loss=0.41057173718450796, w0=0.11912528986478893, w1=-0.2798399742785467\n",
      "Gradient Descent(82/199): ||gradient||=0.10358424887287758, loss=0.41057173718450796, w0=0.11912528986478893, w1=-0.2798399742785467\n",
      "Gradient Descent(83/199): ||gradient||=0.10358424887287758, loss=0.41057173718450796, w0=0.11912528986478893, w1=-0.2798399742785467\n",
      "Gradient Descent(84/199): ||gradient||=0.10358424887287758, loss=0.41023202377273277, w0=0.11964817287344151, w1=-0.28184818592417155\n",
      "Gradient Descent(85/199): ||gradient||=0.03884344660414988, loss=0.41007723613777625, w0=0.11947262503675016, w1=-0.28498078611446936\n",
      "Gradient Descent(86/199): ||gradient||=0.038616084969223544, loss=0.40980587882988734, w0=0.11938876645750984, w1=-0.2906990209465241\n",
      "Gradient Descent(87/199): ||gradient||=0.040366420744965756, loss=0.40945443782690544, w0=0.11855207842059444, w1=-0.3006368681443189\n",
      "Gradient Descent(88/199): ||gradient||=0.08100132169063856, loss=0.40945443782690544, w0=0.11855207842059444, w1=-0.3006368681443189\n",
      "Gradient Descent(89/199): ||gradient||=0.08100132169063856, loss=0.40945443782690544, w0=0.11855207842059444, w1=-0.3006368681443189\n",
      "Gradient Descent(90/199): ||gradient||=0.08100132169063856, loss=0.409235112273597, w0=0.11890730294797586, w1=-0.302437992405371\n",
      "Gradient Descent(91/199): ||gradient||=0.037389637580578346, loss=0.4090962618508181, w0=0.1188024823380449, w1=-0.30535751103670017\n",
      "Gradient Descent(92/199): ||gradient||=0.03725487197948377, loss=0.4088484877485102, w0=0.1186269054165065, w1=-0.3106015159031627\n",
      "Gradient Descent(93/199): ||gradient||=0.037020696994521284, loss=0.40840960713837227, w0=0.11827866299611403, w1=-0.3199731199614862\n",
      "Gradient Descent(94/199): ||gradient||=0.036744480201895864, loss=0.4076687483448729, w0=0.11789986202082271, w1=-0.3367748508271277\n",
      "Gradient Descent(95/199): ||gradient||=0.048172545366269345, loss=0.4076687483448729, w0=0.11789986202082271, w1=-0.3367748508271277\n",
      "Gradient Descent(96/199): ||gradient||=0.048172545366269345, loss=0.4076687483448729, w0=0.11789986202082271, w1=-0.3367748508271277\n",
      "Gradient Descent(97/199): ||gradient||=0.048172545366269345, loss=0.4075340010539593, w0=0.117493321455102, w1=-0.3392999761099721\n",
      "Gradient Descent(98/199): ||gradient||=0.042404281921541484, loss=0.4073661143796766, w0=0.11772648325702516, w1=-0.3442426211328713\n",
      "Gradient Descent(99/199): ||gradient||=0.05926256223360184, loss=0.4073661143796766, w0=0.11772648325702516, w1=-0.3442426211328713\n",
      "Gradient Descent(100/199): ||gradient||=0.05926256223360184, loss=0.40721619705959555, w0=0.11718737955825986, w1=-0.3466145321167974\n",
      "Gradient Descent(101/199): ||gradient||=0.047321922034316254, loss=0.40709080062735375, w0=0.11756062999852751, w1=-0.35144382013192305\n",
      "Gradient Descent(102/199): ||gradient||=0.07173741211772856, loss=0.40709080062735375, w0=0.11756062999852751, w1=-0.35144382013192305\n",
      "Gradient Descent(103/199): ||gradient||=0.07173741211772856, loss=0.4069140537637811, w0=0.11689844544261506, w1=-0.3536707021615735\n",
      "Gradient Descent(104/199): ||gradient||=0.05206791269256532, loss=0.40682471365612827, w0=0.11737898246126187, w1=-0.3583800325918091\n",
      "Gradient Descent(105/199): ||gradient||=0.08122579476870713, loss=0.40682471365612827, w0=0.11737898246126187, w1=-0.3583800325918091\n",
      "Gradient Descent(106/199): ||gradient||=0.08122579476870713, loss=0.4066197324842149, w0=0.1166388257789233, w1=-0.36048504070208065\n",
      "Gradient Descent(107/199): ||gradient||=0.054403192350478136, loss=0.4065439032641874, w0=0.11716058876671431, w1=-0.36505323936979645\n",
      "Gradient Descent(108/199): ||gradient||=0.083816066414753, loss=0.4065439032641874, w0=0.11716058876671431, w1=-0.36505323936979645\n",
      "Gradient Descent(109/199): ||gradient||=0.083816066414753, loss=0.40632747844140316, w0=0.11641558118487037, w1=-0.36707126636901466\n",
      "Gradient Descent(110/199): ||gradient||=0.052963866604812886, loss=0.4062385531078413, w0=0.1168975671790989, w1=-0.37147042117751117\n",
      "Gradient Descent(111/199): ||gradient||=0.07809943194078395, loss=0.4062385531078413, w0=0.1168975671790989, w1=-0.37147042117751117\n",
      "Gradient Descent(112/199): ||gradient||=0.07809943194078395, loss=0.40603865285222557, w0=0.11622613781816926, w1=-0.3734384300545499\n",
      "Gradient Descent(113/199): ||gradient||=0.048207738383004836, loss=0.405922978942648, w0=0.11660013544992624, w1=-0.3776457402986296\n",
      "Gradient Descent(114/199): ||gradient||=0.06608453434588572, loss=0.405922978942648, w0=0.11660013544992624, w1=-0.3776457402986296\n",
      "Gradient Descent(115/199): ||gradient||=0.06608453434588572, loss=0.4057599106467948, w0=0.11605901409133668, w1=-0.3795912609778797\n",
      "Gradient Descent(116/199): ||gradient||=0.04222842266135735, loss=0.405621543221041, w0=0.11629169824106934, w1=-0.38359848026644056\n",
      "Gradient Descent(117/199): ||gradient||=0.05232562709043981, loss=0.405621543221041, w0=0.11629169824106934, w1=-0.38359848026644056\n",
      "Gradient Descent(118/199): ||gradient||=0.05232562709043981, loss=0.4054965290385318, w0=0.11589951508322908, w1=-0.38553262814197686\n",
      "Gradient Descent(119/199): ||gradient||=0.03739151953234566, loss=0.4053477626317708, w0=0.11599699984834108, w1=-0.3893480260127002\n",
      "Gradient Descent(120/199): ||gradient||=0.0415417215592403, loss=0.4052546511195963, w0=0.11512857030141634, w1=-0.3957427540089433\n",
      "Gradient Descent(121/199): ||gradient||=0.09251247558622917, loss=0.4052546511195963, w0=0.11512857030141634, w1=-0.3957427540089433\n",
      "Gradient Descent(122/199): ||gradient||=0.09251247558622917, loss=0.4052546511195963, w0=0.11512857030141634, w1=-0.3957427540089433\n",
      "Gradient Descent(123/199): ||gradient||=0.09251247558622917, loss=0.4050192350559826, w0=0.11545180923511746, w1=-0.3969684414713351\n",
      "Gradient Descent(124/199): ||gradient||=0.04039447210587402, loss=0.4049256152588798, w0=0.1155549332196358, w1=-0.3989682383505781\n",
      "Gradient Descent(125/199): ||gradient||=0.034068772464598225, loss=0.40478233012809406, w0=0.11533053163145171, w1=-0.40238552634388974\n",
      "Gradient Descent(126/199): ||gradient||=0.03466319116070959, loss=0.40455273878424, w0=0.11535779511395186, w1=-0.40869623861542753\n",
      "Gradient Descent(127/199): ||gradient||=0.04703788942204733, loss=0.40455273878424, w0=0.11535779511395186, w1=-0.40869623861542753\n",
      "Gradient Descent(128/199): ||gradient||=0.04703788942204733, loss=0.40443811981637123, w0=0.11479412292793265, w1=-0.4118339743306842\n",
      "Gradient Descent(129/199): ||gradient||=0.05507884283232924, loss=0.40443811981637123, w0=0.11479412292793265, w1=-0.4118339743306842\n",
      "Gradient Descent(130/199): ||gradient||=0.05507884283232924, loss=0.40431389062937656, w0=0.11504528237563738, w1=-0.41375847980749353\n",
      "Gradient Descent(131/199): ||gradient||=0.034516672048195446, loss=0.40418382867208524, w0=0.11478685211650619, w1=-0.4169131111533072\n",
      "Gradient Descent(132/199): ||gradient||=0.03540154681391659, loss=0.40399264920026273, w0=0.11489988425255133, w1=-0.4228169382026985\n",
      "Gradient Descent(133/199): ||gradient||=0.05336704811055844, loss=0.40399264920026273, w0=0.11489988425255133, w1=-0.4228169382026985\n",
      "Gradient Descent(134/199): ||gradient||=0.05336704811055844, loss=0.40388749168548954, w0=0.11425859259499761, w1=-0.42568520108632873\n",
      "Gradient Descent(135/199): ||gradient||=0.059869258043635507, loss=0.40388749168548954, w0=0.11425859259499761, w1=-0.42568520108632873\n",
      "Gradient Descent(136/199): ||gradient||=0.059869258043635507, loss=0.4037523959535231, w0=0.11453809968687449, w1=-0.4274950364654081\n",
      "Gradient Descent(137/199): ||gradient||=0.033438469822810936, loss=0.4036322776601048, w0=0.11431852869096258, w1=-0.4304389274468919\n",
      "Gradient Descent(138/199): ||gradient||=0.03367049148289844, loss=0.4034373565503103, w0=0.11434956504634453, w1=-0.4359013868295773\n",
      "Gradient Descent(139/199): ||gradient||=0.0432450987035261, loss=0.4034373565503103, w0=0.11434956504634453, w1=-0.4359013868295773\n",
      "Gradient Descent(140/199): ||gradient||=0.0432450987035261, loss=0.40332555585721463, w0=0.11390016839905744, w1=-0.43863466496656295\n",
      "Gradient Descent(141/199): ||gradient||=0.044533613101784185, loss=0.4032920534830886, w0=0.11437472414889593, w1=-0.44408481538327155\n",
      "Gradient Descent(142/199): ||gradient||=0.0907024581480294, loss=0.4032920534830886, w0=0.11437472414889593, w1=-0.44408481538327155\n",
      "Gradient Descent(143/199): ||gradient||=0.0907024581480294, loss=0.4031861783001671, w0=0.11329979511313436, w1=-0.44644384619142424\n",
      "Gradient Descent(144/199): ||gradient||=0.09145133246166696, loss=0.4031861783001671, w0=0.11329979511313436, w1=-0.44644384619142424\n",
      "Gradient Descent(145/199): ||gradient||=0.09145133246166696, loss=0.40292592045705566, w0=0.1137763387647843, w1=-0.4481636747447227\n",
      "Gradient Descent(146/199): ||gradient||=0.03223198996192978, loss=0.4028201060919649, w0=0.11359683971367841, w1=-0.45081249097002546\n",
      "Gradient Descent(147/199): ||gradient||=0.03206116784527729, loss=0.4026384490865629, w0=0.11356082864343761, w1=-0.45568794822188635\n",
      "Gradient Descent(148/199): ||gradient||=0.03573858640494476, loss=0.4025359200022992, w0=0.1126113462882794, w1=-0.46403878213398375\n",
      "Gradient Descent(149/199): ||gradient||=0.0986180033730849, loss=0.4025359200022992, w0=0.1126113462882794, w1=-0.46403878213398375\n",
      "Gradient Descent(150/199): ||gradient||=0.0986180033730849, loss=0.4025359200022992, w0=0.1126113462882794, w1=-0.46403878213398375\n",
      "Gradient Descent(151/199): ||gradient||=0.0986180033730849, loss=0.4022412783295405, w0=0.11310787749757653, w1=-0.4656551197432733\n",
      "Gradient Descent(152/199): ||gradient||=0.030851064327511155, loss=0.40214533899577354, w0=0.11299156653542154, w1=-0.46812988713650056\n",
      "Gradient Descent(153/199): ||gradient||=0.030737444459569312, loss=0.40197439349360303, w0=0.11286558912684469, w1=-0.47260723944930105\n",
      "Gradient Descent(154/199): ||gradient||=0.03087015195572295, loss=0.40168384026652276, w0=0.11241225643357607, w1=-0.4805286524995188\n",
      "Gradient Descent(155/199): ||gradient||=0.03814422814354752, loss=0.40168384026652276, w0=0.11241225643357607, w1=-0.4805286524995188\n",
      "Gradient Descent(156/199): ||gradient||=0.03814422814354752, loss=0.4015808896010085, w0=0.11268218584415847, w1=-0.48498598702545653\n",
      "Gradient Descent(157/199): ||gradient||=0.05993639260386024, loss=0.4015808896010085, w0=0.11268218584415847, w1=-0.48498598702545653\n",
      "Gradient Descent(158/199): ||gradient||=0.05993639260386024, loss=0.4014611678882145, w0=0.11208219904464653, w1=-0.48706357208731316\n",
      "Gradient Descent(159/199): ||gradient||=0.0488580696841514, loss=0.4014521523529627, w0=0.11261900023135406, w1=-0.49148162456669986\n",
      "Gradient Descent(160/199): ||gradient||=0.08770282594362605, loss=0.4014521523529627, w0=0.11261900023135406, w1=-0.49148162456669986\n",
      "Gradient Descent(161/199): ||gradient||=0.08770282594362605, loss=0.4012724171555638, w0=0.11174049887545952, w1=-0.49335856313895904\n",
      "Gradient Descent(162/199): ||gradient||=0.06458824386829093, loss=0.4012724171555638, w0=0.11174049887545952, w1=-0.49335856313895904\n",
      "Gradient Descent(163/199): ||gradient||=0.06458824386829093, loss=0.4011381150267395, w0=0.11199503425864378, w1=-0.49467984540243304\n",
      "Gradient Descent(164/199): ||gradient||=0.03014978988433185, loss=0.4010576153894555, w0=0.11196094563804079, w1=-0.49684528781547144\n",
      "Gradient Descent(165/199): ||gradient||=0.029850176753304664, loss=0.4009150080384815, w0=0.11176467538364365, w1=-0.5006759487703016\n",
      "Gradient Descent(166/199): ||gradient||=0.03019428095233669, loss=0.40067829515676345, w0=0.11169571499780209, w1=-0.5076613686571225\n",
      "Gradient Descent(167/199): ||gradient||=0.039729907793819595, loss=0.40067829515676345, w0=0.11169571499780209, w1=-0.5076613686571225\n",
      "Gradient Descent(168/199): ||gradient||=0.039729907793819595, loss=0.4005925009917703, w0=0.11111756004926225, w1=-0.5111729504575834\n",
      "Gradient Descent(169/199): ||gradient||=0.058299137629138235, loss=0.4005925009917703, w0=0.11111756004926225, w1=-0.5111729504575834\n",
      "Gradient Descent(170/199): ||gradient||=0.058299137629138235, loss=0.4004712537290755, w0=0.1114907596167077, w1=-0.5133528565175893\n",
      "Gradient Descent(171/199): ||gradient||=0.04046742723904823, loss=0.40038938758395737, w0=0.11090903024869032, w1=-0.5167339150894924\n",
      "Gradient Descent(172/199): ||gradient||=0.05832678023878752, loss=0.40038938758395737, w0=0.11090903024869032, w1=-0.5167339150894924\n",
      "Gradient Descent(173/199): ||gradient||=0.05832678023878752, loss=0.40026751426047075, w0=0.1112732780873807, w1=-0.51884091264656\n",
      "Gradient Descent(174/199): ||gradient||=0.03888714172690121, loss=0.40017861774158653, w0=0.11074144694196252, w1=-0.5221194287016384\n",
      "Gradient Descent(175/199): ||gradient||=0.05321937125358985, loss=0.40017861774158653, w0=0.11074144694196252, w1=-0.5221194287016384\n",
      "Gradient Descent(176/199): ||gradient||=0.05321937125358985, loss=0.40006856162666593, w0=0.11104659928554096, w1=-0.5241348940450757\n",
      "Gradient Descent(177/199): ||gradient||=0.03566187766813449, loss=0.39996898162459027, w0=0.11060419570903479, w1=-0.527332646958211\n",
      "Gradient Descent(178/199): ||gradient||=0.044990835343350445, loss=0.39996898162459027, w0=0.11060419570903479, w1=-0.527332646958211\n",
      "Gradient Descent(179/199): ||gradient||=0.044990835343350445, loss=0.39987742720287994, w0=0.11081915899872845, w1=-0.5292459440755019\n",
      "Gradient Descent(180/199): ||gradient||=0.03226490867526118, loss=0.3997706590793077, w0=0.11047996769827254, w1=-0.532373495600205\n",
      "Gradient Descent(181/199): ||gradient||=0.036901606092179094, loss=0.39974772634148587, w0=0.11088046483179781, w1=-0.5384123352027431\n",
      "Gradient Descent(182/199): ||gradient||=0.0896100845697328, loss=0.39974772634148587, w0=0.11088046483179781, w1=-0.5384123352027431\n",
      "Gradient Descent(183/199): ||gradient||=0.0896100845697328, loss=0.39974772634148587, w0=0.11088046483179781, w1=-0.5384123352027431\n",
      "Gradient Descent(184/199): ||gradient||=0.0896100845697328, loss=0.39952828488889447, w0=0.11048204657105971, w1=-0.5391867500755074\n",
      "Gradient Descent(185/199): ||gradient||=0.03538940559549291, loss=0.3994579299135975, w0=0.11025569238892055, w1=-0.5407881452359574\n",
      "Gradient Descent(186/199): ||gradient||=0.029225164557190486, loss=0.3993529243940063, w0=0.11024550049933934, w1=-0.5438341399216289\n",
      "Gradient Descent(187/199): ||gradient||=0.030113619160597405, loss=0.39919495267840144, w0=0.10977674965975372, w1=-0.5491058344671543\n",
      "Gradient Descent(188/199): ||gradient||=0.04555896710812707, loss=0.39919495267840144, w0=0.10977674965975372, w1=-0.5491058344671543\n",
      "Gradient Descent(189/199): ||gradient||=0.04555896710812707, loss=0.3991236644379952, w0=0.11015123031750115, w1=-0.5522017563725488\n",
      "Gradient Descent(190/199): ||gradient||=0.05637117554666495, loss=0.3991236644379952, w0=0.11015123031750115, w1=-0.5522017563725488\n",
      "Gradient Descent(191/199): ||gradient||=0.05637117554666495, loss=0.3990081079719742, w0=0.10973631486439375, w1=-0.5536051071808815\n",
      "Gradient Descent(192/199): ||gradient||=0.030969890992118117, loss=0.3989136009285102, w0=0.1098072664293566, w1=-0.5564747150914959\n",
      "Gradient Descent(193/199): ||gradient||=0.032844956285257465, loss=0.39881307586175, w0=0.10920448549553909, w1=-0.5613119765246278\n",
      "Gradient Descent(194/199): ||gradient||=0.061468148207588315, loss=0.39881307586175, w0=0.10920448549553909, w1=-0.5613119765246278\n",
      "Gradient Descent(195/199): ||gradient||=0.061468148207588315, loss=0.39876248734296427, w0=0.10980062899549967, w1=-0.5643010798428779\n",
      "Gradient Descent(196/199): ||gradient||=0.07305804534471143, loss=0.39876248734296427, w0=0.10980062899549967, w1=-0.5643010798428779\n",
      "Gradient Descent(197/199): ||gradient||=0.07305804534471143, loss=0.39859163549689197, w0=0.10928081222956029, w1=-0.5655516699980146\n",
      "Gradient Descent(198/199): ||gradient||=0.030819594387645147, loss=0.3985034425771877, w0=0.10935365662491973, w1=-0.5682282917966032\n",
      "Gradient Descent(199/199): ||gradient||=0.03188727772915309, loss=0.39839639314794145, w0=0.10881390348743876, w1=-0.5727457404834901\n"
     ]
    }
   ],
   "source": [
    "# Define the parameters of the algorithm.\n",
    "max_iters = 200\n",
    "gamma = 0.0001\n",
    "\n",
    "# Initialization\n",
    "w_initial = np.zeros(tX.shape[1])\n",
    "\n",
    "# Start gradient descent.\n",
    "gradient_w, gradient_loss = gradient_descent(y, tX, w_initial, max_iters, gamma)"
   ]
  },
  {
   "cell_type": "code",
   "execution_count": 65,
   "metadata": {},
   "outputs": [],
   "source": [
    "def compute_stoch_gradient(y, tx, w):\n",
    "    \"\"\"Compute a stochastic gradient from just few examples n and their corresponding y_n labels.\"\"\"\n",
    "    e=y-tx.dot(w)\n",
    "    N=len(y)\n",
    "    return -(np.transpose(tx).dot(e))/N\n",
    "\n",
    "def stochastic_gradient_descent(y, tx, initial_w, batch_size, max_iters, gamma):\n",
    "    \"\"\"Stochastic gradient descent algorithm.\"\"\"\n",
    "    w = initial_w\n",
    "    loss = np.inf\n",
    "    for n_iter in range(max_iters):\n",
    "        for yn, xn in batch_iter(y, tx, batch_size):\n",
    "            g = compute_stoch_gradient(yn, xn, w)\n",
    "            new_w = w - gamma*g;\n",
    "            new_loss = compute_loss(y, tx, new_w)\n",
    "        if new_loss <= loss:\n",
    "            loss , w = new_loss , new_w\n",
    "            gamma *=1.8\n",
    "            #print(\"SGD({bi}/{ti}): loss={l} ; gamma={g}; gamma aumenta\".format(\n",
    "             # bi=n_iter, ti=max_iters - 1, l=loss, g= gamma))\n",
    "        else:\n",
    "            gamma *=0.3\n",
    "            #print(\"SGD({bi}/{ti}): loss={l} ; gamma={g}; gamma diminuisce\".format(\n",
    "             #     bi=n_iter, ti=max_iters - 1, l=loss, g= gamma))\n",
    "        print(\"SGD({bi}/{ti}): |gradient|={grad}, loss={l}, w0={w0}, w1={w1}\".format(\n",
    "              bi=n_iter, ti=max_iters - 1, grad=np.linalg.norm(g), l=loss, w0=w[0], w1=w[1]))\n",
    "\n",
    "    return w, loss"
   ]
  },
  {
   "cell_type": "code",
   "execution_count": 66,
   "metadata": {
    "scrolled": true
   },
   "outputs": [
    {
     "name": "stdout",
     "output_type": "stream",
     "text": [
      "SGD(0/99): |gradient|=2.321887720293888, loss=0.5007038019214434, w0=0.005978576090665615, w1=0.001669609948387445\n",
      "SGD(1/99): |gradient|=6.763563632638207, loss=0.5007038019214434, w0=0.005978576090665615, w1=0.001669609948387445\n",
      "SGD(2/99): |gradient|=6.766168804081491, loss=0.5007038019214434, w0=0.005978576090665615, w1=0.001669609948387445\n",
      "SGD(3/99): |gradient|=6.663633661239792, loss=0.48831902186553283, w0=0.005182186554156631, w1=0.0013291757832344156\n",
      "SGD(4/99): |gradient|=6.290292934465582, loss=0.47183497519335327, w0=0.003673413531123381, w1=0.00032639380301711495\n",
      "SGD(5/99): |gradient|=3.0743017281374367, loss=0.47183497519335327, w0=0.003673413531123381, w1=0.00032639380301711495\n",
      "SGD(6/99): |gradient|=3.1184504920493032, loss=0.47183497519335327, w0=0.003673413531123381, w1=0.00032639380301711495\n",
      "SGD(7/99): |gradient|=1.1284189610146602, loss=0.4718233133977638, w0=0.0034721324742868777, w1=0.0002732027839211068\n",
      "SGD(8/99): |gradient|=8.066196450830523, loss=0.4718233133977638, w0=0.0034721324742868777, w1=0.0002732027839211068\n",
      "SGD(9/99): |gradient|=5.605221164262531, loss=0.47130914228647725, w0=0.0045170702164910054, w1=-6.3526598751666575e-06\n",
      "SGD(10/99): |gradient|=1.5336053248239758, loss=0.4712870089973749, w0=0.004248292374218978, w1=-0.00018622533488691205\n",
      "SGD(11/99): |gradient|=5.448341619054199, loss=0.468154405988776, w0=0.0038469830505698174, w1=-0.00038974636851007733\n",
      "SGD(12/99): |gradient|=1.6062719499052798, loss=0.468154405988776, w0=0.0038469830505698174, w1=-0.00038974636851007733\n",
      "SGD(13/99): |gradient|=5.245504850398722, loss=0.46667111981959125, w0=0.0036226767457945798, w1=-0.000525151820221906\n",
      "SGD(14/99): |gradient|=3.1422442883228947, loss=0.46667111981959125, w0=0.0036226767457945798, w1=-0.000525151820221906\n",
      "SGD(15/99): |gradient|=5.688914238202088, loss=0.46571020160528936, w0=0.00430460334833408, w1=-0.000590527147202785\n",
      "SGD(16/99): |gradient|=1.3338647645602926, loss=0.46571020160528936, w0=0.00430460334833408, w1=-0.000590527147202785\n",
      "SGD(17/99): |gradient|=5.594425620293597, loss=0.4652128996325942, w0=0.004666926896150014, w1=-0.0006248274724284171\n",
      "SGD(18/99): |gradient|=5.0629160639759165, loss=0.46454292582113804, w0=0.004541875507647285, w1=-0.0007229737041067187\n",
      "SGD(19/99): |gradient|=4.965266454132358, loss=0.4634580005797608, w0=0.0042809000422397905, w1=-0.0008018611532605367\n",
      "SGD(20/99): |gradient|=4.0269879612917165, loss=0.46238155365626105, w0=0.007212512627009724, w1=-0.0011190309160035124\n",
      "SGD(21/99): |gradient|=1.5703312035876587, loss=0.46238155365626105, w0=0.007212512627009724, w1=-0.0011190309160035124\n",
      "SGD(22/99): |gradient|=4.910235904289132, loss=0.4613677082927098, w0=0.007040227885551081, w1=-0.00126755259170334\n",
      "SGD(23/99): |gradient|=1.1088663691140492, loss=0.46136119228932276, w0=0.006638135603152776, w1=-0.0013525276911520799\n",
      "SGD(24/99): |gradient|=1.3134297861675226, loss=0.46122744143449534, w0=0.006003860667452432, w1=-0.0016252710407415921\n",
      "SGD(25/99): |gradient|=1.6130696585133661, loss=0.46122744143449534, w0=0.006003860667452432, w1=-0.0016252710407415921\n",
      "SGD(26/99): |gradient|=4.827756346046902, loss=0.4596598525925162, w0=0.005646860004677118, w1=-0.0018040114817444689\n",
      "SGD(27/99): |gradient|=1.315601799280158, loss=0.4594066802345756, w0=0.005410492738328702, w1=-0.0022378965665409206\n",
      "SGD(28/99): |gradient|=1.933625266422617, loss=0.4593032189931281, w0=0.0033098929221185183, w1=-0.002742455834075206\n",
      "SGD(29/99): |gradient|=8.827947310242648, loss=0.4593032189931281, w0=0.0033098929221185183, w1=-0.002742455834075206\n",
      "SGD(30/99): |gradient|=3.37483660772048, loss=0.4593032189931281, w0=0.0033098929221185183, w1=-0.002742455834075206\n",
      "SGD(31/99): |gradient|=2.5371713257451156, loss=0.45927586299632567, w0=0.002839759349778863, w1=-0.0031560924331334125\n",
      "SGD(32/99): |gradient|=5.211526416054365, loss=0.4574183352784434, w0=0.004591095502419901, w1=-0.003353518961028006\n",
      "SGD(33/99): |gradient|=5.002515452226971, loss=0.45467039150291094, w0=0.007619650457411376, w1=-0.003667255648586025\n",
      "SGD(34/99): |gradient|=4.271972976258787, loss=0.45294456911623077, w0=0.006665131813076074, w1=-0.0039073882431800095\n",
      "SGD(35/99): |gradient|=9.624666560211358, loss=0.45294456911623077, w0=0.006665131813076074, w1=-0.0039073882431800095\n",
      "SGD(36/99): |gradient|=4.18041591163725, loss=0.4518832810721244, w0=0.009122873208468562, w1=-0.004141086657697065\n",
      "SGD(37/99): |gradient|=1.3936077964374323, loss=0.4518832810721244, w0=0.009122873208468562, w1=-0.004141086657697065\n",
      "SGD(38/99): |gradient|=1.7339952089071784, loss=0.4518832810721244, w0=0.009122873208468562, w1=-0.004141086657697065\n",
      "SGD(39/99): |gradient|=1.8173326228816327, loss=0.45183659106929436, w0=0.009044284247682865, w1=-0.004180215604953786\n",
      "SGD(40/99): |gradient|=1.5655754875880836, loss=0.45183659106929436, w0=0.009044284247682865, w1=-0.004180215604953786\n",
      "SGD(41/99): |gradient|=2.1428013396085284, loss=0.45183659106929436, w0=0.009044284247682865, w1=-0.004180215604953786\n",
      "SGD(42/99): |gradient|=3.8890069600008004, loss=0.4518155840046189, w0=0.009104373289566259, w1=-0.0041871136786842626\n",
      "SGD(43/99): |gradient|=9.8021892965896, loss=0.4518155840046189, w0=0.009104373289566259, w1=-0.0041871136786842626\n",
      "SGD(44/99): |gradient|=4.151723188395119, loss=0.45179322173993763, w0=0.00916728151078895, w1=-0.004193006461249953\n",
      "SGD(45/99): |gradient|=9.79248503572492, loss=0.45179322173993763, w0=0.00916728151078895, w1=-0.004193006461249953\n",
      "SGD(46/99): |gradient|=1.6421861059964806, loss=0.45179322173993763, w0=0.00916728151078895, w1=-0.004193006461249953\n",
      "SGD(47/99): |gradient|=2.1781964960853313, loss=0.45179322173993763, w0=0.00916728151078895, w1=-0.004193006461249953\n",
      "SGD(48/99): |gradient|=3.6413242495367286, loss=0.45179314898997514, w0=0.009167031362610203, w1=-0.004193139801813829\n",
      "SGD(49/99): |gradient|=1.4658775921851217, loss=0.45179314898997514, w0=0.009167031362610203, w1=-0.004193139801813829\n",
      "SGD(50/99): |gradient|=1.7709167316884067, loss=0.4517930598102891, w0=0.009166813975559204, w1=-0.004193183606021344\n",
      "SGD(51/99): |gradient|=1.5310914880868658, loss=0.4517929634287881, w0=0.009166341951538932, w1=-0.004193260906472404\n",
      "SGD(52/99): |gradient|=3.6413085730466124, loss=0.4517927505110133, w0=0.00916609338067155, w1=-0.004193484273012893\n",
      "SGD(53/99): |gradient|=1.326637440163015, loss=0.4517927505110133, w0=0.00916609338067155, w1=-0.004193484273012893\n",
      "SGD(54/99): |gradient|=1.157254229358393, loss=0.4517926127644778, w0=0.009165929967181567, w1=-0.004193778510682999\n",
      "SGD(55/99): |gradient|=1.6208977492746615, loss=0.45179235031204845, w0=0.009165315556903341, w1=-0.004193888260901482\n",
      "SGD(56/99): |gradient|=1.4930532219008141, loss=0.45179235031204845, w0=0.009165315556903341, w1=-0.004193888260901482\n",
      "SGD(57/99): |gradient|=9.791647506404944, loss=0.45179235031204845, w0=0.009165315556903341, w1=-0.004193888260901482\n",
      "SGD(58/99): |gradient|=3.7896698486644453, loss=0.45179234017979963, w0=0.009165157807610229, w1=-0.004193931800223705\n",
      "SGD(59/99): |gradient|=1.3291443980187219, loss=0.45179231535019276, w0=0.009164893224895772, w1=-0.004194065802467641\n",
      "SGD(60/99): |gradient|=1.3784236885930523, loss=0.45179231535019276, w0=0.009164893224895772, w1=-0.004194065802467641\n",
      "SGD(61/99): |gradient|=3.2981313497919134, loss=0.45179220943745546, w0=0.00916479220704041, w1=-0.004194119262055409\n",
      "SGD(62/99): |gradient|=1.5344231247943039, loss=0.4517921410414097, w0=0.009164618634805926, w1=-0.004194149461118988\n",
      "SGD(63/99): |gradient|=1.677781960302762, loss=0.4517919560309478, w0=0.009164445710030503, w1=-0.0041943288325396585\n",
      "SGD(64/99): |gradient|=9.772290643231598, loss=0.4517919560309478, w0=0.009164445710030503, w1=-0.0041943288325396585\n",
      "SGD(65/99): |gradient|=1.3958094592318564, loss=0.4517919560309478, w0=0.009164445710030503, w1=-0.0041943288325396585\n",
      "SGD(66/99): |gradient|=1.332551464473148, loss=0.4517919453520307, w0=0.009164380103862993, w1=-0.004194360568798949\n",
      "SGD(67/99): |gradient|=2.251676269837751, loss=0.4517918851548102, w0=0.009164269520986486, w1=-0.0041944149562880935\n",
      "SGD(68/99): |gradient|=3.633805603450203, loss=0.4517918447116626, w0=0.009164177086433831, w1=-0.004194479050978019\n",
      "SGD(69/99): |gradient|=5.291683660426587, loss=0.451790697469416, w0=0.009166789237005726, w1=-0.004194886224889431\n",
      "SGD(70/99): |gradient|=1.8988303419990786, loss=0.451790697469416, w0=0.009166789237005726, w1=-0.004194886224889431\n",
      "SGD(71/99): |gradient|=1.0997637085756724, loss=0.4517906592358834, w0=0.009166646410919372, w1=-0.004195010484292936\n",
      "SGD(72/99): |gradient|=3.8381512370234905, loss=0.451790650033831, w0=0.009166092613338173, w1=-0.004195169834201485\n",
      "SGD(73/99): |gradient|=3.9125198387840636, loss=0.4517892448984014, w0=0.009170490416157737, w1=-0.004195553507604661\n",
      "SGD(74/99): |gradient|=2.1821710211516403, loss=0.4517886551706317, w0=0.009169274380057763, w1=-0.004196686092138745\n",
      "SGD(75/99): |gradient|=3.614776292777614, loss=0.4517882720343531, w0=0.009168541159862879, w1=-0.004197275127228441\n",
      "SGD(76/99): |gradient|=3.902855391947269, loss=0.4517834434157179, w0=0.009181689288585627, w1=-0.004198862831358927\n",
      "SGD(77/99): |gradient|=3.6427089873049727, loss=0.45178215274982403, w0=0.009178369916947903, w1=-0.0042001774713944584\n",
      "SGD(78/99): |gradient|=3.9594746786153356, loss=0.45175465663921954, w0=0.00926129474458424, w1=-0.004208193970959914\n",
      "SGD(79/99): |gradient|=3.6823390982480215, loss=0.45175034834079497, w0=0.009247038281603576, w1=-0.00421592004058068\n",
      "SGD(80/99): |gradient|=1.8289061368150834, loss=0.451732019819971, w0=0.009218128544921137, w1=-0.004235836906885836\n",
      "SGD(81/99): |gradient|=2.6268761369447478, loss=0.451732019819971, w0=0.009218128544921137, w1=-0.004235836906885836\n",
      "SGD(82/99): |gradient|=1.4747514993726685, loss=0.45172737774581306, w0=0.009196231259872215, w1=-0.00423864268051449\n",
      "SGD(83/99): |gradient|=3.869004422639366, loss=0.451681906252066, w0=0.009329981989769327, w1=-0.004252685648033447\n",
      "SGD(84/99): |gradient|=3.633223327315988, loss=0.4516724454786052, w0=0.009295808739552887, w1=-0.004270143159436896\n",
      "SGD(85/99): |gradient|=2.0360627230169857, loss=0.4516724454786052, w0=0.009295808739552887, w1=-0.004270143159436896\n",
      "SGD(86/99): |gradient|=9.884412658748385, loss=0.4516724454786052, w0=0.009295808739552887, w1=-0.004270143159436896\n",
      "SGD(87/99): |gradient|=9.838399485214232, loss=0.4516724454786052, w0=0.009295808739552887, w1=-0.004270143159436896\n",
      "SGD(88/99): |gradient|=1.1679789099425193, loss=0.45167195157626816, w0=0.0092927338046258, w1=-0.0042715560074590405\n",
      "SGD(89/99): |gradient|=3.825364695961825, loss=0.45166534786964924, w0=0.009313566633341775, w1=-0.004273592914407237\n",
      "SGD(90/99): |gradient|=1.5059415242042204, loss=0.45166534786964924, w0=0.009313566633341775, w1=-0.004273592914407237\n",
      "SGD(91/99): |gradient|=9.934056246744692, loss=0.45166534786964924, w0=0.009313566633341775, w1=-0.004273592914407237\n",
      "SGD(92/99): |gradient|=3.823331512908616, loss=0.45166430575681316, w0=0.009316947815312476, w1=-0.004273907032965924\n",
      "SGD(93/99): |gradient|=1.5092394656431587, loss=0.45166430575681316, w0=0.009316947815312476, w1=-0.004273907032965924\n",
      "SGD(94/99): |gradient|=2.9588159998089045, loss=0.4516642236262539, w0=0.009315456585656847, w1=-0.004274030875643423\n",
      "SGD(95/99): |gradient|=3.6202196926851617, loss=0.45166407562688077, w0=0.009315048546371536, w1=-0.00427429405044379\n",
      "SGD(96/99): |gradient|=11.64359652230541, loss=0.45166407562688077, w0=0.009315048546371536, w1=-0.00427429405044379\n",
      "SGD(97/99): |gradient|=9.833103085402627, loss=0.45166407562688077, w0=0.009315048546371536, w1=-0.00427429405044379\n",
      "SGD(98/99): |gradient|=2.327026403102148, loss=0.45166407562688077, w0=0.009315048546371536, w1=-0.00427429405044379\n",
      "SGD(99/99): |gradient|=3.8231351747971525, loss=0.45166402640424347, w0=0.009315208285497452, w1=-0.004274306744400328\n"
     ]
    }
   ],
   "source": [
    "# from stochastic_gradient_descent import *\n",
    "\n",
    "# Define the parameters of the algorithm.\n",
    "max_iters = 100\n",
    "gamma = 0.01\n",
    "batch_size = 1\n",
    "\n",
    "# Initialization\n",
    "w_initial = np.zeros(tX.shape[1])\n",
    "\n",
    "# Start SGD.\n",
    "sgd_loss, sgd_w = stochastic_gradient_descent(\n",
    "    y, tX, w_initial, batch_size, max_iters, gamma)\n"
   ]
  },
  {
   "cell_type": "code",
   "execution_count": 67,
   "metadata": {},
   "outputs": [],
   "source": [
    "def least_squares(y, tx):\n",
    "    \"\"\"calculate the least squares solution.\"\"\"\n",
    "    D = tx.shape[1]\n",
    "    G = tx.T.dot(tx)\n",
    "    if(np.linalg.matrix_rank(G)==D):\n",
    "        w = np.linalg.inv(G).dot(tx.T).dot(y)\n",
    "    else:\n",
    "        w = np.linalg.lstsq(G,tx.T.dot(y), rcond=None) [0]\n",
    "    return w"
   ]
  },
  {
   "cell_type": "code",
   "execution_count": 68,
   "metadata": {},
   "outputs": [
    {
     "ename": "NameError",
     "evalue": "name 'w' is not defined",
     "output_type": "error",
     "traceback": [
      "\u001b[0;31m---------------------------------------------------------------------------\u001b[0m",
      "\u001b[0;31mNameError\u001b[0m                                 Traceback (most recent call last)",
      "\u001b[0;32m<ipython-input-68-9fa0ba9d5240>\u001b[0m in \u001b[0;36m<module>\u001b[0;34m\u001b[0m\n\u001b[1;32m      1\u001b[0m \u001b[0mw_ls\u001b[0m \u001b[0;34m=\u001b[0m \u001b[0mleast_squares\u001b[0m\u001b[0;34m(\u001b[0m\u001b[0my\u001b[0m\u001b[0;34m,\u001b[0m \u001b[0mtX\u001b[0m\u001b[0;34m)\u001b[0m\u001b[0;34m\u001b[0m\u001b[0;34m\u001b[0m\u001b[0m\n\u001b[0;32m----> 2\u001b[0;31m \u001b[0mloss\u001b[0m \u001b[0;34m=\u001b[0m \u001b[0mcompute_loss\u001b[0m\u001b[0;34m(\u001b[0m\u001b[0my\u001b[0m\u001b[0;34m,\u001b[0m \u001b[0mtX\u001b[0m\u001b[0;34m,\u001b[0m \u001b[0mw\u001b[0m\u001b[0;34m)\u001b[0m\u001b[0;34m\u001b[0m\u001b[0;34m\u001b[0m\u001b[0m\n\u001b[0m\u001b[1;32m      3\u001b[0m \u001b[0mloss\u001b[0m\u001b[0;34m\u001b[0m\u001b[0;34m\u001b[0m\u001b[0m\n",
      "\u001b[0;31mNameError\u001b[0m: name 'w' is not defined"
     ]
    }
   ],
   "source": [
    "w_ls = least_squares(y, tX)\n",
    "loss = compute_loss(y, tX, w)\n",
    "loss"
   ]
  },
  {
   "cell_type": "code",
   "execution_count": null,
   "metadata": {},
   "outputs": [],
   "source": [
    "# w_star = least_squares(y,xpoly)\n",
    "w0 = least_squares(y,xpoly[:,:,0])\n",
    "w1 = least_squares(y,xpoly[:,:,1])\n",
    "w2 = least_squares(y,xpoly[:,:,2])"
   ]
  },
  {
   "cell_type": "code",
   "execution_count": null,
   "metadata": {},
   "outputs": [],
   "source": [
    "w = [w0, w1, w2]\n",
    "yp = np.zeros((250000,3))\n",
    "yp[:,0] = xpoly[:,:,0].dot(w0)\n",
    "yp[:,1] = xpoly[:,:,1].dot(w1)\n",
    "yp[:,2] = xpoly[:,:,2].dot(w2)\n",
    "compute_loss(yp, xpoly, w)"
   ]
  },
  {
   "cell_type": "code",
   "execution_count": 16,
   "metadata": {},
   "outputs": [],
   "source": [
    "def ridge_regression(y, tx, lambda_):\n",
    "    \"\"\"implement ridge regression.\"\"\"\n",
    "    N = len(y)\n",
    "    G = tx.T.dot(tx)\n",
    "    i = np.linalg.inv(G + 2*N*lambda_*np.eye(G.shape[0]))\n",
    "    w_star = i.dot(tx.T).dot(y)\n",
    "    return w_star"
   ]
  },
  {
   "cell_type": "code",
   "execution_count": 76,
   "metadata": {},
   "outputs": [],
   "source": [
    "xpoly = build_poly(tX,7)"
   ]
  },
  {
   "cell_type": "code",
   "execution_count": 77,
   "metadata": {},
   "outputs": [
    {
     "name": "stdout",
     "output_type": "stream",
     "text": [
      "0.40817865583886614\n"
     ]
    }
   ],
   "source": [
    "lambda_ = 0.2\n",
    "w = ridge_regression(y, xpoly, lambda_)\n",
    "loss = compute_loss(y, xpoly, w)\n",
    "print(loss)"
   ]
  },
  {
   "cell_type": "markdown",
   "metadata": {},
   "source": [
    "## Generate predictions and save ouput in csv format for submission:"
   ]
  },
  {
   "cell_type": "code",
   "execution_count": 245,
   "metadata": {},
   "outputs": [
    {
     "data": {
      "text/plain": [
       "array([ 2.24104142e-04, -8.68280397e-03, -2.68859353e-03, -2.22470926e-03,\n",
       "       -5.48363092e-03,  5.00183793e-04, -1.72285231e-02,  6.05199540e-02,\n",
       "        1.57457370e-05,  3.49522005e-03, -5.39186900e-02,  6.84999623e-02,\n",
       "        2.19603319e-02,  5.70895097e-03, -4.23536533e-04, -1.28871636e-03,\n",
       "        3.30152909e-03, -5.20781620e-04,  9.12327144e-04,  4.86026909e-03,\n",
       "        4.62605701e-04, -7.55206472e-04, -5.59287480e-02,  1.20180623e-03,\n",
       "       -6.34079801e-04, -4.00651108e-04,  5.73198500e-05,  1.25042999e-03,\n",
       "       -8.49579237e-04, -5.51323579e-03])"
      ]
     },
     "execution_count": 245,
     "metadata": {},
     "output_type": "execute_result"
    }
   ],
   "source": [
    "weights = w\n",
    "weights"
   ]
  },
  {
   "cell_type": "code",
   "execution_count": 227,
   "metadata": {},
   "outputs": [],
   "source": [
    "DATA_TEST_PATH = '../data/test.csv'\n",
    "_, tX_test, ids_test = load_csv_data(DATA_TEST_PATH)"
   ]
  },
  {
   "cell_type": "code",
   "execution_count": 246,
   "metadata": {},
   "outputs": [],
   "source": [
    "OUTPUT_PATH = '../data/submission.csv'\n",
    "tX_test_s, mean_tes, std_test = standardize(tX_test)\n",
    "y_pred = predict_labels(weights, tX_test_s)\n",
    "create_csv_submission(ids_test, y_pred, OUTPUT_PATH)"
   ]
  },
  {
   "cell_type": "code",
   "execution_count": 247,
   "metadata": {},
   "outputs": [
    {
     "data": {
      "text/plain": [
       "0.4940938727534078"
      ]
     },
     "execution_count": 247,
     "metadata": {},
     "output_type": "execute_result"
    }
   ],
   "source": [
    "loss = compute_loss(y_pred, tX_test_s, w)\n",
    "loss"
   ]
  },
  {
   "cell_type": "code",
   "execution_count": 263,
   "metadata": {},
   "outputs": [
    {
     "data": {
      "text/plain": [
       "array([[-2.96637287, -1.59557484],\n",
       "       [-0.96443888,  2.30659937],\n",
       "       [-2.7925803 , -1.26619016],\n",
       "       ...,\n",
       "       [-2.78555006, -1.2651345 ],\n",
       "       [-0.97573941,  2.28919741],\n",
       "       [-2.80136474, -1.27570913]])"
      ]
     },
     "execution_count": 263,
     "metadata": {},
     "output_type": "execute_result"
    },
    {
     "data": {
      "image/png": "[encoded data removed]",
      "text/plain": [
       "<Figure size 432x288 with 1 Axes>"
      ]
     },
     "metadata": {
      "needs_background": "light"
     },
     "output_type": "display_data"
    }
   ],
   "source": [
    "from sklearn.decomposition import PCA\n",
    "pca = PCA(n_components=2)\n",
    "principalComponents = pca.fit_transform(tX_test_s)\n",
    "plt.scatter(principalComponents[:,0], principalComponents[:,1])"
   ]
  }
 ],
 "metadata": {
  "anaconda-cloud": {},
  "kernelspec": {
   "display_name": "hw1_ADA",
   "language": "python",
   "name": "hw1_ada"
  },
  "language_info": {
   "codemirror_mode": {
    "name": "ipython",
    "version": 3
   },
   "file_extension": ".py",
   "mimetype": "text/x-python",
   "name": "python",
   "nbconvert_exporter": "python",
   "pygments_lexer": "ipython3",
   "version": "3.6.8"
  },
  "latex_envs": {
   "LaTeX_envs_menu_present": true,
   "autoclose": false,
   "autocomplete": true,
   "bibliofile": "biblio.bib",
   "cite_by": "apalike",
   "current_citInitial": 1,
   "eqLabelWithNumbers": true,
   "eqNumInitial": 1,
   "hotkeys": {
    "equation": "Ctrl-E",
    "itemize": "Ctrl-I"
   },
   "labels_anchors": false,
   "latex_user_defs": false,
   "report_style_numbering": false,
   "user_envs_cfg": false
  },
  "varInspector": {
   "cols": {
    "lenName": 16,
    "lenType": 16,
    "lenVar": 40
   },
   "kernels_config": {
    "python": {
     "delete_cmd_postfix": "",
     "delete_cmd_prefix": "del ",
     "library": "var_list.py",
     "varRefreshCmd": "print(var_dic_list())"
    },
    "r": {
     "delete_cmd_postfix": ") ",
     "delete_cmd_prefix": "rm(",
     "library": "var_list.r",
     "varRefreshCmd": "cat(var_dic_list()) "
    }
   },
   "types_to_exclude": [
    "module",
    "function",
    "builtin_function_or_method",
    "instance",
    "_Feature"
   ],
   "window_display": false
  }
 },
 "nbformat": 4,
 "nbformat_minor": 4
}
