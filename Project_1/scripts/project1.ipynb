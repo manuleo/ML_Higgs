{
 "cells": [
  {
   "cell_type": "code",
   "execution_count": 1,
   "metadata": {},
   "outputs": [],
   "source": [
    "# Useful starting lines\n",
    "%matplotlib inline\n",
    "import numpy as np\n",
    "import matplotlib.pyplot as plt\n",
    "%load_ext autoreload\n",
    "%autoreload 2"
   ]
  },
  {
   "cell_type": "code",
   "execution_count": 2,
   "metadata": {},
   "outputs": [],
   "source": [
    "from proj1_helpers import *\n",
    "from costs import *\n",
    "from lab_helpers import *\n",
    "from plots_lab4 import *\n",
    "from my_helpers import *\n",
    "import pandas as pd\n",
    "import matplotlib.pyplot as plt"
   ]
  },
  {
   "cell_type": "markdown",
   "metadata": {},
   "source": [
    "## To Do Graphs\n",
    "- PCA Decomposition + Classification\n",
    "- Correlation\n",
    "- Changing loss for different algorithms\n",
    "- ???"
   ]
  },
  {
   "cell_type": "markdown",
   "metadata": {},
   "source": [
    "## To Do tasks\n",
    "- Manuel: implement K-fold to choose degree, change split data , ?\n",
    "- Gabbo: ?\n",
    "- Marco: ?"
   ]
  },
  {
   "cell_type": "markdown",
   "metadata": {},
   "source": [
    "## Load the training data into feature matrix, class labels, and event ids:"
   ]
  },
  {
   "cell_type": "code",
   "execution_count": 3,
   "metadata": {},
   "outputs": [],
   "source": [
    "DATA_TRAIN_PATH = '../data/train.csv'\n",
    "y_or, tX_or, ids = load_csv_data(DATA_TRAIN_PATH)"
   ]
  },
  {
   "cell_type": "code",
   "execution_count": 4,
   "metadata": {},
   "outputs": [],
   "source": [
    "y = y_or\n",
    "tX = tX_or"
   ]
  },
  {
   "cell_type": "markdown",
   "metadata": {},
   "source": [
    "## Data preprocessing"
   ]
  },
  {
   "cell_type": "code",
   "execution_count": 5,
   "metadata": {},
   "outputs": [
    {
     "data": {
      "text/html": [
       "<div>\n",
       "<style scoped>\n",
       "    .dataframe tbody tr th:only-of-type {\n",
       "        vertical-align: middle;\n",
       "    }\n",
       "\n",
       "    .dataframe tbody tr th {\n",
       "        vertical-align: top;\n",
       "    }\n",
       "\n",
       "    .dataframe thead th {\n",
       "        text-align: right;\n",
       "    }\n",
       "</style>\n",
       "<table border=\"1\" class=\"dataframe\">\n",
       "  <thead>\n",
       "    <tr style=\"text-align: right;\">\n",
       "      <th></th>\n",
       "      <th>DER_mass_MMC</th>\n",
       "      <th>DER_mass_transverse_met_lep</th>\n",
       "      <th>DER_mass_vis</th>\n",
       "      <th>DER_pt_h</th>\n",
       "      <th>DER_deltaeta_jet_jet</th>\n",
       "      <th>DER_mass_jet_jet</th>\n",
       "      <th>DER_prodeta_jet_jet</th>\n",
       "      <th>DER_deltar_tau_lep</th>\n",
       "      <th>DER_pt_tot</th>\n",
       "      <th>DER_sum_pt</th>\n",
       "      <th>...</th>\n",
       "      <th>PRI_met_phi</th>\n",
       "      <th>PRI_met_sumet</th>\n",
       "      <th>PRI_jet_num</th>\n",
       "      <th>PRI_jet_leading_pt</th>\n",
       "      <th>PRI_jet_leading_eta</th>\n",
       "      <th>PRI_jet_leading_phi</th>\n",
       "      <th>PRI_jet_subleading_pt</th>\n",
       "      <th>PRI_jet_subleading_eta</th>\n",
       "      <th>PRI_jet_subleading_phi</th>\n",
       "      <th>PRI_jet_all_pt</th>\n",
       "    </tr>\n",
       "  </thead>\n",
       "  <tbody>\n",
       "    <tr>\n",
       "      <td>0</td>\n",
       "      <td>138.470</td>\n",
       "      <td>51.655</td>\n",
       "      <td>97.827</td>\n",
       "      <td>27.980</td>\n",
       "      <td>0.91</td>\n",
       "      <td>124.711</td>\n",
       "      <td>2.666</td>\n",
       "      <td>3.064</td>\n",
       "      <td>41.928</td>\n",
       "      <td>197.760</td>\n",
       "      <td>...</td>\n",
       "      <td>-0.277</td>\n",
       "      <td>258.733</td>\n",
       "      <td>2</td>\n",
       "      <td>67.435</td>\n",
       "      <td>2.150</td>\n",
       "      <td>0.444</td>\n",
       "      <td>46.062</td>\n",
       "      <td>1.24</td>\n",
       "      <td>-2.475</td>\n",
       "      <td>113.497</td>\n",
       "    </tr>\n",
       "    <tr>\n",
       "      <td>1</td>\n",
       "      <td>160.937</td>\n",
       "      <td>68.768</td>\n",
       "      <td>103.235</td>\n",
       "      <td>48.146</td>\n",
       "      <td>-999.00</td>\n",
       "      <td>-999.000</td>\n",
       "      <td>-999.000</td>\n",
       "      <td>3.473</td>\n",
       "      <td>2.078</td>\n",
       "      <td>125.157</td>\n",
       "      <td>...</td>\n",
       "      <td>-1.916</td>\n",
       "      <td>164.546</td>\n",
       "      <td>1</td>\n",
       "      <td>46.226</td>\n",
       "      <td>0.725</td>\n",
       "      <td>1.158</td>\n",
       "      <td>-999.000</td>\n",
       "      <td>-999.00</td>\n",
       "      <td>-999.000</td>\n",
       "      <td>46.226</td>\n",
       "    </tr>\n",
       "    <tr>\n",
       "      <td>2</td>\n",
       "      <td>-999.000</td>\n",
       "      <td>162.172</td>\n",
       "      <td>125.953</td>\n",
       "      <td>35.635</td>\n",
       "      <td>-999.00</td>\n",
       "      <td>-999.000</td>\n",
       "      <td>-999.000</td>\n",
       "      <td>3.148</td>\n",
       "      <td>9.336</td>\n",
       "      <td>197.814</td>\n",
       "      <td>...</td>\n",
       "      <td>-2.186</td>\n",
       "      <td>260.414</td>\n",
       "      <td>1</td>\n",
       "      <td>44.251</td>\n",
       "      <td>2.053</td>\n",
       "      <td>-2.028</td>\n",
       "      <td>-999.000</td>\n",
       "      <td>-999.00</td>\n",
       "      <td>-999.000</td>\n",
       "      <td>44.251</td>\n",
       "    </tr>\n",
       "    <tr>\n",
       "      <td>3</td>\n",
       "      <td>143.905</td>\n",
       "      <td>81.417</td>\n",
       "      <td>80.943</td>\n",
       "      <td>0.414</td>\n",
       "      <td>-999.00</td>\n",
       "      <td>-999.000</td>\n",
       "      <td>-999.000</td>\n",
       "      <td>3.310</td>\n",
       "      <td>0.414</td>\n",
       "      <td>75.968</td>\n",
       "      <td>...</td>\n",
       "      <td>0.060</td>\n",
       "      <td>86.062</td>\n",
       "      <td>0</td>\n",
       "      <td>-999.000</td>\n",
       "      <td>-999.000</td>\n",
       "      <td>-999.000</td>\n",
       "      <td>-999.000</td>\n",
       "      <td>-999.00</td>\n",
       "      <td>-999.000</td>\n",
       "      <td>0.000</td>\n",
       "    </tr>\n",
       "    <tr>\n",
       "      <td>4</td>\n",
       "      <td>175.864</td>\n",
       "      <td>16.915</td>\n",
       "      <td>134.805</td>\n",
       "      <td>16.405</td>\n",
       "      <td>-999.00</td>\n",
       "      <td>-999.000</td>\n",
       "      <td>-999.000</td>\n",
       "      <td>3.891</td>\n",
       "      <td>16.405</td>\n",
       "      <td>57.983</td>\n",
       "      <td>...</td>\n",
       "      <td>-0.871</td>\n",
       "      <td>53.131</td>\n",
       "      <td>0</td>\n",
       "      <td>-999.000</td>\n",
       "      <td>-999.000</td>\n",
       "      <td>-999.000</td>\n",
       "      <td>-999.000</td>\n",
       "      <td>-999.00</td>\n",
       "      <td>-999.000</td>\n",
       "      <td>0.000</td>\n",
       "    </tr>\n",
       "  </tbody>\n",
       "</table>\n",
       "<p>5 rows × 30 columns</p>\n",
       "</div>"
      ],
      "text/plain": [
       "   DER_mass_MMC  DER_mass_transverse_met_lep  DER_mass_vis  DER_pt_h  \\\n",
       "0       138.470                       51.655        97.827    27.980   \n",
       "1       160.937                       68.768       103.235    48.146   \n",
       "2      -999.000                      162.172       125.953    35.635   \n",
       "3       143.905                       81.417        80.943     0.414   \n",
       "4       175.864                       16.915       134.805    16.405   \n",
       "\n",
       "   DER_deltaeta_jet_jet  DER_mass_jet_jet  DER_prodeta_jet_jet  \\\n",
       "0                  0.91           124.711                2.666   \n",
       "1               -999.00          -999.000             -999.000   \n",
       "2               -999.00          -999.000             -999.000   \n",
       "3               -999.00          -999.000             -999.000   \n",
       "4               -999.00          -999.000             -999.000   \n",
       "\n",
       "   DER_deltar_tau_lep  DER_pt_tot  DER_sum_pt  ...  PRI_met_phi  \\\n",
       "0               3.064      41.928     197.760  ...       -0.277   \n",
       "1               3.473       2.078     125.157  ...       -1.916   \n",
       "2               3.148       9.336     197.814  ...       -2.186   \n",
       "3               3.310       0.414      75.968  ...        0.060   \n",
       "4               3.891      16.405      57.983  ...       -0.871   \n",
       "\n",
       "   PRI_met_sumet  PRI_jet_num  PRI_jet_leading_pt  PRI_jet_leading_eta  \\\n",
       "0        258.733            2              67.435                2.150   \n",
       "1        164.546            1              46.226                0.725   \n",
       "2        260.414            1              44.251                2.053   \n",
       "3         86.062            0            -999.000             -999.000   \n",
       "4         53.131            0            -999.000             -999.000   \n",
       "\n",
       "   PRI_jet_leading_phi  PRI_jet_subleading_pt  PRI_jet_subleading_eta  \\\n",
       "0                0.444                 46.062                    1.24   \n",
       "1                1.158               -999.000                 -999.00   \n",
       "2               -2.028               -999.000                 -999.00   \n",
       "3             -999.000               -999.000                 -999.00   \n",
       "4             -999.000               -999.000                 -999.00   \n",
       "\n",
       "   PRI_jet_subleading_phi  PRI_jet_all_pt  \n",
       "0                  -2.475         113.497  \n",
       "1                -999.000          46.226  \n",
       "2                -999.000          44.251  \n",
       "3                -999.000           0.000  \n",
       "4                -999.000           0.000  \n",
       "\n",
       "[5 rows x 30 columns]"
      ]
     },
     "execution_count": 5,
     "metadata": {},
     "output_type": "execute_result"
    }
   ],
   "source": [
    "tX_pd = pd.read_csv('../data/train.csv')\n",
    "tX_pd.drop(labels=['Id', 'Prediction'], axis=1, inplace=True)\n",
    "tX_pd.head()"
   ]
  },
  {
   "cell_type": "code",
   "execution_count": 6,
   "metadata": {},
   "outputs": [
    {
     "name": "stdout",
     "output_type": "stream",
     "text": [
      "0 DER_mass_MMC\n",
      "1 DER_mass_transverse_met_lep\n",
      "2 DER_mass_vis\n",
      "3 DER_pt_h\n",
      "4 DER_deltaeta_jet_jet\n",
      "5 DER_mass_jet_jet\n",
      "6 DER_prodeta_jet_jet\n",
      "7 DER_deltar_tau_lep\n",
      "8 DER_pt_tot\n",
      "9 DER_sum_pt\n",
      "10 DER_pt_ratio_lep_tau\n",
      "11 DER_met_phi_centrality\n",
      "12 DER_lep_eta_centrality\n",
      "13 PRI_tau_pt\n",
      "14 PRI_tau_eta\n",
      "15 PRI_tau_phi\n",
      "16 PRI_lep_pt\n",
      "17 PRI_lep_eta\n",
      "18 PRI_lep_phi\n",
      "19 PRI_met\n",
      "20 PRI_met_phi\n",
      "21 PRI_met_sumet\n",
      "22 PRI_jet_num\n",
      "23 PRI_jet_leading_pt\n",
      "24 PRI_jet_leading_eta\n",
      "25 PRI_jet_leading_phi\n",
      "26 PRI_jet_subleading_pt\n",
      "27 PRI_jet_subleading_eta\n",
      "28 PRI_jet_subleading_phi\n",
      "29 PRI_jet_all_pt\n"
     ]
    }
   ],
   "source": [
    "i=0\n",
    "for c in tX_pd.columns:\n",
    "    print(i, c)\n",
    "    i+=1"
   ]
  },
  {
   "cell_type": "markdown",
   "metadata": {},
   "source": [
    "### Correlation graph needed"
   ]
  },
  {
   "cell_type": "code",
   "execution_count": 7,
   "metadata": {},
   "outputs": [
    {
     "data": {
      "text/plain": [
       "<matplotlib.axes._subplots.AxesSubplot at 0x7f5467cd6048>"
      ]
     },
     "execution_count": 7,
     "metadata": {},
     "output_type": "execute_result"
    },
    {
     "data": {
      "image/png": "[encoded data removed]",
      "text/plain": [
       "<Figure size 792x792 with 2 Axes>"
      ]
     },
     "metadata": {},
     "output_type": "display_data"
    }
   ],
   "source": [
    "import seaborn as sns\n",
    "sns.set(style=\"white\")\n",
    "\n",
    "d = tX_pd\n",
    "# Compute the correlation matrix\n",
    "corr = d.corr()\n",
    "\n",
    "# Generate a mask for the upper triangle\n",
    "mask = np.zeros_like(corr, dtype=np.bool)\n",
    "mask[np.triu_indices_from(mask)] = True\n",
    "\n",
    "# Set up the matplotlib figure\n",
    "f, ax = plt.subplots(figsize=(11, 11))\n",
    "\n",
    "# Generate a custom diverging colormap\n",
    "cmap = sns.diverging_palette(220, 10, as_cmap=True)\n",
    "\n",
    "# Draw the heatmap with the mask and correct aspect ratio\n",
    "sns.heatmap(corr, mask=mask, cmap=cmap, vmax=1, center=0,\n",
    "            square=True, linewidths=.5, cbar_kws={\"shrink\": .5})"
   ]
  },
  {
   "cell_type": "code",
   "execution_count": 8,
   "metadata": {},
   "outputs": [],
   "source": [
    "tX_pd=pd.DataFrame(tX)"
   ]
  },
  {
   "cell_type": "code",
   "execution_count": 9,
   "metadata": {},
   "outputs": [
    {
     "name": "stdout",
     "output_type": "stream",
     "text": [
      "0 38114\n",
      "4 177457\n",
      "5 177457\n",
      "6 177457\n",
      "12 177457\n",
      "23 99913\n",
      "24 99913\n",
      "25 99913\n",
      "26 177457\n",
      "27 177457\n",
      "28 177457\n"
     ]
    }
   ],
   "source": [
    "for i in range(0,30):\n",
    "    s = tX_pd[tX_pd[i]==-999].index.size\n",
    "    if s > 900:\n",
    "        print(i, s)"
   ]
  },
  {
   "cell_type": "markdown",
   "metadata": {},
   "source": [
    "Funzione di Marco per cancellare tutto con numpy e mettere la media: da scrivere e usare al posto di pandas alla fine"
   ]
  },
  {
   "cell_type": "code",
   "execution_count": 10,
   "metadata": {},
   "outputs": [],
   "source": [
    "# uno = np.where(tX==-999,1,0)\n",
    "# s = np.sum(uno,axis=0)\n",
    "# index = np.argwhere(s > 100000)\n",
    "# new = np.delete(tX,index[1:],axis=1)\n",
    "# uno = np.where(new==-999,1,0)\n",
    "# s = np.sum(uno,axis=0)\n",
    "# index = np.argwhere((s>40000)&(s < 100000))\n",
    "# new = np.delete(new,index[1:],axis=1)\n",
    "# uno = np.where(new==-999,1,0)\n",
    "# s = np.sum(uno,axis=0)\n",
    "# index = np.argwhere((s<40000)&(s>1))\n",
    "# prima = new[:,index]\n",
    "# index_ = np.argwhere(prima==-999)\n",
    "# prima_new = np.delete(prima, index_)\n",
    "# media = np.median(prima_new)\n",
    "# prima[prima==-999] = media\n",
    "# new[:,index] = prima\n",
    "\n",
    "# uno = np.where(new==-999,1,0)\n",
    "# s = np.sum(uno,axis=0)\n",
    "# index = np.argwhere((s>40000)&(s < 100000))\n",
    "# prima = new[:,index]\n",
    "# index_ = np.argwhere(prima==-999)\n",
    "# prima_new = np.delete(prima, index_)\n",
    "# media = np.median(prima_new)\n",
    "# prima[prima==-999] = media\n",
    "# new[:,index] = prima\n",
    "\n",
    "# uno = np.where(new==-999,1,0)\n",
    "# s = np.sum(uno,axis=0)\n",
    "# index = np.argwhere(s > 100000)\n",
    "# prima = new[:,index]\n",
    "# index_ = np.argwhere(prima==-999)\n",
    "# prima_new = np.delete(prima, index_)\n",
    "# media = np.median(prima_new)\n",
    "# prima[prima==-999] = media\n",
    "# new[:,index] = prima"
   ]
  },
  {
   "cell_type": "markdown",
   "metadata": {},
   "source": [
    "Drop PRI with a lot of null + 29 (29 is a Pri corr with 9)"
   ]
  },
  {
   "cell_type": "code",
   "execution_count": 11,
   "metadata": {},
   "outputs": [],
   "source": [
    "drops = [5,6,12,24,25,26,27,28,29] #our"
   ]
  },
  {
   "cell_type": "code",
   "execution_count": 12,
   "metadata": {},
   "outputs": [],
   "source": [
    "drops = [12, 5, 6, 29, 24, 25, 27, 28, 26, 21] #kaggle"
   ]
  },
  {
   "cell_type": "code",
   "execution_count": 13,
   "metadata": {},
   "outputs": [],
   "source": [
    "tX_pd.drop(drops, axis=1, inplace=True)"
   ]
  },
  {
   "cell_type": "code",
   "execution_count": 14,
   "metadata": {},
   "outputs": [],
   "source": [
    "#replace with median\n",
    "tX_pd.where(tX_pd!=-999, inplace=True)\n",
    "tX_pd.fillna(tX_pd.mean(), inplace=True)"
   ]
  },
  {
   "cell_type": "code",
   "execution_count": 15,
   "metadata": {},
   "outputs": [],
   "source": [
    "tX = tX_pd.values"
   ]
  },
  {
   "cell_type": "markdown",
   "metadata": {},
   "source": [
    "Normalize Data"
   ]
  },
  {
   "cell_type": "code",
   "execution_count": 16,
   "metadata": {},
   "outputs": [],
   "source": [
    "tX, mean_x, std_x = standardize(tX)"
   ]
  },
  {
   "cell_type": "markdown",
   "metadata": {},
   "source": [
    "Split Data"
   ]
  },
  {
   "cell_type": "code",
   "execution_count": 17,
   "metadata": {},
   "outputs": [],
   "source": [
    "x_tr, x_te, y_tr, y_te = split_data(y,tX,0.75,1)"
   ]
  },
  {
   "cell_type": "code",
   "execution_count": 18,
   "metadata": {},
   "outputs": [],
   "source": [
    "def cross_validation(y, x, k_indices, k, lambda_, degree, mean=True):\n",
    "    \"\"\"return the loss of ridge regression.\"\"\"\n",
    "    losses_tr = []\n",
    "    losses_te = []\n",
    "    \n",
    "    # get k'th subgroup in test, others in train: TODO\n",
    "    for k_group in range(k):\n",
    "        index_te = k_indices[k_group]\n",
    "        index_tr = np.setdiff1d(np.arange(len(y)), index_te)\n",
    "        x_te = x[index_te]\n",
    "        x_tr = x[index_tr]\n",
    "        y_te = y[index_te]\n",
    "        y_tr = y[index_tr]\n",
    "        \n",
    "        # form data with polynomial degree\n",
    "        x_te_poly = build_poly(x_te, degree)\n",
    "        x_tr_poly = build_poly(x_tr, degree)\n",
    "   \n",
    "        w = ridge_regression(y_tr, x_tr_poly, lambda_)\n",
    "        #w = least_squares(y_tr, x_tr_poly)\n",
    "    \n",
    "        # calculate the loss for train and test data\n",
    "        rmse_tr = compute_rmse(y_tr, x_tr_poly, w)\n",
    "        rmse_te = compute_rmse(y_te, x_te_poly, w)\n",
    "        losses_tr.append(rmse_tr)\n",
    "        losses_te.append(rmse_te)\n",
    "\n",
    "    if mean==True:\n",
    "        loss_tr = np.mean(losses_tr)\n",
    "        loss_te = np.mean(losses_te)\n",
    "    else:\n",
    "        loss_tr = losses_tr\n",
    "        loss_te = losses_te\n",
    "    return loss_tr, loss_te"
   ]
  },
  {
   "cell_type": "code",
   "execution_count": null,
   "metadata": {},
   "outputs": [],
   "source": [
    "def cross_validation_demo():\n",
    "    degree = 7\n",
    "    k_fold = 4\n",
    "    lambdas = np.logspace(-5, 1, 50)\n",
    "    for d in range (1, degree+1):\n",
    "        for i in range (0, 3):\n",
    "            seed = i\n",
    "            # split data in k fold\n",
    "            y_sub, x_sub = get_subsample(y_tr, x_tr, 10000, seed)\n",
    "            k_indices = build_k_indices(y_sub, k_fold, seed)\n",
    "            # define lists to store the loss of training data and test data\n",
    "            rmse_tr = []\n",
    "            rmse_te = []\n",
    "            for lambda_ in lambdas:\n",
    "                loss_tr, loss_te = cross_validation(y_sub, x_sub, k_indices, k_fold, lambda_, d)\n",
    "                rmse_tr.append(loss_tr)\n",
    "                rmse_te.append(loss_te)\n",
    "        cross_validation_visualization(lambdas, rmse_tr, rmse_te, d)\n",
    "\n",
    "cross_validation_demo()"
   ]
  },
  {
   "cell_type": "code",
   "execution_count": 20,
   "metadata": {},
   "outputs": [],
   "source": [
    "def select_best_degree(y, x, max_degree, k_fold, seed=1):\n",
    "    y_sub, x_sub = get_subsample(y, x, 50000, seed)\n",
    "    lambdas = np.logspace(-5, 1, 50)\n",
    "    k_indices = build_k_indices(y_sub, k_fold, seed)\n",
    "    loss_min = np.inf\n",
    "    degree_star = 0\n",
    "    lambda_star = 0\n",
    "    for degree in range(1, max_degree+1):\n",
    "        rmse_te = []\n",
    "        for lambda_ in lambdas:\n",
    "            loss_tr, loss_te = cross_validation(y_sub, x_sub, k_indices, k_fold, lambda_, degree)\n",
    "            #print(degree, lambda_, loss_te)\n",
    "            if loss_te < loss_min:\n",
    "                loss_min = loss_te\n",
    "                degree_star = degree\n",
    "                lambda_star = lambda_\n",
    "    return degree_star, lambda_star"
   ]
  },
  {
   "cell_type": "code",
   "execution_count": 48,
   "metadata": {},
   "outputs": [
    {
     "ename": "KeyboardInterrupt",
     "evalue": "",
     "output_type": "error",
     "traceback": [
      "\u001b[0;31m---------------------------------------------------------------------------\u001b[0m",
      "\u001b[0;31mKeyboardInterrupt\u001b[0m                         Traceback (most recent call last)",
      "\u001b[0;32m<ipython-input-48-90335e4b86ba>\u001b[0m in \u001b[0;36m<module>\u001b[0;34m\u001b[0m\n\u001b[1;32m      1\u001b[0m \u001b[0mmax_degree\u001b[0m \u001b[0;34m=\u001b[0m \u001b[0;36m10\u001b[0m\u001b[0;34m\u001b[0m\u001b[0;34m\u001b[0m\u001b[0m\n\u001b[1;32m      2\u001b[0m \u001b[0mk_fold\u001b[0m \u001b[0;34m=\u001b[0m \u001b[0;36m4\u001b[0m\u001b[0;34m\u001b[0m\u001b[0;34m\u001b[0m\u001b[0m\n\u001b[0;32m----> 3\u001b[0;31m \u001b[0mdegree_star\u001b[0m\u001b[0;34m,\u001b[0m \u001b[0mlambda_star\u001b[0m \u001b[0;34m=\u001b[0m \u001b[0mselect_best_degree\u001b[0m\u001b[0;34m(\u001b[0m\u001b[0my\u001b[0m\u001b[0;34m,\u001b[0m \u001b[0mtX\u001b[0m\u001b[0;34m,\u001b[0m \u001b[0mmax_degree\u001b[0m\u001b[0;34m,\u001b[0m \u001b[0mk_fold\u001b[0m\u001b[0;34m,\u001b[0m \u001b[0;36m264\u001b[0m\u001b[0;34m)\u001b[0m\u001b[0;34m\u001b[0m\u001b[0;34m\u001b[0m\u001b[0m\n\u001b[0m\u001b[1;32m      4\u001b[0m \u001b[0mprint\u001b[0m\u001b[0;34m(\u001b[0m\u001b[0;34m\"Best degree: {} with lambda = {}\"\u001b[0m\u001b[0;34m.\u001b[0m\u001b[0mformat\u001b[0m\u001b[0;34m(\u001b[0m\u001b[0mdegree_star\u001b[0m\u001b[0;34m,\u001b[0m \u001b[0mlambda_star\u001b[0m\u001b[0;34m)\u001b[0m\u001b[0;34m)\u001b[0m\u001b[0;34m\u001b[0m\u001b[0;34m\u001b[0m\u001b[0m\n",
      "\u001b[0;32m<ipython-input-20-1d188cb1d588>\u001b[0m in \u001b[0;36mselect_best_degree\u001b[0;34m(y, x, max_degree, k_fold, seed)\u001b[0m\n\u001b[1;32m      9\u001b[0m         \u001b[0mrmse_te\u001b[0m \u001b[0;34m=\u001b[0m \u001b[0;34m[\u001b[0m\u001b[0;34m]\u001b[0m\u001b[0;34m\u001b[0m\u001b[0;34m\u001b[0m\u001b[0m\n\u001b[1;32m     10\u001b[0m         \u001b[0;32mfor\u001b[0m \u001b[0mlambda_\u001b[0m \u001b[0;32min\u001b[0m \u001b[0mlambdas\u001b[0m\u001b[0;34m:\u001b[0m\u001b[0;34m\u001b[0m\u001b[0;34m\u001b[0m\u001b[0m\n\u001b[0;32m---> 11\u001b[0;31m             \u001b[0mloss_tr\u001b[0m\u001b[0;34m,\u001b[0m \u001b[0mloss_te\u001b[0m \u001b[0;34m=\u001b[0m \u001b[0mcross_validation\u001b[0m\u001b[0;34m(\u001b[0m\u001b[0my_sub\u001b[0m\u001b[0;34m,\u001b[0m \u001b[0mx_sub\u001b[0m\u001b[0;34m,\u001b[0m \u001b[0mk_indices\u001b[0m\u001b[0;34m,\u001b[0m \u001b[0mk_fold\u001b[0m\u001b[0;34m,\u001b[0m \u001b[0mlambda_\u001b[0m\u001b[0;34m,\u001b[0m \u001b[0mdegree\u001b[0m\u001b[0;34m)\u001b[0m\u001b[0;34m\u001b[0m\u001b[0;34m\u001b[0m\u001b[0m\n\u001b[0m\u001b[1;32m     12\u001b[0m             \u001b[0;31m#print(degree, lambda_, loss_te)\u001b[0m\u001b[0;34m\u001b[0m\u001b[0;34m\u001b[0m\u001b[0;34m\u001b[0m\u001b[0m\n\u001b[1;32m     13\u001b[0m             \u001b[0;32mif\u001b[0m \u001b[0mloss_te\u001b[0m \u001b[0;34m<\u001b[0m \u001b[0mloss_min\u001b[0m\u001b[0;34m:\u001b[0m\u001b[0;34m\u001b[0m\u001b[0;34m\u001b[0m\u001b[0m\n",
      "\u001b[0;32m<ipython-input-18-94d83605468a>\u001b[0m in \u001b[0;36mcross_validation\u001b[0;34m(y, x, k_indices, k, lambda_, degree, mean)\u001b[0m\n\u001b[1;32m     14\u001b[0m \u001b[0;34m\u001b[0m\u001b[0m\n\u001b[1;32m     15\u001b[0m         \u001b[0;31m# form data with polynomial degree\u001b[0m\u001b[0;34m\u001b[0m\u001b[0;34m\u001b[0m\u001b[0;34m\u001b[0m\u001b[0m\n\u001b[0;32m---> 16\u001b[0;31m         \u001b[0mx_te_poly\u001b[0m \u001b[0;34m=\u001b[0m \u001b[0mbuild_poly\u001b[0m\u001b[0;34m(\u001b[0m\u001b[0mx_te\u001b[0m\u001b[0;34m,\u001b[0m \u001b[0mdegree\u001b[0m\u001b[0;34m)\u001b[0m\u001b[0;34m\u001b[0m\u001b[0;34m\u001b[0m\u001b[0m\n\u001b[0m\u001b[1;32m     17\u001b[0m         \u001b[0mx_tr_poly\u001b[0m \u001b[0;34m=\u001b[0m \u001b[0mbuild_poly\u001b[0m\u001b[0;34m(\u001b[0m\u001b[0mx_tr\u001b[0m\u001b[0;34m,\u001b[0m \u001b[0mdegree\u001b[0m\u001b[0;34m)\u001b[0m\u001b[0;34m\u001b[0m\u001b[0;34m\u001b[0m\u001b[0m\n\u001b[1;32m     18\u001b[0m \u001b[0;34m\u001b[0m\u001b[0m\n",
      "\u001b[0;32m~/my_notebooks/ML_project/ML/Project_1/scripts/my_helpers.py\u001b[0m in \u001b[0;36mbuild_poly\u001b[0;34m(x, degree)\u001b[0m\n\u001b[1;32m     29\u001b[0m     \u001b[0;34m\"\"\"polynomial basis functions for input data x, for j=0 up to j=degree.\"\"\"\u001b[0m\u001b[0;34m\u001b[0m\u001b[0;34m\u001b[0m\u001b[0m\n\u001b[1;32m     30\u001b[0m     \u001b[0md\u001b[0m \u001b[0;34m=\u001b[0m \u001b[0mnp\u001b[0m\u001b[0;34m.\u001b[0m\u001b[0marange\u001b[0m\u001b[0;34m(\u001b[0m\u001b[0;36m0\u001b[0m\u001b[0;34m,\u001b[0m \u001b[0mdegree\u001b[0m\u001b[0;34m+\u001b[0m\u001b[0;36m1\u001b[0m\u001b[0;34m)\u001b[0m\u001b[0;34m.\u001b[0m\u001b[0mrepeat\u001b[0m\u001b[0;34m(\u001b[0m\u001b[0mx\u001b[0m\u001b[0;34m.\u001b[0m\u001b[0mshape\u001b[0m\u001b[0;34m[\u001b[0m\u001b[0;36m1\u001b[0m\u001b[0;34m]\u001b[0m\u001b[0;34m)\u001b[0m\u001b[0;34m\u001b[0m\u001b[0;34m\u001b[0m\u001b[0m\n\u001b[0;32m---> 31\u001b[0;31m     \u001b[0mpsi\u001b[0m \u001b[0;34m=\u001b[0m \u001b[0mnp\u001b[0m\u001b[0;34m.\u001b[0m\u001b[0mtile\u001b[0m\u001b[0;34m(\u001b[0m\u001b[0mx\u001b[0m\u001b[0;34m,\u001b[0m \u001b[0mdegree\u001b[0m\u001b[0;34m+\u001b[0m\u001b[0;36m1\u001b[0m\u001b[0;34m)\u001b[0m\u001b[0;34m\u001b[0m\u001b[0;34m\u001b[0m\u001b[0m\n\u001b[0m\u001b[1;32m     32\u001b[0m     \u001b[0mpsi\u001b[0m \u001b[0;34m=\u001b[0m \u001b[0mnp\u001b[0m\u001b[0;34m.\u001b[0m\u001b[0mpower\u001b[0m\u001b[0;34m(\u001b[0m\u001b[0mpsi\u001b[0m\u001b[0;34m,\u001b[0m \u001b[0md\u001b[0m\u001b[0;34m)\u001b[0m\u001b[0;34m\u001b[0m\u001b[0;34m\u001b[0m\u001b[0m\n\u001b[1;32m     33\u001b[0m     \u001b[0;32mreturn\u001b[0m \u001b[0mpsi\u001b[0m\u001b[0;34m\u001b[0m\u001b[0;34m\u001b[0m\u001b[0m\n",
      "\u001b[0;32m<__array_function__ internals>\u001b[0m in \u001b[0;36mtile\u001b[0;34m(*args, **kwargs)\u001b[0m\n",
      "\u001b[0;32m/usr/local/lib/python3.6/dist-packages/numpy/lib/shape_base.py\u001b[0m in \u001b[0;36mtile\u001b[0;34m(A, reps)\u001b[0m\n\u001b[1;32m   1240\u001b[0m         \u001b[0;32mfor\u001b[0m \u001b[0mdim_in\u001b[0m\u001b[0;34m,\u001b[0m \u001b[0mnrep\u001b[0m \u001b[0;32min\u001b[0m \u001b[0mzip\u001b[0m\u001b[0;34m(\u001b[0m\u001b[0mc\u001b[0m\u001b[0;34m.\u001b[0m\u001b[0mshape\u001b[0m\u001b[0;34m,\u001b[0m \u001b[0mtup\u001b[0m\u001b[0;34m)\u001b[0m\u001b[0;34m:\u001b[0m\u001b[0;34m\u001b[0m\u001b[0;34m\u001b[0m\u001b[0m\n\u001b[1;32m   1241\u001b[0m             \u001b[0;32mif\u001b[0m \u001b[0mnrep\u001b[0m \u001b[0;34m!=\u001b[0m \u001b[0;36m1\u001b[0m\u001b[0;34m:\u001b[0m\u001b[0;34m\u001b[0m\u001b[0;34m\u001b[0m\u001b[0m\n\u001b[0;32m-> 1242\u001b[0;31m                 \u001b[0mc\u001b[0m \u001b[0;34m=\u001b[0m \u001b[0mc\u001b[0m\u001b[0;34m.\u001b[0m\u001b[0mreshape\u001b[0m\u001b[0;34m(\u001b[0m\u001b[0;34m-\u001b[0m\u001b[0;36m1\u001b[0m\u001b[0;34m,\u001b[0m \u001b[0mn\u001b[0m\u001b[0;34m)\u001b[0m\u001b[0;34m.\u001b[0m\u001b[0mrepeat\u001b[0m\u001b[0;34m(\u001b[0m\u001b[0mnrep\u001b[0m\u001b[0;34m,\u001b[0m \u001b[0;36m0\u001b[0m\u001b[0;34m)\u001b[0m\u001b[0;34m\u001b[0m\u001b[0;34m\u001b[0m\u001b[0m\n\u001b[0m\u001b[1;32m   1243\u001b[0m             \u001b[0mn\u001b[0m \u001b[0;34m//=\u001b[0m \u001b[0mdim_in\u001b[0m\u001b[0;34m\u001b[0m\u001b[0;34m\u001b[0m\u001b[0m\n\u001b[1;32m   1244\u001b[0m     \u001b[0;32mreturn\u001b[0m \u001b[0mc\u001b[0m\u001b[0;34m.\u001b[0m\u001b[0mreshape\u001b[0m\u001b[0;34m(\u001b[0m\u001b[0mshape_out\u001b[0m\u001b[0;34m)\u001b[0m\u001b[0;34m\u001b[0m\u001b[0;34m\u001b[0m\u001b[0m\n",
      "\u001b[0;31mKeyboardInterrupt\u001b[0m: "
     ]
    }
   ],
   "source": [
    "max_degree = 10\n",
    "k_fold = 4\n",
    "degree_star, lambda_star = select_best_degree(y, tX, max_degree, k_fold, 264)\n",
    "print(\"Best degree: {} with lambda = {}\".format(degree_star, lambda_star))"
   ]
  },
  {
   "cell_type": "code",
   "execution_count": 22,
   "metadata": {},
   "outputs": [],
   "source": [
    "def select_best_degree_ls(y, x, max_degree, k_fold, seed=1):\n",
    "    y_sub, x_sub = get_subsample(y, x, 50000, seed)\n",
    "    k_indices = build_k_indices(y_sub, k_fold, seed)\n",
    "    loss_min = np.inf\n",
    "    degree_star = 0\n",
    "    lambda_star = 0\n",
    "    for degree in range(1, max_degree+1):\n",
    "        rmse_te = []\n",
    "        loss_tr, loss_te = cross_validation(y_sub, x_sub, k_indices, k_fold, 0, degree)\n",
    "        #print(degree, lambda_, loss_te)\n",
    "        if loss_te < loss_min:\n",
    "            loss_min = loss_te\n",
    "            degree_star = degree\n",
    "    return degree_star"
   ]
  },
  {
   "cell_type": "code",
   "execution_count": 47,
   "metadata": {},
   "outputs": [
    {
     "ename": "LinAlgError",
     "evalue": "Singular matrix",
     "output_type": "error",
     "traceback": [
      "\u001b[0;31m---------------------------------------------------------------------------\u001b[0m",
      "\u001b[0;31mLinAlgError\u001b[0m                               Traceback (most recent call last)",
      "\u001b[0;32m<ipython-input-47-06ccd3ba66b7>\u001b[0m in \u001b[0;36m<module>\u001b[0;34m\u001b[0m\n\u001b[1;32m      1\u001b[0m \u001b[0mmax_degree\u001b[0m \u001b[0;34m=\u001b[0m \u001b[0;36m10\u001b[0m\u001b[0;34m\u001b[0m\u001b[0;34m\u001b[0m\u001b[0m\n\u001b[1;32m      2\u001b[0m \u001b[0mk_fold\u001b[0m \u001b[0;34m=\u001b[0m \u001b[0;36m4\u001b[0m\u001b[0;34m\u001b[0m\u001b[0;34m\u001b[0m\u001b[0m\n\u001b[0;32m----> 3\u001b[0;31m \u001b[0mdegree_star_ls\u001b[0m \u001b[0;34m=\u001b[0m \u001b[0mselect_best_degree_ls\u001b[0m\u001b[0;34m(\u001b[0m\u001b[0my\u001b[0m\u001b[0;34m,\u001b[0m \u001b[0mtX\u001b[0m\u001b[0;34m,\u001b[0m \u001b[0mmax_degree\u001b[0m\u001b[0;34m,\u001b[0m \u001b[0mk_fold\u001b[0m\u001b[0;34m,\u001b[0m \u001b[0;36m264\u001b[0m\u001b[0;34m)\u001b[0m\u001b[0;34m\u001b[0m\u001b[0;34m\u001b[0m\u001b[0m\n\u001b[0m\u001b[1;32m      4\u001b[0m \u001b[0mprint\u001b[0m\u001b[0;34m(\u001b[0m\u001b[0;34m\"Best degree for least squares: {}\"\u001b[0m\u001b[0;34m.\u001b[0m\u001b[0mformat\u001b[0m\u001b[0;34m(\u001b[0m\u001b[0mdegree_star\u001b[0m\u001b[0;34m)\u001b[0m\u001b[0;34m)\u001b[0m\u001b[0;34m\u001b[0m\u001b[0;34m\u001b[0m\u001b[0m\n",
      "\u001b[0;32m<ipython-input-22-6cf53e6a25ae>\u001b[0m in \u001b[0;36mselect_best_degree_ls\u001b[0;34m(y, x, max_degree, k_fold, seed)\u001b[0m\n\u001b[1;32m      7\u001b[0m     \u001b[0;32mfor\u001b[0m \u001b[0mdegree\u001b[0m \u001b[0;32min\u001b[0m \u001b[0mrange\u001b[0m\u001b[0;34m(\u001b[0m\u001b[0;36m1\u001b[0m\u001b[0;34m,\u001b[0m \u001b[0mmax_degree\u001b[0m\u001b[0;34m+\u001b[0m\u001b[0;36m1\u001b[0m\u001b[0;34m)\u001b[0m\u001b[0;34m:\u001b[0m\u001b[0;34m\u001b[0m\u001b[0;34m\u001b[0m\u001b[0m\n\u001b[1;32m      8\u001b[0m         \u001b[0mrmse_te\u001b[0m \u001b[0;34m=\u001b[0m \u001b[0;34m[\u001b[0m\u001b[0;34m]\u001b[0m\u001b[0;34m\u001b[0m\u001b[0;34m\u001b[0m\u001b[0m\n\u001b[0;32m----> 9\u001b[0;31m         \u001b[0mloss_tr\u001b[0m\u001b[0;34m,\u001b[0m \u001b[0mloss_te\u001b[0m \u001b[0;34m=\u001b[0m \u001b[0mcross_validation\u001b[0m\u001b[0;34m(\u001b[0m\u001b[0my_sub\u001b[0m\u001b[0;34m,\u001b[0m \u001b[0mx_sub\u001b[0m\u001b[0;34m,\u001b[0m \u001b[0mk_indices\u001b[0m\u001b[0;34m,\u001b[0m \u001b[0mk_fold\u001b[0m\u001b[0;34m,\u001b[0m \u001b[0;36m0\u001b[0m\u001b[0;34m,\u001b[0m \u001b[0mdegree\u001b[0m\u001b[0;34m)\u001b[0m\u001b[0;34m\u001b[0m\u001b[0;34m\u001b[0m\u001b[0m\n\u001b[0m\u001b[1;32m     10\u001b[0m         \u001b[0;31m#print(degree, lambda_, loss_te)\u001b[0m\u001b[0;34m\u001b[0m\u001b[0;34m\u001b[0m\u001b[0;34m\u001b[0m\u001b[0m\n\u001b[1;32m     11\u001b[0m         \u001b[0;32mif\u001b[0m \u001b[0mloss_te\u001b[0m \u001b[0;34m<\u001b[0m \u001b[0mloss_min\u001b[0m\u001b[0;34m:\u001b[0m\u001b[0;34m\u001b[0m\u001b[0;34m\u001b[0m\u001b[0m\n",
      "\u001b[0;32m<ipython-input-18-94d83605468a>\u001b[0m in \u001b[0;36mcross_validation\u001b[0;34m(y, x, k_indices, k, lambda_, degree, mean)\u001b[0m\n\u001b[1;32m     17\u001b[0m         \u001b[0mx_tr_poly\u001b[0m \u001b[0;34m=\u001b[0m \u001b[0mbuild_poly\u001b[0m\u001b[0;34m(\u001b[0m\u001b[0mx_tr\u001b[0m\u001b[0;34m,\u001b[0m \u001b[0mdegree\u001b[0m\u001b[0;34m)\u001b[0m\u001b[0;34m\u001b[0m\u001b[0;34m\u001b[0m\u001b[0m\n\u001b[1;32m     18\u001b[0m \u001b[0;34m\u001b[0m\u001b[0m\n\u001b[0;32m---> 19\u001b[0;31m         \u001b[0mw\u001b[0m \u001b[0;34m=\u001b[0m \u001b[0mridge_regression\u001b[0m\u001b[0;34m(\u001b[0m\u001b[0my_tr\u001b[0m\u001b[0;34m,\u001b[0m \u001b[0mx_tr_poly\u001b[0m\u001b[0;34m,\u001b[0m \u001b[0mlambda_\u001b[0m\u001b[0;34m)\u001b[0m\u001b[0;34m\u001b[0m\u001b[0;34m\u001b[0m\u001b[0m\n\u001b[0m\u001b[1;32m     20\u001b[0m         \u001b[0;31m#w = least_squares(y_tr, x_tr_poly)\u001b[0m\u001b[0;34m\u001b[0m\u001b[0;34m\u001b[0m\u001b[0;34m\u001b[0m\u001b[0m\n\u001b[1;32m     21\u001b[0m \u001b[0;34m\u001b[0m\u001b[0m\n",
      "\u001b[0;32m<ipython-input-38-af2f74cc0e85>\u001b[0m in \u001b[0;36mridge_regression\u001b[0;34m(y, tx, lambda_)\u001b[0m\n\u001b[1;32m      3\u001b[0m     \u001b[0mN\u001b[0m \u001b[0;34m=\u001b[0m \u001b[0mlen\u001b[0m\u001b[0;34m(\u001b[0m\u001b[0my\u001b[0m\u001b[0;34m)\u001b[0m\u001b[0;34m\u001b[0m\u001b[0;34m\u001b[0m\u001b[0m\n\u001b[1;32m      4\u001b[0m     \u001b[0mG\u001b[0m \u001b[0;34m=\u001b[0m \u001b[0mtx\u001b[0m\u001b[0;34m.\u001b[0m\u001b[0mT\u001b[0m\u001b[0;34m.\u001b[0m\u001b[0mdot\u001b[0m\u001b[0;34m(\u001b[0m\u001b[0mtx\u001b[0m\u001b[0;34m)\u001b[0m\u001b[0;34m\u001b[0m\u001b[0;34m\u001b[0m\u001b[0m\n\u001b[0;32m----> 5\u001b[0;31m     \u001b[0mi\u001b[0m \u001b[0;34m=\u001b[0m \u001b[0mnp\u001b[0m\u001b[0;34m.\u001b[0m\u001b[0mlinalg\u001b[0m\u001b[0;34m.\u001b[0m\u001b[0minv\u001b[0m\u001b[0;34m(\u001b[0m\u001b[0mG\u001b[0m \u001b[0;34m+\u001b[0m \u001b[0;36m2\u001b[0m\u001b[0;34m*\u001b[0m\u001b[0mN\u001b[0m\u001b[0;34m*\u001b[0m\u001b[0mlambda_\u001b[0m\u001b[0;34m*\u001b[0m\u001b[0mnp\u001b[0m\u001b[0;34m.\u001b[0m\u001b[0meye\u001b[0m\u001b[0;34m(\u001b[0m\u001b[0mG\u001b[0m\u001b[0;34m.\u001b[0m\u001b[0mshape\u001b[0m\u001b[0;34m[\u001b[0m\u001b[0;36m0\u001b[0m\u001b[0;34m]\u001b[0m\u001b[0;34m)\u001b[0m\u001b[0;34m)\u001b[0m\u001b[0;34m\u001b[0m\u001b[0;34m\u001b[0m\u001b[0m\n\u001b[0m\u001b[1;32m      6\u001b[0m     \u001b[0mw_star\u001b[0m \u001b[0;34m=\u001b[0m \u001b[0mi\u001b[0m\u001b[0;34m.\u001b[0m\u001b[0mdot\u001b[0m\u001b[0;34m(\u001b[0m\u001b[0mtx\u001b[0m\u001b[0;34m.\u001b[0m\u001b[0mT\u001b[0m\u001b[0;34m)\u001b[0m\u001b[0;34m.\u001b[0m\u001b[0mdot\u001b[0m\u001b[0;34m(\u001b[0m\u001b[0my\u001b[0m\u001b[0;34m)\u001b[0m\u001b[0;34m\u001b[0m\u001b[0;34m\u001b[0m\u001b[0m\n\u001b[1;32m      7\u001b[0m     \u001b[0;32mreturn\u001b[0m \u001b[0mw_star\u001b[0m\u001b[0;34m\u001b[0m\u001b[0;34m\u001b[0m\u001b[0m\n",
      "\u001b[0;32m<__array_function__ internals>\u001b[0m in \u001b[0;36minv\u001b[0;34m(*args, **kwargs)\u001b[0m\n",
      "\u001b[0;32m/usr/local/lib/python3.6/dist-packages/numpy/linalg/linalg.py\u001b[0m in \u001b[0;36minv\u001b[0;34m(a)\u001b[0m\n\u001b[1;32m    549\u001b[0m     \u001b[0msignature\u001b[0m \u001b[0;34m=\u001b[0m \u001b[0;34m'D->D'\u001b[0m \u001b[0;32mif\u001b[0m \u001b[0misComplexType\u001b[0m\u001b[0;34m(\u001b[0m\u001b[0mt\u001b[0m\u001b[0;34m)\u001b[0m \u001b[0;32melse\u001b[0m \u001b[0;34m'd->d'\u001b[0m\u001b[0;34m\u001b[0m\u001b[0;34m\u001b[0m\u001b[0m\n\u001b[1;32m    550\u001b[0m     \u001b[0mextobj\u001b[0m \u001b[0;34m=\u001b[0m \u001b[0mget_linalg_error_extobj\u001b[0m\u001b[0;34m(\u001b[0m\u001b[0m_raise_linalgerror_singular\u001b[0m\u001b[0;34m)\u001b[0m\u001b[0;34m\u001b[0m\u001b[0;34m\u001b[0m\u001b[0m\n\u001b[0;32m--> 551\u001b[0;31m     \u001b[0mainv\u001b[0m \u001b[0;34m=\u001b[0m \u001b[0m_umath_linalg\u001b[0m\u001b[0;34m.\u001b[0m\u001b[0minv\u001b[0m\u001b[0;34m(\u001b[0m\u001b[0ma\u001b[0m\u001b[0;34m,\u001b[0m \u001b[0msignature\u001b[0m\u001b[0;34m=\u001b[0m\u001b[0msignature\u001b[0m\u001b[0;34m,\u001b[0m \u001b[0mextobj\u001b[0m\u001b[0;34m=\u001b[0m\u001b[0mextobj\u001b[0m\u001b[0;34m)\u001b[0m\u001b[0;34m\u001b[0m\u001b[0;34m\u001b[0m\u001b[0m\n\u001b[0m\u001b[1;32m    552\u001b[0m     \u001b[0;32mreturn\u001b[0m \u001b[0mwrap\u001b[0m\u001b[0;34m(\u001b[0m\u001b[0mainv\u001b[0m\u001b[0;34m.\u001b[0m\u001b[0mastype\u001b[0m\u001b[0;34m(\u001b[0m\u001b[0mresult_t\u001b[0m\u001b[0;34m,\u001b[0m \u001b[0mcopy\u001b[0m\u001b[0;34m=\u001b[0m\u001b[0;32mFalse\u001b[0m\u001b[0;34m)\u001b[0m\u001b[0;34m)\u001b[0m\u001b[0;34m\u001b[0m\u001b[0;34m\u001b[0m\u001b[0m\n\u001b[1;32m    553\u001b[0m \u001b[0;34m\u001b[0m\u001b[0m\n",
      "\u001b[0;32m/usr/local/lib/python3.6/dist-packages/numpy/linalg/linalg.py\u001b[0m in \u001b[0;36m_raise_linalgerror_singular\u001b[0;34m(err, flag)\u001b[0m\n\u001b[1;32m     95\u001b[0m \u001b[0;34m\u001b[0m\u001b[0m\n\u001b[1;32m     96\u001b[0m \u001b[0;32mdef\u001b[0m \u001b[0m_raise_linalgerror_singular\u001b[0m\u001b[0;34m(\u001b[0m\u001b[0merr\u001b[0m\u001b[0;34m,\u001b[0m \u001b[0mflag\u001b[0m\u001b[0;34m)\u001b[0m\u001b[0;34m:\u001b[0m\u001b[0;34m\u001b[0m\u001b[0;34m\u001b[0m\u001b[0m\n\u001b[0;32m---> 97\u001b[0;31m     \u001b[0;32mraise\u001b[0m \u001b[0mLinAlgError\u001b[0m\u001b[0;34m(\u001b[0m\u001b[0;34m\"Singular matrix\"\u001b[0m\u001b[0;34m)\u001b[0m\u001b[0;34m\u001b[0m\u001b[0;34m\u001b[0m\u001b[0m\n\u001b[0m\u001b[1;32m     98\u001b[0m \u001b[0;34m\u001b[0m\u001b[0m\n\u001b[1;32m     99\u001b[0m \u001b[0;32mdef\u001b[0m \u001b[0m_raise_linalgerror_nonposdef\u001b[0m\u001b[0;34m(\u001b[0m\u001b[0merr\u001b[0m\u001b[0;34m,\u001b[0m \u001b[0mflag\u001b[0m\u001b[0;34m)\u001b[0m\u001b[0;34m:\u001b[0m\u001b[0;34m\u001b[0m\u001b[0;34m\u001b[0m\u001b[0m\n",
      "\u001b[0;31mLinAlgError\u001b[0m: Singular matrix"
     ]
    }
   ],
   "source": [
    "max_degree = 10\n",
    "k_fold = 4\n",
    "degree_star_ls = select_best_degree_ls(y, tX, max_degree, k_fold, 264)\n",
    "print(\"Best degree for least squares: {}\".format(degree_star))"
   ]
  },
  {
   "cell_type": "markdown",
   "metadata": {},
   "source": [
    "## Start working"
   ]
  },
  {
   "cell_type": "code",
   "execution_count": 24,
   "metadata": {},
   "outputs": [],
   "source": [
    "def gradient_descent(y, tx, initial_w, max_iters, gamma):\n",
    "    \"\"\"Gradient descent algorithm.\"\"\"\n",
    "    # Define parameters to store w and loss\n",
    "    w = initial_w\n",
    "    loss = np.inf\n",
    "    for n_iter in range(max_iters):\n",
    "        g = compute_gradient(y, tx, w)\n",
    "        new_w = w - gamma*g;\n",
    "        new_loss = compute_loss(y, tx, new_w)\n",
    "        # print TO DELETE IN FINAL VERSION\n",
    "        if new_loss <= loss:\n",
    "            loss, w = new_loss, new_w\n",
    "            gamma *=1.8 #accelerate algorithm learning rate\n",
    "            #print(\"Gradient Descent({bi}/{ti}): loss={l} ; gamma={g}; gamma aumenta\".format(\n",
    "             # bi=n_iter, ti=max_iters - 1, l=loss, g= gamma))\n",
    "        else:\n",
    "            gamma *=0.3 #decelerate to avoid exponential growing\n",
    "            #print(\"Gradient Descent({bi}/{ti}): loss={l} ; gamma={g}; gamma diminuisce\".format(\n",
    "             # bi=n_iter, ti=max_iters - 1, l=loss, g= gamma)\n",
    "        print(\"Gradient Descent({bi}/{ti}): ||gradient||={grad}, loss={l}, w0={w0}, w1={w1}\".format(\n",
    "              bi=n_iter, ti=max_iters - 1, grad=np.linalg.norm(g), l=loss, w0=w[0], w1=w[1]))\n",
    "\n",
    "    return w, loss"
   ]
  },
  {
   "cell_type": "code",
   "execution_count": 25,
   "metadata": {
    "collapsed": true,
    "jupyter": {
     "outputs_hidden": true
    }
   },
   "outputs": [
    {
     "name": "stdout",
     "output_type": "stream",
     "text": [
      "Gradient Descent(0/199): ||gradient||=0.9514674695052744, loss=0.49990952187801607, w0=-4.566083683983554e-05, w1=-2.7673110315300844e-05\n",
      "Gradient Descent(1/199): ||gradient||=0.9503974349746639, loss=0.4997471004168022, w0=-0.00012775891568991358, w1=-7.74697663456779e-05\n",
      "Gradient Descent(2/199): ||gradient||=0.9484748856073144, loss=0.4994561587587336, w0=-0.0002752396309919623, w1=-0.0001670553859616563\n",
      "Gradient Descent(3/199): ||gradient||=0.945025663562588, loss=0.49893702053457856, w0=-0.0005397487600344354, w1=-0.00032815311708093433\n",
      "Gradient Descent(4/199): ||gradient||=0.9388538071579059, loss=0.4980171379394563, w0=-0.0010127807321615439, w1=-0.0006176241296845474\n",
      "Gradient Descent(5/199): ||gradient||=0.9278630171844047, loss=0.4964074108357241, w0=-0.0018543229526410121, w1=-0.001137046406747271\n",
      "Gradient Descent(6/199): ||gradient||=0.9084608081976439, loss=0.4936527396135756, w0=-0.0033374261678922124, w1=-0.0020667995528072494\n",
      "Gradient Descent(7/199): ||gradient||=0.8747550989870794, loss=0.4891218606947119, w0=-0.005906992933870736, w1=-0.0037238283687804083\n",
      "Gradient Descent(8/199): ||gradient||=0.8179336161231564, loss=0.4821660311700272, w0=-0.010222901423288005, w1=-0.0066548842403245075\n",
      "Gradient Descent(9/199): ||gradient||=0.7275466389229498, loss=0.47263722508777795, w0=-0.017071124966422355, w1=-0.011774447478041457\n",
      "Gradient Descent(10/199): ||gradient||=0.5998787781898929, loss=0.4614893180661784, w0=-0.026850111391239134, w1=-0.020540881898405923\n",
      "Gradient Descent(11/199): ||gradient||=0.46081690603087044, loss=0.44965737668644823, w0=-0.038324768814442786, w1=-0.03515139631968003\n",
      "Gradient Descent(12/199): ||gradient||=0.3648749534099562, loss=0.4361041748679439, w0=-0.0479723286270477, w1=-0.05886870498247014\n",
      "Gradient Descent(13/199): ||gradient||=0.28174998962230974, loss=0.42242595854448567, w0=-0.05488694517680349, w1=-0.09684059036607429\n",
      "Gradient Descent(14/199): ||gradient||=0.1985902468020478, loss=0.4100459136330747, w0=-0.04993210511234173, w1=-0.1541703180552234\n",
      "Gradient Descent(15/199): ||gradient||=0.1611131231140155, loss=0.403614790648251, w0=-0.004109254484676611, w1=-0.233025706953517\n",
      "Gradient Descent(16/199): ||gradient||=0.47609003382810067, loss=0.403614790648251, w0=-0.004109254484676611, w1=-0.233025706953517\n",
      "Gradient Descent(17/199): ||gradient||=0.47609003382810067, loss=0.403614790648251, w0=-0.004109254484676611, w1=-0.233025706953517\n",
      "Gradient Descent(18/199): ||gradient||=0.47609003382810067, loss=0.3979811254779673, w0=-0.020078669212909777, w1=-0.24525871509534589\n",
      "Gradient Descent(19/199): ||gradient||=0.3109643754525037, loss=0.3979811254779673, w0=-0.020078669212909777, w1=-0.24525871509534589\n",
      "Gradient Descent(20/199): ||gradient||=0.3109643754525037, loss=0.39450250094828637, w0=-0.012120900084193567, w1=-0.24952344931935722\n",
      "Gradient Descent(21/199): ||gradient||=0.1094016946595587, loss=0.39335627727410777, w0=-0.008042435263325914, w1=-0.2582765332701028\n",
      "Gradient Descent(22/199): ||gradient||=0.1015830081681124, loss=0.39156477587275224, w0=-0.004803180119183587, w1=-0.27385501358647235\n",
      "Gradient Descent(23/199): ||gradient||=0.09980820097795629, loss=0.3895859049111131, w0=0.007903487714882819, w1=-0.2988792799449173\n",
      "Gradient Descent(24/199): ||gradient||=0.17600456338191564, loss=0.3895859049111131, w0=0.007903487714882819, w1=-0.2988792799449173\n",
      "Gradient Descent(25/199): ||gradient||=0.17600456338191564, loss=0.3895859049111131, w0=0.007903487714882819, w1=-0.2988792799449173\n",
      "Gradient Descent(26/199): ||gradient||=0.17600456338191564, loss=0.3884296900497966, w0=0.005741651563619655, w1=-0.3028954409315088\n",
      "Gradient Descent(27/199): ||gradient||=0.08338100200280277, loss=0.3877947553332707, w0=0.0066701282504408104, w1=-0.3093714439186722\n",
      "Gradient Descent(28/199): ||gradient||=0.07746059303342012, loss=0.38678552773420927, w0=0.010829515464154425, w1=-0.3202614589139077\n",
      "Gradient Descent(29/199): ||gradient||=0.07491644672858333, loss=0.38544061642563116, w0=0.01355819494497338, w1=-0.3390618126225255\n",
      "Gradient Descent(30/199): ||gradient||=0.10656044119773077, loss=0.38544061642563116, w0=0.01355819494497338, w1=-0.3390618126225255\n",
      "Gradient Descent(31/199): ||gradient||=0.10656044119773077, loss=0.3851463616210237, w0=0.02164696519617719, w1=-0.3471098620151597\n",
      "Gradient Descent(32/199): ||gradient||=0.15094394315259035, loss=0.3851463616210237, w0=0.02164696519617719, w1=-0.3471098620151597\n",
      "Gradient Descent(33/199): ||gradient||=0.15094394315259035, loss=0.38427777330257523, w0=0.017995959010559094, w1=-0.35215043265678214\n",
      "Gradient Descent(34/199): ||gradient||=0.08187281022465777, loss=0.38386841222256013, w0=0.023803979803117103, w1=-0.3593651706382832\n",
      "Gradient Descent(35/199): ||gradient||=0.10472403102374622, loss=0.38386841222256013, w0=0.023803979803117103, w1=-0.3593651706382832\n",
      "Gradient Descent(36/199): ||gradient||=0.10472403102374622, loss=0.38336386853156845, w0=0.0218203088087816, w1=-0.36363832688629316\n",
      "Gradient Descent(37/199): ||gradient||=0.0631967706351903, loss=0.38294293157173914, w0=0.02574861682718351, w1=-0.370134423385012\n",
      "Gradient Descent(38/199): ||gradient||=0.07096071815437104, loss=0.38294293157173914, w0=0.02574861682718351, w1=-0.370134423385012\n",
      "Gradient Descent(39/199): ||gradient||=0.07096071815437104, loss=0.3826408803655776, w0=0.02503375266143331, w1=-0.3737715352012991\n",
      "Gradient Descent(40/199): ||gradient||=0.052355276808134316, loss=0.38226185110559185, w0=0.027654002840604715, w1=-0.3796147064477799\n",
      "Gradient Descent(41/199): ||gradient||=0.05283148909213308, loss=0.3818230430139351, w0=0.02784036179002643, w1=-0.3900541524279653\n",
      "Gradient Descent(42/199): ||gradient||=0.08940727744395552, loss=0.3818230430139351, w0=0.02784036179002643, w1=-0.3900541524279653\n",
      "Gradient Descent(43/199): ||gradient||=0.08940727744395552, loss=0.3816936601909861, w0=0.03369872885142958, w1=-0.3943692129717969\n",
      "Gradient Descent(44/199): ||gradient||=0.11262290852235428, loss=0.3816936601909861, w0=0.03369872885142958, w1=-0.3943692129717969\n",
      "Gradient Descent(45/199): ||gradient||=0.11262290852235428, loss=0.3812063713022817, w0=0.031055392909559464, w1=-0.39728206132291616\n",
      "Gradient Descent(46/199): ||gradient||=0.04931962494797485, loss=0.3809720117187172, w0=0.03376271236804714, w1=-0.4014403441816344\n",
      "Gradient Descent(47/199): ||gradient||=0.05274385662117332, loss=0.38091422656986057, w0=0.03211067093198194, w1=-0.40931593308271547\n",
      "Gradient Descent(48/199): ||gradient||=0.11462570001027245, loss=0.38091422656986057, w0=0.03211067093198194, w1=-0.40931593308271547\n",
      "Gradient Descent(49/199): ||gradient||=0.11462570001027245, loss=0.38090023521403354, w0=0.0390390581575387, w1=-0.41218030520846294\n",
      "Gradient Descent(50/199): ||gradient||=0.13612851691020442, loss=0.38090023521403354, w0=0.0390390581575387, w1=-0.41218030520846294\n",
      "Gradient Descent(51/199): ||gradient||=0.13612851691020442, loss=0.3802430440088664, w0=0.0355992455389487, w1=-0.4145333829498049\n",
      "Gradient Descent(52/199): ||gradient||=0.043275737212402056, loss=0.38007620379360335, w0=0.03779797854803461, w1=-0.417611669733449\n",
      "Gradient Descent(53/199): ||gradient||=0.044794820388812204, loss=0.37999179418495044, w0=0.036397281132599754, w1=-0.42353502669352205\n",
      "Gradient Descent(54/199): ||gradient||=0.08974546779752365, loss=0.37999179418495044, w0=0.036397281132599754, w1=-0.42353502669352205\n",
      "Gradient Descent(55/199): ||gradient||=0.08974546779752365, loss=0.37989200253892935, w0=0.04146233928934327, w1=-0.4257248105152816\n",
      "Gradient Descent(56/199): ||gradient||=0.09641244729714088, loss=0.37989200253892935, w0=0.04146233928934327, w1=-0.4257248105152816\n",
      "Gradient Descent(57/199): ||gradient||=0.09641244729714088, loss=0.3795443084781732, w0=0.039251333145918256, w1=-0.4274628408433779\n",
      "Gradient Descent(58/199): ||gradient||=0.03304914681479572, loss=0.379416048011973, w0=0.040467262693673366, w1=-0.42986803792725586\n",
      "Gradient Descent(59/199): ||gradient||=0.032483786009049324, loss=0.3792267083166348, w0=0.04044589764625988, w1=-0.43427267685290355\n",
      "Gradient Descent(60/199): ||gradient||=0.043018120137283095, loss=0.3792267083166348, w0=0.04044589764625988, w1=-0.43427267685290355\n",
      "Gradient Descent(61/199): ||gradient||=0.043018120137283095, loss=0.3791152924496669, w0=0.04254476530131279, w1=-0.4361957281052455\n",
      "Gradient Descent(62/199): ||gradient||=0.04197782199723524, loss=0.37910455485629263, w0=0.04071107451595748, w1=-0.4402030137497229\n",
      "Gradient Descent(63/199): ||gradient||=0.0835940765046919, loss=0.37910455485629263, w0=0.04071107451595748, w1=-0.4402030137497229\n",
      "Gradient Descent(64/199): ||gradient||=0.0835940765046919, loss=0.37897649762586566, w0=0.0449493304203843, w1=-0.44155272634274395\n",
      "Gradient Descent(65/199): ||gradient||=0.07731168104949172, loss=0.37897649762586566, w0=0.0449493304203843, w1=-0.44155272634274395\n",
      "Gradient Descent(66/199): ||gradient||=0.07731168104949172, loss=0.3787508908965188, w0=0.04330881627642913, w1=-0.4427391593916998\n",
      "Gradient Descent(67/199): ||gradient||=0.026703821167631606, loss=0.37866335015335484, w0=0.04384253831617305, w1=-0.4443961035987403\n",
      "Gradient Descent(68/199): ||gradient||=0.02622984642885496, loss=0.3785128072247625, w0=0.04437027609137657, w1=-0.4473169011587877\n",
      "Gradient Descent(69/199): ||gradient||=0.0259199023922478, loss=0.3782811258030789, w0=0.04635819263402169, w1=-0.45208401584688546\n",
      "Gradient Descent(70/199): ||gradient||=0.035847261447607644, loss=0.3782811258030789, w0=0.04635819263402169, w1=-0.45208401584688546\n",
      "Gradient Descent(71/199): ||gradient||=0.035847261447607644, loss=0.3782517041483475, w0=0.04476593392559204, w1=-0.45467830411807125\n",
      "Gradient Descent(72/199): ||gradient||=0.06436345507486163, loss=0.3782517041483475, w0=0.04476593392559204, w1=-0.45467830411807125\n",
      "Gradient Descent(73/199): ||gradient||=0.06436345507486163, loss=0.3781358779726565, w0=0.047685383299843245, w1=-0.45552278427229587\n",
      "Gradient Descent(74/199): ||gradient||=0.051195542682695466, loss=0.3781358779726565, w0=0.047685383299843245, w1=-0.45552278427229587\n",
      "Gradient Descent(75/199): ||gradient||=0.051195542682695466, loss=0.37803193200519314, w0=0.04675144636392097, w1=-0.45627609273666614\n",
      "Gradient Descent(76/199): ||gradient||=0.023270917662224104, loss=0.3779706586948694, w0=0.046918922388658725, w1=-0.457378714983003\n",
      "Gradient Descent(77/199): ||gradient||=0.02295880961138687, loss=0.3778637141511203, w0=0.047498997610044495, w1=-0.45926756463517093\n",
      "Gradient Descent(78/199): ||gradient||=0.02269812421813809, loss=0.3776867156222436, w0=0.047816921030564924, w1=-0.4625721141908931\n",
      "Gradient Descent(79/199): ||gradient||=0.026407356532638215, loss=0.3776867156222436, w0=0.047816921030564924, w1=-0.4625721141908931\n",
      "Gradient Descent(80/199): ||gradient||=0.026407356532638215, loss=0.3776155138197456, w0=0.04931779250405648, w1=-0.46402095218313033\n",
      "Gradient Descent(81/199): ||gradient||=0.0368164782473437, loss=0.3776155138197456, w0=0.04931779250405648, w1=-0.46402095218313033\n",
      "Gradient Descent(82/199): ||gradient||=0.0368164782473437, loss=0.3775477003940064, w0=0.048298306633938845, w1=-0.4649935050974434\n",
      "Gradient Descent(83/199): ||gradient||=0.028118481818142582, loss=0.3774915175720728, w0=0.04998116021340383, w1=-0.4662612400557942\n",
      "Gradient Descent(84/199): ||gradient||=0.041068835859099505, loss=0.3774915175720728, w0=0.04998116021340383, w1=-0.4662612400557942\n",
      "Gradient Descent(85/199): ||gradient||=0.041068835859099505, loss=0.37741774986422927, w0=0.04876403374561356, w1=-0.4671804248944882\n",
      "Gradient Descent(86/199): ||gradient||=0.028931732960445534, loss=0.3773695771265431, w0=0.05049723318111519, w1=-0.46830679342796905\n",
      "Gradient Descent(87/199): ||gradient||=0.042276606224579606, loss=0.3773695771265431, w0=0.05049723318111519, w1=-0.46830679342796905\n",
      "Gradient Descent(88/199): ||gradient||=0.042276606224579606, loss=0.3772940822152918, w0=0.04923900366367011, w1=-0.4691639601996015\n",
      "Gradient Descent(89/199): ||gradient||=0.028135170706739567, loss=0.37724566121789904, w0=0.05085567448054988, w1=-0.47018910668063507\n",
      "Gradient Descent(90/199): ||gradient||=0.039630354118370445, loss=0.37724566121789904, w0=0.05085567448054988, w1=-0.47018910668063507\n",
      "Gradient Descent(91/199): ||gradient||=0.039630354118370445, loss=0.37717613754887674, w0=0.049726379695515806, w1=-0.47097195787694435\n",
      "Gradient Descent(92/199): ||gradient||=0.025862221246189344, loss=0.377122853531657, w0=0.05108328876448379, w1=-0.4719297628604452\n",
      "Gradient Descent(93/199): ||gradient||=0.03400308472360259, loss=0.377122853531657, w0=0.05108328876448379, w1=-0.4719297628604452\n",
      "Gradient Descent(94/199): ||gradient||=0.03400308472360259, loss=0.37706510642505814, w0=0.05020884666124569, w1=-0.47263002343559457\n",
      "Gradient Descent(95/199): ||gradient||=0.023031604219854056, loss=0.3770075488154291, w0=0.051234793079932575, w1=-0.4735425970794792\n",
      "Gradient Descent(96/199): ||gradient||=0.02754001464076108, loss=0.3770075488154291, w0=0.051234793079932575, w1=-0.4735425970794792\n",
      "Gradient Descent(97/199): ||gradient||=0.02754001464076108, loss=0.37696199405786196, w0=0.05066059155178641, w1=-0.4741609214075629\n",
      "Gradient Descent(98/199): ||gradient||=0.020697709548036475, loss=0.3769033440640944, w0=0.051368162099599705, w1=-0.4750376098928022\n",
      "Gradient Descent(99/199): ||gradient||=0.022460938687675402, loss=0.37685262468985575, w0=0.05034740854017654, w1=-0.47685708549184586\n",
      "Gradient Descent(100/199): ||gradient||=0.04684987064886527, loss=0.37685262468985575, w0=0.05034740854017654, w1=-0.47685708549184586\n",
      "Gradient Descent(101/199): ||gradient||=0.04684987064886527, loss=0.37685262468985575, w0=0.05034740854017654, w1=-0.47685708549184586\n",
      "Gradient Descent(102/199): ||gradient||=0.04684987064886527, loss=0.37677797731207796, w0=0.051192895364619635, w1=-0.47701038900161036\n",
      "Gradient Descent(103/199): ||gradient||=0.021685966914502423, loss=0.3767438525308771, w0=0.051664445854738415, w1=-0.47741592257755905\n",
      "Gradient Descent(104/199): ||gradient||=0.018755157290155627, loss=0.37669047372724834, w0=0.05161428495822767, w1=-0.4782487678839143\n",
      "Gradient Descent(105/199): ||gradient||=0.018917732450076788, loss=0.376604490991997, w0=0.052459315812711634, w1=-0.47959502985473135\n",
      "Gradient Descent(106/199): ||gradient||=0.024599508276812305, loss=0.376604490991997, w0=0.052459315812711634, w1=-0.47959502985473135\n",
      "Gradient Descent(107/199): ||gradient||=0.024599508276812305, loss=0.37656196747456316, w0=0.051632349091851944, w1=-0.4804531607365494\n",
      "Gradient Descent(108/199): ||gradient||=0.028466989748201384, loss=0.37656196747456316, w0=0.051632349091851944, w1=-0.4804531607365494\n",
      "Gradient Descent(109/199): ||gradient||=0.028466989748201384, loss=0.3765200687363024, w0=0.052407535106191144, w1=-0.48075363216478123\n",
      "Gradient Descent(110/199): ||gradient||=0.0185320709828217, loss=0.37647377405665694, w0=0.05223040604532589, w1=-0.48148618483359\n",
      "Gradient Descent(111/199): ||gradient||=0.018875554135380838, loss=0.3764049806116124, w0=0.05318915026063796, w1=-0.482619486273479\n",
      "Gradient Descent(112/199): ||gradient||=0.0276156591316686, loss=0.3764049806116124, w0=0.05318915026063796, w1=-0.482619486273479\n",
      "Gradient Descent(113/199): ||gradient||=0.0276156591316686, loss=0.37636803992134626, w0=0.05213338045951889, w1=-0.48340924310721267\n",
      "Gradient Descent(114/199): ||gradient||=0.030872284997728476, loss=0.37636803992134626, w0=0.05213338045951889, w1=-0.48340924310721267\n",
      "Gradient Descent(115/199): ||gradient||=0.030872284997728476, loss=0.3763235094276258, w0=0.052958697964368265, w1=-0.48365330386510164\n",
      "Gradient Descent(116/199): ||gradient||=0.01767168180432831, loss=0.3762824772049997, w0=0.05282445675055237, w1=-0.48429258881539367\n",
      "Gradient Descent(117/199): ||gradient||=0.01772021908428721, loss=0.37621628854648986, w0=0.053538979122858654, w1=-0.48530581683557006\n",
      "Gradient Descent(118/199): ||gradient||=0.02248927328219523, loss=0.37621628854648986, w0=0.053538979122858654, w1=-0.48530581683557006\n",
      "Gradient Descent(119/199): ||gradient||=0.02248927328219523, loss=0.3761789954132975, w0=0.052863744396128814, w1=-0.4859722654358964\n",
      "Gradient Descent(120/199): ||gradient||=0.023129704794576326, loss=0.37616735730686074, w0=0.05455330085504714, w1=-0.4867905743942094\n",
      "Gradient Descent(121/199): ||gradient||=0.0469941210858958, loss=0.37616735730686074, w0=0.05455330085504714, w1=-0.4867905743942094\n",
      "Gradient Descent(122/199): ||gradient||=0.0469941210858958, loss=0.3761331421152895, w0=0.052434258234132496, w1=-0.4876041106247845\n",
      "Gradient Descent(123/199): ||gradient||=0.04747164156960842, loss=0.3761331421152895, w0=0.052434258234132496, w1=-0.4876041106247845\n",
      "Gradient Descent(124/199): ||gradient||=0.04747164156960842, loss=0.3760478425432844, w0=0.05369591682618312, w1=-0.4877353829901462\n",
      "Gradient Descent(125/199): ||gradient||=0.016617969607994627, loss=0.37601368321374806, w0=0.05359695208854298, w1=-0.48826882330219257\n",
      "Gradient Descent(126/199): ||gradient||=0.016474712507179416, loss=0.3759557018831461, w0=0.05408119505739689, w1=-0.4891354918266977\n",
      "Gradient Descent(127/199): ||gradient||=0.018403025084001087, loss=0.3759301114417081, w0=0.05287982437445021, w1=-0.4909282728168662\n",
      "Gradient Descent(128/199): ||gradient||=0.05215876784701816, loss=0.3759301114417081, w0=0.05287982437445021, w1=-0.4909282728168662\n",
      "Gradient Descent(129/199): ||gradient||=0.05215876784701816, loss=0.3759301114417081, w0=0.05287982437445021, w1=-0.4909282728168662\n",
      "Gradient Descent(130/199): ||gradient||=0.05215876784701816, loss=0.375830550047325, w0=0.05419847833535779, w1=-0.4910190111077268\n",
      "Gradient Descent(131/199): ||gradient||=0.015535646958366059, loss=0.375800956571419, w0=0.054211343830864095, w1=-0.4914793513496622\n",
      "Gradient Descent(132/199): ||gradient||=0.015427062994034204, loss=0.37574866838089216, w0=0.05443653074960027, w1=-0.49227598978495485\n",
      "Gradient Descent(133/199): ||gradient||=0.015445823462500822, loss=0.37566213465454634, w0=0.05427255798917602, w1=-0.4937621580869105\n",
      "Gradient Descent(134/199): ||gradient||=0.019864987140776304, loss=0.37566213465454634, w0=0.05427255798917602, w1=-0.4937621580869105\n",
      "Gradient Descent(135/199): ||gradient||=0.019864987140776304, loss=0.37563702373186025, w0=0.055447469849278216, w1=-0.49438662277130885\n",
      "Gradient Descent(136/199): ||gradient||=0.032785583244158895, loss=0.37563702373186025, w0=0.055447469849278216, w1=-0.49438662277130885\n",
      "Gradient Descent(137/199): ||gradient||=0.032785583244158895, loss=0.37559881842405124, w0=0.054232302982039966, w1=-0.49495348544129447\n",
      "Gradient Descent(138/199): ||gradient||=0.026321251576412484, loss=0.37559881842405124, w0=0.054232302982039966, w1=-0.49495348544129447\n",
      "Gradient Descent(139/199): ||gradient||=0.026321251576412484, loss=0.37556927015859126, w0=0.05477902993338075, w1=-0.4951059513579476\n",
      "Gradient Descent(140/199): ||gradient||=0.014709639708237568, loss=0.3755448803888661, w0=0.05488994319128708, w1=-0.4954897996363759\n",
      "Gradient Descent(141/199): ||gradient||=0.014605917030110495, loss=0.37550165635670896, w0=0.054926537085838174, w1=-0.4961975707048334\n",
      "Gradient Descent(142/199): ||gradient||=0.014553604155796276, loss=0.3754274995368206, w0=0.055352341112275605, w1=-0.4974139920129396\n",
      "Gradient Descent(143/199): ||gradient||=0.01631947117300509, loss=0.3754274995368206, w0=0.055352341112275605, w1=-0.4974139920129396\n",
      "Gradient Descent(144/199): ||gradient||=0.01631947117300509, loss=0.375393779034666, w0=0.054849035283595075, w1=-0.4981527069903136\n",
      "Gradient Descent(145/199): ||gradient||=0.021183609846596542, loss=0.375393779034666, w0=0.054849035283595075, w1=-0.4981527069903136\n",
      "Gradient Descent(146/199): ||gradient||=0.021183609846596542, loss=0.3753672056513496, w0=0.055531981644894875, w1=-0.49842775545556933\n",
      "Gradient Descent(147/199): ||gradient||=0.016956434039075628, loss=0.3753372378522856, w0=0.05493019210787433, w1=-0.49915206818289987\n",
      "Gradient Descent(148/199): ||gradient||=0.02275165408602839, loss=0.3753372378522856, w0=0.05493019210787433, w1=-0.49915206818289987\n",
      "Gradient Descent(149/199): ||gradient||=0.02275165408602839, loss=0.37530965532839805, w0=0.05567754555403448, w1=-0.49940479336349836\n",
      "Gradient Descent(150/199): ||gradient||=0.017101660335977365, loss=0.3752815436563351, w0=0.055053726225548404, w1=-0.5001067124139796\n",
      "Gradient Descent(151/199): ||gradient||=0.02276570755213402, loss=0.3752815436563351, w0=0.055053726225548404, w1=-0.5001067124139796\n",
      "Gradient Descent(152/199): ||gradient||=0.02276570755213402, loss=0.37525437187809313, w0=0.055784413888018344, w1=-0.500348241042386\n",
      "Gradient Descent(153/199): ||gradient||=0.016551088987812854, loss=0.37522627238923223, w0=0.05522359802447154, w1=-0.5010184893141914\n",
      "Gradient Descent(154/199): ||gradient||=0.021085154914132917, loss=0.37522627238923223, w0=0.05522359802447154, w1=-0.5010184893141914\n",
      "Gradient Descent(155/199): ||gradient||=0.021085154914132917, loss=0.37520141869564305, w0=0.055858432625080626, w1=-0.5012596128037818\n",
      "Gradient Descent(156/199): ||gradient||=0.015498003972664287, loss=0.37517261102736116, w0=0.055424929513693814, w1=-0.5018913740433716\n",
      "Gradient Descent(157/199): ||gradient||=0.0183839988089248, loss=0.37517261102736116, w0=0.055424929513693814, w1=-0.5018913740433716\n",
      "Gradient Descent(158/199): ||gradient||=0.0183839988089248, loss=0.37515113766325764, w0=0.05591361364293966, w1=-0.5021391443828969\n",
      "Gradient Descent(159/199): ||gradient||=0.014394775083240727, loss=0.3751220534671644, w0=0.05563168489153783, w1=-0.5027305384892818\n",
      "Gradient Descent(160/199): ||gradient||=0.015763499468004677, loss=0.37509809822144696, w0=0.056743968929021026, w1=-0.5035843786456371\n",
      "Gradient Descent(161/199): ||gradient||=0.03379193130343377, loss=0.37509809822144696, w0=0.056743968929021026, w1=-0.5035843786456371\n",
      "Gradient Descent(162/199): ||gradient||=0.03379193130343377, loss=0.37509809822144696, w0=0.056743968929021026, w1=-0.5035843786456371\n",
      "Gradient Descent(163/199): ||gradient||=0.03379193130343377, loss=0.37505899741338966, w0=0.05617788057724981, w1=-0.5038156694005143\n",
      "Gradient Descent(164/199): ||gradient||=0.015162410699139657, loss=0.3750418794476167, w0=0.05594957734814723, w1=-0.5041314086615926\n",
      "Gradient Descent(165/199): ||gradient||=0.013265446520206633, loss=0.3750147554506019, w0=0.056175401575535765, w1=-0.5046176847988454\n",
      "Gradient Descent(166/199): ||gradient||=0.013474931443043965, loss=0.3749716153174841, w0=0.05585255170276022, w1=-0.5055808929929065\n",
      "Gradient Descent(167/199): ||gradient||=0.018373590654486547, loss=0.3749716153174841, w0=0.05585255170276022, w1=-0.5055808929929065\n",
      "Gradient Descent(168/199): ||gradient||=0.018373590654486547, loss=0.37495106955815105, w0=0.056690401124911735, w1=-0.5059685585605614\n",
      "Gradient Descent(169/199): ||gradient||=0.022074915571999962, loss=0.37495106955815105, w0=0.056690401124911735, w1=-0.5059685585605614\n",
      "Gradient Descent(170/199): ||gradient||=0.022074915571999962, loss=0.37492727156846584, w0=0.05614255595887358, w1=-0.5063034039005433\n",
      "Gradient Descent(171/199): ||gradient||=0.013572735962229953, loss=0.37490343136704724, w0=0.0564833395206851, w1=-0.506736906556775\n",
      "Gradient Descent(172/199): ||gradient||=0.014128177305741722, loss=0.3748727630859458, w0=0.05590137732625108, w1=-0.507664952281066\n",
      "Gradient Descent(173/199): ||gradient||=0.02394233239523894, loss=0.3748727630859458, w0=0.05590137732625108, w1=-0.507664952281066\n",
      "Gradient Descent(174/199): ||gradient||=0.02394233239523894, loss=0.37485723652508784, w0=0.05709383527742595, w1=-0.5079717288925797\n",
      "Gradient Descent(175/199): ||gradient||=0.028144790280042277, loss=0.37485723652508784, w0=0.05709383527742595, w1=-0.5079717288925797\n",
      "Gradient Descent(176/199): ||gradient||=0.028144790280042277, loss=0.3748244553441597, w0=0.056356707265881635, w1=-0.508311323491672\n",
      "Gradient Descent(177/199): ||gradient||=0.013347157332738484, loss=0.37480292857122277, w0=0.05668722253514111, w1=-0.5087117034598236\n",
      "Gradient Descent(178/199): ||gradient||=0.013663875308329776, loss=0.3747735579401701, w0=0.056168834809139284, w1=-0.5095703198609773\n",
      "Gradient Descent(179/199): ||gradient||=0.021581956704450917, loss=0.3747735579401701, w0=0.056168834809139284, w1=-0.5095703198609773\n",
      "Gradient Descent(180/199): ||gradient||=0.021581956704450917, loss=0.37475550951623, w0=0.05715533005223723, w1=-0.5098705896192861\n",
      "Gradient Descent(181/199): ||gradient||=0.023232049261305388, loss=0.37475550951623, w0=0.05715533005223723, w1=-0.5098705896192861\n",
      "Gradient Descent(182/199): ||gradient||=0.023232049261305388, loss=0.3747315181568793, w0=0.05661175913109405, w1=-0.5101682146867692\n",
      "Gradient Descent(183/199): ||gradient||=0.012294840886930237, loss=0.3747118824061605, w0=0.056795812792053695, w1=-0.5105558730751765\n",
      "Gradient Descent(184/199): ||gradient||=0.012266335728509372, loss=0.3746787561909453, w0=0.05659713149795541, w1=-0.5113181487253828\n",
      "Gradient Descent(185/199): ||gradient||=0.014207026897995077, loss=0.3746787561909453, w0=0.05659713149795541, w1=-0.5113181487253828\n",
      "Gradient Descent(186/199): ||gradient||=0.014207026897995077, loss=0.37466019088097213, w0=0.05703012437265543, w1=-0.5116587955596379\n",
      "Gradient Descent(187/199): ||gradient||=0.01413517031045905, loss=0.3746391238316004, w0=0.056390806331166096, w1=-0.5124492210304689\n",
      "Gradient Descent(188/199): ||gradient||=0.023505104644661698, loss=0.3746391238316004, w0=0.056390806331166096, w1=-0.5124492210304689\n",
      "Gradient Descent(189/199): ||gradient||=0.023505104644661698, loss=0.3746199697184768, w0=0.05741623412750261, w1=-0.5127000746120564\n",
      "Gradient Descent(190/199): ||gradient||=0.022406935522176825, loss=0.3746199697184768, w0=0.05741623412750261, w1=-0.5127000746120564\n",
      "Gradient Descent(191/199): ||gradient||=0.022406935522176825, loss=0.3745982867059132, w0=0.05693329280040851, w1=-0.5129661674552898\n",
      "Gradient Descent(192/199): ||gradient||=0.011569505767651918, loss=0.37458151987903204, w0=0.057010094348172884, w1=-0.5133246373903446\n",
      "Gradient Descent(193/199): ||gradient||=0.011506130054145382, loss=0.3745518012538294, w0=0.0570026504476912, w1=-0.5139862108730016\n",
      "Gradient Descent(194/199): ||gradient||=0.011539564525168005, loss=0.37450233582958725, w0=0.05740238451789874, w1=-0.5151178555514624\n",
      "Gradient Descent(195/199): ||gradient||=0.014892535255072094, loss=0.37450233582958725, w0=0.05740238451789874, w1=-0.5151178555514624\n",
      "Gradient Descent(196/199): ||gradient||=0.014892535255072094, loss=0.37448853535893634, w0=0.05664922663272098, w1=-0.5158450721617299\n",
      "Gradient Descent(197/199): ||gradient||=0.025140184296009206, loss=0.37448853535893634, w0=0.05664922663272098, w1=-0.5158450721617299\n",
      "Gradient Descent(198/199): ||gradient||=0.025140184296009206, loss=0.37446719682440244, w0=0.05768166211436624, w1=-0.5160535726369978\n",
      "Gradient Descent(199/199): ||gradient||=0.020797575756152372, loss=0.37446719682440244, w0=0.05768166211436624, w1=-0.5160535726369978\n"
     ]
    }
   ],
   "source": [
    "# Define the parameters of the algorithm.\n",
    "max_iters = 200\n",
    "gamma = 0.0001\n",
    "\n",
    "# Initialization\n",
    "w_initial = np.zeros(tX.shape[1])\n",
    "\n",
    "# Start gradient descent.\n",
    "gradient_w, gradient_loss = gradient_descent(y, tX, w_initial, max_iters, gamma)"
   ]
  },
  {
   "cell_type": "code",
   "execution_count": 26,
   "metadata": {},
   "outputs": [],
   "source": [
    "def stochastic_gradient_descent(y, tx, initial_w, batch_size, max_iters, gamma):\n",
    "    \"\"\"Stochastic gradient descent algorithm.\"\"\"\n",
    "    w = initial_w\n",
    "    loss = np.inf\n",
    "    for n_iter in range(max_iters):\n",
    "        for yn, xn in batch_iter(y, tx, batch_size):\n",
    "            g = compute_stoch_gradient(yn, xn, w)\n",
    "            new_w = w - gamma*g;\n",
    "            new_loss = compute_loss(y, tx, new_w)\n",
    "        if new_loss <= loss:\n",
    "            loss , w = new_loss , new_w\n",
    "            gamma *=1.8\n",
    "            #print(\"SGD({bi}/{ti}): loss={l} ; gamma={g}; gamma aumenta\".format(\n",
    "             # bi=n_iter, ti=max_iters - 1, l=loss, g= gamma))\n",
    "        else:\n",
    "            gamma *=0.3\n",
    "            #print(\"SGD({bi}/{ti}): loss={l} ; gamma={g}; gamma diminuisce\".format(\n",
    "             #     bi=n_iter, ti=max_iters - 1, l=loss, g= gamma))\n",
    "        print(\"SGD({bi}/{ti}): |gradient|={grad}, loss={l}, w0={w0}, w1={w1}\".format(\n",
    "              bi=n_iter, ti=max_iters - 1, grad=np.linalg.norm(g), l=loss, w0=w[0], w1=w[1]))\n",
    "\n",
    "    return w, loss"
   ]
  },
  {
   "cell_type": "code",
   "execution_count": 27,
   "metadata": {
    "scrolled": true
   },
   "outputs": [
    {
     "name": "stdout",
     "output_type": "stream",
     "text": [
      "SGD(0/99): |gradient|=2.8600930823379542, loss=0.4793815082710041, w0=-0.014810381885254457, w1=-0.008667330987376116\n",
      "SGD(1/99): |gradient|=2.7173770572759213, loss=0.4551646841849014, w0=-0.03931171197803044, w1=-0.025069533181488846\n",
      "SGD(2/99): |gradient|=2.663364057997503, loss=0.4551646841849014, w0=-0.03931171197803044, w1=-0.025069533181488846\n",
      "SGD(3/99): |gradient|=4.901321643170403, loss=0.4551646841849014, w0=-0.03931171197803044, w1=-0.025069533181488846\n",
      "SGD(4/99): |gradient|=11.275304404310342, loss=0.4551646841849014, w0=-0.03931171197803044, w1=-0.025069533181488846\n",
      "SGD(5/99): |gradient|=2.311745732381912, loss=0.4547619394775679, w0=-0.04036049208244068, w1=-0.02499185578064573\n",
      "SGD(6/99): |gradient|=4.798999181069181, loss=0.4547619394775679, w0=-0.04036049208244068, w1=-0.02499185578064573\n",
      "SGD(7/99): |gradient|=2.6065640647509216, loss=0.45448994375843865, w0=-0.04099102291497729, w1=-0.02529055382235474\n",
      "SGD(8/99): |gradient|=2.5234302663767862, loss=0.45395909933340484, w0=-0.04217917738996302, w1=-0.026093115292998008\n",
      "SGD(9/99): |gradient|=4.118717545165172, loss=0.45395909933340484, w0=-0.04217917738996302, w1=-0.026093115292998008\n",
      "SGD(10/99): |gradient|=2.6111765085439864, loss=0.45395909933340484, w0=-0.04217917738996302, w1=-0.026093115292998008\n",
      "SGD(11/99): |gradient|=2.566246434907815, loss=0.4538887999353025, w0=-0.04237366315587914, w1=-0.026179167135139854\n",
      "SGD(12/99): |gradient|=3.112525677314162, loss=0.45386447300829125, w0=-0.04268549448502523, w1=-0.026337578551855204\n",
      "SGD(13/99): |gradient|=2.181433102939697, loss=0.45364869095459087, w0=-0.043197766091351016, w1=-0.026553260232370392\n",
      "SGD(14/99): |gradient|=2.1979553394838365, loss=0.45333213492008767, w0=-0.04411450571895383, w1=-0.027006888316317822\n",
      "SGD(15/99): |gradient|=2.7528779288796486, loss=0.45333213492008767, w0=-0.04411450571895383, w1=-0.027006888316317822\n",
      "SGD(16/99): |gradient|=9.841566267064906, loss=0.45266194560680656, w0=-0.04321410139482076, w1=-0.027273953265941803\n",
      "SGD(17/99): |gradient|=1.9397861050919138, loss=0.45236175764036723, w0=-0.04355558617740286, w1=-0.027713525327318033\n",
      "SGD(18/99): |gradient|=2.5416570647025285, loss=0.4517945963831662, w0=-0.04556071119261937, w1=-0.028766157910561717\n",
      "SGD(19/99): |gradient|=4.130805288385889, loss=0.4517945963831662, w0=-0.04556071119261937, w1=-0.028766157910561717\n",
      "SGD(20/99): |gradient|=1.9286979623850682, loss=0.4516498494586719, w0=-0.046033975524590674, w1=-0.02849667110961189\n",
      "SGD(21/99): |gradient|=2.2435386806901505, loss=0.4516498494586719, w0=-0.046033975524590674, w1=-0.02849667110961189\n",
      "SGD(22/99): |gradient|=3.875445086012125, loss=0.4516498494586719, w0=-0.046033975524590674, w1=-0.02849667110961189\n",
      "SGD(23/99): |gradient|=2.106472947723136, loss=0.45162086637533655, w0=-0.0461406558941299, w1=-0.02855750744187641\n",
      "SGD(24/99): |gradient|=2.6241673266033745, loss=0.4515477356633137, w0=-0.04638588033260031, w1=-0.028779574957668395\n",
      "SGD(25/99): |gradient|=2.0257012096481706, loss=0.4515326036207922, w0=-0.04662106268379953, w1=-0.028640310301744566\n",
      "SGD(26/99): |gradient|=8.114630042140645, loss=0.4505265964409041, w0=-0.04549644771728674, w1=-0.028963558374376037\n",
      "SGD(27/99): |gradient|=2.9235126229965136, loss=0.4502222250010506, w0=-0.04817506891814378, w1=-0.029454002339255193\n",
      "SGD(28/99): |gradient|=3.3130133864415274, loss=0.4502222250010506, w0=-0.04817506891814378, w1=-0.029454002339255193\n",
      "SGD(29/99): |gradient|=1.887581425675892, loss=0.4501011801748613, w0=-0.048610669251293294, w1=-0.02941813463595352\n",
      "SGD(30/99): |gradient|=2.530898490760266, loss=0.4496252070171721, w0=-0.050364292576787574, w1=-0.03079805813319979\n",
      "SGD(31/99): |gradient|=2.5231282502173173, loss=0.4496252070171721, w0=-0.050364292576787574, w1=-0.03079805813319979\n",
      "SGD(32/99): |gradient|=1.976755077737338, loss=0.44949264217828283, w0=-0.0509568042740966, w1=-0.030944879910837348\n",
      "SGD(33/99): |gradient|=2.891571642723172, loss=0.44949264217828283, w0=-0.0509568042740966, w1=-0.030944879910837348\n",
      "SGD(34/99): |gradient|=3.471352679244422, loss=0.44949264217828283, w0=-0.0509568042740966, w1=-0.030944879910837348\n",
      "SGD(35/99): |gradient|=2.7991529142585403, loss=0.4494721594702795, w0=-0.05114985690403858, w1=-0.031074268246624313\n",
      "SGD(36/99): |gradient|=4.989740829078691, loss=0.44944447255491804, w0=-0.05077706375622036, w1=-0.030769889365038845\n",
      "SGD(37/99): |gradient|=3.6457634265644763, loss=0.4494089225898449, w0=-0.05013664313909029, w1=-0.030938902046140023\n",
      "SGD(38/99): |gradient|=3.929910694003765, loss=0.4494089225898449, w0=-0.05013664313909029, w1=-0.030938902046140023\n",
      "SGD(39/99): |gradient|=4.866442347424411, loss=0.44928031392124645, w0=-0.0499045640146168, w1=-0.030988435852587023\n",
      "SGD(40/99): |gradient|=3.6169516778110347, loss=0.44928031392124645, w0=-0.0499045640146168, w1=-0.030988435852587023\n",
      "SGD(41/99): |gradient|=2.0700337852605397, loss=0.4492616861883625, w0=-0.049944723820986955, w1=-0.031060093877121803\n",
      "SGD(42/99): |gradient|=2.2313876806528823, loss=0.44923453399040325, w0=-0.050153669277890195, w1=-0.031173052538471763\n",
      "SGD(43/99): |gradient|=1.924199934450749, loss=0.4491470961130611, w0=-0.05031891843570619, w1=-0.03127207644469365\n",
      "SGD(44/99): |gradient|=2.26784408991394, loss=0.4489621473910692, w0=-0.05094965860429386, w1=-0.031904292416645025\n",
      "SGD(45/99): |gradient|=4.022474497285553, loss=0.4489621473910692, w0=-0.05094965860429386, w1=-0.031904292416645025\n",
      "SGD(46/99): |gradient|=2.3320530146168537, loss=0.44894894467702473, w0=-0.05137430847665778, w1=-0.03208589681135689\n",
      "SGD(47/99): |gradient|=3.0490688886308615, loss=0.44894894467702473, w0=-0.05137430847665778, w1=-0.03208589681135689\n",
      "SGD(48/99): |gradient|=5.05883590830804, loss=0.44894894467702473, w0=-0.05137430847665778, w1=-0.03208589681135689\n",
      "SGD(49/99): |gradient|=1.8562989504539134, loss=0.4489406655307299, w0=-0.05139467541279999, w1=-0.032108101364366974\n",
      "SGD(50/99): |gradient|=5.731326877947313, loss=0.4489406655307299, w0=-0.05139467541279999, w1=-0.032108101364366974\n",
      "SGD(51/99): |gradient|=3.248342653061123, loss=0.4489382818203016, w0=-0.051452787138968135, w1=-0.03212828928396878\n",
      "SGD(52/99): |gradient|=3.62359006591888, loss=0.4489382818203016, w0=-0.051452787138968135, w1=-0.03212828928396878\n",
      "SGD(53/99): |gradient|=2.9199458964256015, loss=0.4489382818203016, w0=-0.051452787138968135, w1=-0.03212828928396878\n",
      "SGD(54/99): |gradient|=2.5455261954233537, loss=0.4489382818203016, w0=-0.051452787138968135, w1=-0.03212828928396878\n",
      "SGD(55/99): |gradient|=5.660790865152102, loss=0.44893707352703804, w0=-0.05144895206800166, w1=-0.032128843656819506\n",
      "SGD(56/99): |gradient|=2.137885759627932, loss=0.44893656156078177, w0=-0.051451603375646915, w1=-0.03213028415810875\n",
      "SGD(57/99): |gradient|=4.4299365834864615, loss=0.44893384445720785, w0=-0.051443769310506864, w1=-0.032133187355087606\n",
      "SGD(58/99): |gradient|=2.7886670046147546, loss=0.44893384445720785, w0=-0.051443769310506864, w1=-0.032133187355087606\n",
      "SGD(59/99): |gradient|=3.7820537093529247, loss=0.4489324609960229, w0=-0.051441050425310005, w1=-0.03213464492943272\n",
      "SGD(60/99): |gradient|=3.309574430432573, loss=0.4489324609960229, w0=-0.051441050425310005, w1=-0.03213464492943272\n",
      "SGD(61/99): |gradient|=2.326675364542055, loss=0.4489322068648873, w0=-0.051442807040958966, w1=-0.032135135598855454\n",
      "SGD(62/99): |gradient|=2.08950192373404, loss=0.44893156893524877, w0=-0.051445324719185136, w1=-0.03213660221532069\n",
      "SGD(63/99): |gradient|=3.711981537788785, loss=0.44893156893524877, w0=-0.051445324719185136, w1=-0.03213660221532069\n",
      "SGD(64/99): |gradient|=4.296925472476459, loss=0.4489315188975636, w0=-0.0514423766075732, w1=-0.03213739587532064\n",
      "SGD(65/99): |gradient|=4.247664628791834, loss=0.4489303308464921, w0=-0.05143847843429219, w1=-0.032138723961561894\n",
      "SGD(66/99): |gradient|=2.2372332404915385, loss=0.4489294634321858, w0=-0.05144278622296159, w1=-0.03214196072420594\n",
      "SGD(67/99): |gradient|=2.5856678969909734, loss=0.4489294634321858, w0=-0.05144278622296159, w1=-0.03214196072420594\n",
      "SGD(68/99): |gradient|=2.13648164018367, loss=0.4489294634321858, w0=-0.05144278622296159, w1=-0.03214196072420594\n",
      "SGD(69/99): |gradient|=2.539288472738744, loss=0.4489294634321858, w0=-0.05144278622296159, w1=-0.03214196072420594\n",
      "SGD(70/99): |gradient|=2.091933590923872, loss=0.44892941724767466, w0=-0.051443001450860525, w1=-0.03214197515866047\n",
      "SGD(71/99): |gradient|=2.0066962481342365, loss=0.44892935715189697, w0=-0.05144340040559728, w1=-0.03214210062738441\n",
      "SGD(72/99): |gradient|=1.9360884850035232, loss=0.4489292352167867, w0=-0.051443750016151056, w1=-0.03214205306537565\n",
      "SGD(73/99): |gradient|=5.307635841486347, loss=0.44892820733410826, w0=-0.051440939600828385, w1=-0.032142696361216735\n",
      "SGD(74/99): |gradient|=2.052480074033444, loss=0.44892763998949037, w0=-0.05144277598022524, w1=-0.03214360321410788\n",
      "SGD(75/99): |gradient|=2.260528764022824, loss=0.44892714035252607, w0=-0.05144766949846539, w1=-0.03214490182243062\n",
      "SGD(76/99): |gradient|=4.546657059792193, loss=0.44892291021320824, w0=-0.05143291506076065, w1=-0.032148710891947437\n",
      "SGD(77/99): |gradient|=1.9555313374848353, loss=0.44892193461706004, w0=-0.05144216147627589, w1=-0.032148874745744044\n",
      "SGD(78/99): |gradient|=1.8928692976735622, loss=0.4489167611913184, w0=-0.05145264944058617, w1=-0.032158961915066564\n",
      "SGD(79/99): |gradient|=3.0763789837954096, loss=0.4489167611913184, w0=-0.05145264944058617, w1=-0.032158961915066564\n",
      "SGD(80/99): |gradient|=3.2655372601111154, loss=0.4489167611913184, w0=-0.05145264944058617, w1=-0.032158961915066564\n",
      "SGD(81/99): |gradient|=3.4003385728775566, loss=0.4489167611913184, w0=-0.05145264944058617, w1=-0.032158961915066564\n",
      "SGD(82/99): |gradient|=2.2435989214794234, loss=0.4489167611913184, w0=-0.05145264944058617, w1=-0.032158961915066564\n",
      "SGD(83/99): |gradient|=2.120903037066836, loss=0.44891667707430805, w0=-0.05145299957363617, w1=-0.03215904475022782\n",
      "SGD(84/99): |gradient|=2.0527637295207453, loss=0.44891659941764156, w0=-0.05145351144163749, w1=-0.03215927634231415\n",
      "SGD(85/99): |gradient|=1.8470587557157911, loss=0.4489164447195576, w0=-0.05145424633399709, w1=-0.032159503913101586\n",
      "SGD(86/99): |gradient|=3.495657431579069, loss=0.4489163796539035, w0=-0.051458463113490595, w1=-0.03216057612475125\n",
      "SGD(87/99): |gradient|=3.99162546643168, loss=0.4489163796539035, w0=-0.051458463113490595, w1=-0.03216057612475125\n",
      "SGD(88/99): |gradient|=5.189058392435603, loss=0.44891562682090025, w0=-0.05145672941810893, w1=-0.03215999560958495\n",
      "SGD(89/99): |gradient|=8.950052591507543, loss=0.44891217432186326, w0=-0.05145281492988456, w1=-0.032160038520158196\n",
      "SGD(90/99): |gradient|=2.068137236259893, loss=0.44891209905925583, w0=-0.051455415369605656, w1=-0.03215970234553152\n",
      "SGD(91/99): |gradient|=2.908638989195038, loss=0.44891142424579655, w0=-0.05146755569655811, w1=-0.03216241377733492\n",
      "SGD(92/99): |gradient|=5.089435381974754, loss=0.44890554488251644, w0=-0.05144334503056634, w1=-0.03216161445143976\n",
      "SGD(93/99): |gradient|=4.677970704071245, loss=0.4488924269679308, w0=-0.05140782166256984, w1=-0.0321633739054472\n",
      "SGD(94/99): |gradient|=4.036243211741239, loss=0.44889047404083043, w0=-0.05133559569936772, w1=-0.03217043054636242\n",
      "SGD(95/99): |gradient|=4.598611818937173, loss=0.44889047404083043, w0=-0.05133559569936772, w1=-0.03217043054636242\n",
      "SGD(96/99): |gradient|=3.84592781906929, loss=0.44888550579298486, w0=-0.051302220658145006, w1=-0.03217553765193412\n",
      "SGD(97/99): |gradient|=2.178713368414026, loss=0.448876352045993, w0=-0.05133847322498994, w1=-0.03219617822094972\n",
      "SGD(98/99): |gradient|=3.489100544565443, loss=0.448876352045993, w0=-0.05133847322498994, w1=-0.03219617822094972\n",
      "SGD(99/99): |gradient|=3.300927335445178, loss=0.448876352045993, w0=-0.05133847322498994, w1=-0.03219617822094972\n"
     ]
    }
   ],
   "source": [
    "# from stochastic_gradient_descent import *\n",
    "\n",
    "# Define the parameters of the algorithm.\n",
    "max_iters = 100\n",
    "gamma = 0.01\n",
    "batch_size = 1\n",
    "\n",
    "# Initialization\n",
    "w_initial = np.zeros(tX.shape[1])\n",
    "\n",
    "# Start SGD.\n",
    "sgd_loss, sgd_w = stochastic_gradient_descent(\n",
    "    y, tX, w_initial, batch_size, max_iters, gamma)\n"
   ]
  },
  {
   "cell_type": "code",
   "execution_count": 36,
   "metadata": {},
   "outputs": [],
   "source": [
    "def least_squares(y, tx):\n",
    "    \"\"\"calculate the least squares solution.\"\"\"\n",
    "    D = tx.shape[1]\n",
    "    G = tx.T.dot(tx)\n",
    "    if(np.linalg.matrix_rank(G)==D):\n",
    "        w = np.linalg.inv(G).dot(tx.T).dot(y)\n",
    "    else:\n",
    "        w = np.linalg.lstsq(G,tx.T.dot(y), rcond=None) [0]\n",
    "    return w"
   ]
  },
  {
   "cell_type": "code",
   "execution_count": 37,
   "metadata": {},
   "outputs": [
    {
     "data": {
      "text/plain": [
       "0.34673788750013346"
      ]
     },
     "execution_count": 37,
     "metadata": {},
     "output_type": "execute_result"
    }
   ],
   "source": [
    "w_ls = least_squares(y, tX)\n",
    "loss = compute_loss(y, tX, w_ls)\n",
    "loss"
   ]
  },
  {
   "cell_type": "code",
   "execution_count": 38,
   "metadata": {},
   "outputs": [],
   "source": [
    "def ridge_regression(y, tx, lambda_):\n",
    "    \"\"\"implement ridge regression.\"\"\"\n",
    "    N = len(y)\n",
    "    G = tx.T.dot(tx)\n",
    "    i = np.linalg.inv(G + 2*N*lambda_*np.eye(G.shape[0]))\n",
    "    w_star = i.dot(tx.T).dot(y)\n",
    "    return w_star"
   ]
  },
  {
   "cell_type": "code",
   "execution_count": 39,
   "metadata": {},
   "outputs": [
    {
     "data": {
      "text/plain": [
       "(2, 16)"
      ]
     },
     "execution_count": 39,
     "metadata": {},
     "output_type": "execute_result"
    }
   ],
   "source": [
    "a = np.array([[2,2], [3,3]])\n",
    "build_poly(a,7).shape"
   ]
  },
  {
   "cell_type": "code",
   "execution_count": 40,
   "metadata": {},
   "outputs": [
    {
     "name": "stdout",
     "output_type": "stream",
     "text": [
      "1.7533916560805558 1.7688746898354883 1.872640732271172 1.8808905815254051\n"
     ]
    }
   ],
   "source": [
    "x_tr_poly = build_poly(x_tr, 8)\n",
    "x_te_poly = build_poly(x_te, 8)\n",
    "lambda_ = 0.001\n",
    "w = ridge_regression(y_tr, x_tr_poly, lambda_)\n",
    "loss_tr = compute_loss(y_tr, x_tr_poly, w)\n",
    "loss_te = compute_loss(y_te, x_te_poly, w)\n",
    "rmse_te = compute_rmse(y_te, x_te_poly, w)\n",
    "rmse_tr = compute_rmse(y_tr, x_tr_poly, w)\n",
    "print(loss_tr, loss_te, rmse_tr, rmse_te)"
   ]
  },
  {
   "cell_type": "code",
   "execution_count": 33,
   "metadata": {},
   "outputs": [
    {
     "name": "stdout",
     "output_type": "stream",
     "text": [
      "0.36996642100963134 0.3696055205324451 0.860193491035164 0.859773831344552\n"
     ]
    }
   ],
   "source": [
    "lambda_ = 0.001\n",
    "w = ridge_regression(y_tr, x_tr, lambda_)\n",
    "loss_tr = compute_loss(y_tr, x_tr, w)\n",
    "loss_te = compute_loss(y_te, x_te, w)\n",
    "rmse_te = compute_rmse(y_te, x_te, w)\n",
    "rmse_tr = compute_rmse(y_tr, x_tr, w)\n",
    "print(loss_tr, loss_te, rmse_tr, rmse_te)"
   ]
  },
  {
   "cell_type": "code",
   "execution_count": 34,
   "metadata": {},
   "outputs": [
    {
     "name": "stdout",
     "output_type": "stream",
     "text": [
      "0.37227827082132925\n"
     ]
    }
   ],
   "source": [
    "from sklearn.linear_model import Ridge\n",
    "r = Ridge(alpha=0.01, fit_intercept=False, normalize=False, solver='lsqr')\n",
    "r.fit(x_tr, y_tr)\n",
    "w_skt = r.coef_\n",
    "print(compute_loss(y_te, x_te, w_skt))"
   ]
  },
  {
   "cell_type": "code",
   "execution_count": 35,
   "metadata": {},
   "outputs": [
    {
     "name": "stdout",
     "output_type": "stream",
     "text": [
      "[ 0.06507804 -0.60690804 -0.12793408 -0.03411475  0.13656939  0.06606513\n",
      " -0.09863531 -0.00412276 -0.01418446  0.09789098  0.52011973  0.00901738\n",
      "  0.00307711  0.28443773  0.00899178  0.01477813  0.18105867  0.01198255\n",
      "  0.00826558 -0.09369979] [ 5.79498990e-02 -5.82400017e-01 -1.16000064e-01 -2.32941947e-02\n",
      "  8.72162468e-01  3.44681596e-01 -1.02937017e-01  7.58811118e-04\n",
      " -4.01373176e-01  5.77495535e-01  4.92124527e-01 -1.72135379e-01\n",
      " -2.02059144e-01  2.57321902e-01 -1.69313999e-01 -1.33408031e-01\n",
      "  1.68988670e-01 -1.35576843e-01 -1.77852836e-01 -9.76418852e-02]\n"
     ]
    }
   ],
   "source": [
    "print(w_skt, w)"
   ]
  },
  {
   "cell_type": "markdown",
   "metadata": {},
   "source": [
    "#### Logistic Regression"
   ]
  },
  {
   "cell_type": "code",
   "execution_count": null,
   "metadata": {},
   "outputs": [],
   "source": [
    "def sigmoid(t):\n",
    "    \"\"\"apply sigmoid function on t.\"\"\"\n",
    "    expt = np.exp(t)\n",
    "    sigm = expt/(1+expt)\n",
    "    return sigm"
   ]
  },
  {
   "cell_type": "code",
   "execution_count": 49,
   "metadata": {},
   "outputs": [],
   "source": [
    "def calculate_loss(y, tx, w):\n",
    "    \"\"\"compute the cost by negative log likelihood.\"\"\"\n",
    "    first = np.sum(np.log(1+np.exp(tx.dot(w))))\n",
    "    second = y.T.dot(tx.dot(w))\n",
    "    return first - second"
   ]
  },
  {
   "cell_type": "code",
   "execution_count": 50,
   "metadata": {},
   "outputs": [],
   "source": [
    "def calculate_gradient(y, tx, w):\n",
    "    \"\"\"compute the gradient of loss.\"\"\"\n",
    "    return tx.T.dot(sigmoid(tx.dot(w))-y)"
   ]
  },
  {
   "cell_type": "code",
   "execution_count": 51,
   "metadata": {},
   "outputs": [
    {
     "ename": "NameError",
     "evalue": "name 'tx_te' is not defined",
     "output_type": "error",
     "traceback": [
      "\u001b[0;31m---------------------------------------------------------------------------\u001b[0m",
      "\u001b[0;31mNameError\u001b[0m                                 Traceback (most recent call last)",
      "\u001b[0;32m<ipython-input-51-5ef55633354e>\u001b[0m in \u001b[0;36m<module>\u001b[0;34m\u001b[0m\n\u001b[0;32m----> 1\u001b[0;31m \u001b[0mw\u001b[0m \u001b[0;34m=\u001b[0m \u001b[0mnp\u001b[0m\u001b[0;34m.\u001b[0m\u001b[0mzeros\u001b[0m\u001b[0;34m(\u001b[0m\u001b[0;34m(\u001b[0m\u001b[0mtx_te\u001b[0m\u001b[0;34m.\u001b[0m\u001b[0mshape\u001b[0m\u001b[0;34m[\u001b[0m\u001b[0;36m1\u001b[0m\u001b[0;34m]\u001b[0m\u001b[0;34m,\u001b[0m \u001b[0;36m1\u001b[0m\u001b[0;34m)\u001b[0m\u001b[0;34m)\u001b[0m\u001b[0;34m\u001b[0m\u001b[0;34m\u001b[0m\u001b[0m\n\u001b[0m\u001b[1;32m      2\u001b[0m \u001b[0mcalculate_gradient\u001b[0m\u001b[0;34m(\u001b[0m\u001b[0my_te\u001b[0m\u001b[0;34m,\u001b[0m \u001b[0mtx_te\u001b[0m\u001b[0;34m,\u001b[0m \u001b[0mw\u001b[0m\u001b[0;34m)\u001b[0m\u001b[0;34m\u001b[0m\u001b[0;34m\u001b[0m\u001b[0m\n",
      "\u001b[0;31mNameError\u001b[0m: name 'tx_te' is not defined"
     ]
    }
   ],
   "source": [
    "w = np.zeros((tx_te.shape[1], 1))\n",
    "calculate_gradient(y_te, tx_te, w)"
   ]
  },
  {
   "cell_type": "markdown",
   "metadata": {},
   "source": [
    "#### Using Gradient Descent\n",
    "Implement your function to calculate the gradient for logistic regression."
   ]
  },
  {
   "cell_type": "code",
   "execution_count": 44,
   "metadata": {},
   "outputs": [],
   "source": [
    "def learning_by_gradient_descent(y, tx, w, gamma):\n",
    "    \"\"\"\n",
    "    Do one step of gradient descent using logistic regression.\n",
    "    Return the loss and the updated w.\n",
    "    \"\"\"\n",
    "    loss = calculate_loss(y, tx, w)\n",
    "    grad = calculate_gradient(y, tx, w)\n",
    "    w = w - gamma * grad\n",
    "    return loss, w"
   ]
  },
  {
   "cell_type": "markdown",
   "metadata": {},
   "source": [
    "Demo!"
   ]
  },
  {
   "cell_type": "code",
   "execution_count": 46,
   "metadata": {
    "collapsed": false,
    "jupyter": {
     "outputs_hidden": false
    }
   },
   "outputs": [
    {
     "ename": "MemoryError",
     "evalue": "Unable to allocate array with shape (187500, 187500) and data type float64",
     "output_type": "error",
     "traceback": [
      "\u001b[0;31m---------------------------------------------------------------------------\u001b[0m",
      "\u001b[0;31mMemoryError\u001b[0m                               Traceback (most recent call last)",
      "\u001b[0;32m<ipython-input-46-5488a1080fb8>\u001b[0m in \u001b[0;36m<module>\u001b[0;34m\u001b[0m\n\u001b[1;32m     23\u001b[0m     \u001b[0mprint\u001b[0m\u001b[0;34m(\u001b[0m\u001b[0;34m\"loss={l}\"\u001b[0m\u001b[0;34m.\u001b[0m\u001b[0mformat\u001b[0m\u001b[0;34m(\u001b[0m\u001b[0ml\u001b[0m\u001b[0;34m=\u001b[0m\u001b[0mcalculate_loss\u001b[0m\u001b[0;34m(\u001b[0m\u001b[0my\u001b[0m\u001b[0;34m,\u001b[0m \u001b[0mtx\u001b[0m\u001b[0;34m,\u001b[0m \u001b[0mw\u001b[0m\u001b[0;34m)\u001b[0m\u001b[0;34m)\u001b[0m\u001b[0;34m)\u001b[0m\u001b[0;34m\u001b[0m\u001b[0;34m\u001b[0m\u001b[0m\n\u001b[1;32m     24\u001b[0m \u001b[0;34m\u001b[0m\u001b[0m\n\u001b[0;32m---> 25\u001b[0;31m \u001b[0mlogistic_regression_gradient_descent\u001b[0m\u001b[0;34m(\u001b[0m\u001b[0my_tr\u001b[0m\u001b[0;34m,\u001b[0m \u001b[0mx_tr\u001b[0m\u001b[0;34m)\u001b[0m\u001b[0;34m\u001b[0m\u001b[0;34m\u001b[0m\u001b[0m\n\u001b[0m",
      "\u001b[0;32m<ipython-input-46-5488a1080fb8>\u001b[0m in \u001b[0;36mlogistic_regression_gradient_descent\u001b[0;34m(y, x)\u001b[0m\n\u001b[1;32m     13\u001b[0m     \u001b[0;32mfor\u001b[0m \u001b[0miter\u001b[0m \u001b[0;32min\u001b[0m \u001b[0mrange\u001b[0m\u001b[0;34m(\u001b[0m\u001b[0mmax_iter\u001b[0m\u001b[0;34m)\u001b[0m\u001b[0;34m:\u001b[0m\u001b[0;34m\u001b[0m\u001b[0;34m\u001b[0m\u001b[0m\n\u001b[1;32m     14\u001b[0m         \u001b[0;31m# get loss and update w.\u001b[0m\u001b[0;34m\u001b[0m\u001b[0;34m\u001b[0m\u001b[0;34m\u001b[0m\u001b[0m\n\u001b[0;32m---> 15\u001b[0;31m         \u001b[0mloss\u001b[0m\u001b[0;34m,\u001b[0m \u001b[0mw\u001b[0m \u001b[0;34m=\u001b[0m \u001b[0mlearning_by_gradient_descent\u001b[0m\u001b[0;34m(\u001b[0m\u001b[0my\u001b[0m\u001b[0;34m,\u001b[0m \u001b[0mtx\u001b[0m\u001b[0;34m,\u001b[0m \u001b[0mw\u001b[0m\u001b[0;34m,\u001b[0m \u001b[0mgamma\u001b[0m\u001b[0;34m)\u001b[0m\u001b[0;34m\u001b[0m\u001b[0;34m\u001b[0m\u001b[0m\n\u001b[0m\u001b[1;32m     16\u001b[0m         \u001b[0;31m# log info\u001b[0m\u001b[0;34m\u001b[0m\u001b[0;34m\u001b[0m\u001b[0;34m\u001b[0m\u001b[0m\n\u001b[1;32m     17\u001b[0m         \u001b[0;32mif\u001b[0m \u001b[0miter\u001b[0m \u001b[0;34m%\u001b[0m \u001b[0;36m100\u001b[0m \u001b[0;34m==\u001b[0m \u001b[0;36m0\u001b[0m\u001b[0;34m:\u001b[0m\u001b[0;34m\u001b[0m\u001b[0;34m\u001b[0m\u001b[0m\n",
      "\u001b[0;32m<ipython-input-44-44e1cd20c98b>\u001b[0m in \u001b[0;36mlearning_by_gradient_descent\u001b[0;34m(y, tx, w, gamma)\u001b[0m\n\u001b[1;32m      5\u001b[0m     \"\"\"\n\u001b[1;32m      6\u001b[0m     \u001b[0mloss\u001b[0m \u001b[0;34m=\u001b[0m \u001b[0mcalculate_loss\u001b[0m\u001b[0;34m(\u001b[0m\u001b[0my\u001b[0m\u001b[0;34m,\u001b[0m \u001b[0mtx\u001b[0m\u001b[0;34m,\u001b[0m \u001b[0mw\u001b[0m\u001b[0;34m)\u001b[0m\u001b[0;34m\u001b[0m\u001b[0;34m\u001b[0m\u001b[0m\n\u001b[0;32m----> 7\u001b[0;31m     \u001b[0mgrad\u001b[0m \u001b[0;34m=\u001b[0m \u001b[0mcalculate_gradient\u001b[0m\u001b[0;34m(\u001b[0m\u001b[0my\u001b[0m\u001b[0;34m,\u001b[0m \u001b[0mtx\u001b[0m\u001b[0;34m,\u001b[0m \u001b[0mw\u001b[0m\u001b[0;34m)\u001b[0m\u001b[0;34m\u001b[0m\u001b[0;34m\u001b[0m\u001b[0m\n\u001b[0m\u001b[1;32m      8\u001b[0m     \u001b[0mw\u001b[0m \u001b[0;34m=\u001b[0m \u001b[0mw\u001b[0m \u001b[0;34m-\u001b[0m \u001b[0mgamma\u001b[0m \u001b[0;34m*\u001b[0m \u001b[0mgrad\u001b[0m\u001b[0;34m\u001b[0m\u001b[0;34m\u001b[0m\u001b[0m\n\u001b[1;32m      9\u001b[0m     \u001b[0;32mreturn\u001b[0m \u001b[0mloss\u001b[0m\u001b[0;34m,\u001b[0m \u001b[0mw\u001b[0m\u001b[0;34m\u001b[0m\u001b[0;34m\u001b[0m\u001b[0m\n",
      "\u001b[0;32m<ipython-input-43-a58f951d20ca>\u001b[0m in \u001b[0;36mcalculate_gradient\u001b[0;34m(y, tx, w)\u001b[0m\n\u001b[1;32m      1\u001b[0m \u001b[0;32mdef\u001b[0m \u001b[0mcalculate_gradient\u001b[0m\u001b[0;34m(\u001b[0m\u001b[0my\u001b[0m\u001b[0;34m,\u001b[0m \u001b[0mtx\u001b[0m\u001b[0;34m,\u001b[0m \u001b[0mw\u001b[0m\u001b[0;34m)\u001b[0m\u001b[0;34m:\u001b[0m\u001b[0;34m\u001b[0m\u001b[0;34m\u001b[0m\u001b[0m\n\u001b[1;32m      2\u001b[0m     \u001b[0;34m\"\"\"compute the gradient of loss.\"\"\"\u001b[0m\u001b[0;34m\u001b[0m\u001b[0;34m\u001b[0m\u001b[0m\n\u001b[0;32m----> 3\u001b[0;31m     \u001b[0;32mreturn\u001b[0m \u001b[0mtx\u001b[0m\u001b[0;34m.\u001b[0m\u001b[0mT\u001b[0m\u001b[0;34m.\u001b[0m\u001b[0mdot\u001b[0m\u001b[0;34m(\u001b[0m\u001b[0msigmoid\u001b[0m\u001b[0;34m(\u001b[0m\u001b[0mtx\u001b[0m\u001b[0;34m.\u001b[0m\u001b[0mdot\u001b[0m\u001b[0;34m(\u001b[0m\u001b[0mw\u001b[0m\u001b[0;34m)\u001b[0m\u001b[0;34m)\u001b[0m\u001b[0;34m-\u001b[0m\u001b[0my\u001b[0m\u001b[0;34m)\u001b[0m\u001b[0;34m\u001b[0m\u001b[0;34m\u001b[0m\u001b[0m\n\u001b[0m",
      "\u001b[0;31mMemoryError\u001b[0m: Unable to allocate array with shape (187500, 187500) and data type float64"
     ]
    }
   ],
   "source": [
    "def logistic_regression_gradient_descent(y, x):\n",
    "    # init parameters\n",
    "    max_iter = 10000\n",
    "    threshold = 1e-8\n",
    "    gamma = 0.01\n",
    "    losses = []\n",
    "\n",
    "    # build tx\n",
    "    tx = np.c_[np.ones((y.shape[0], 1)), x]\n",
    "    w = np.zeros((tx.shape[1], 1))\n",
    "\n",
    "    # start the logistic regression\n",
    "    for iter in range(max_iter):\n",
    "        # get loss and update w.\n",
    "        loss, w = learning_by_gradient_descent(y, tx, w, gamma)\n",
    "        # log info\n",
    "        if iter % 100 == 0:\n",
    "            print(\"Current iteration={i}, loss={l}\".format(i=iter, l=loss))\n",
    "        # converge criterion\n",
    "        losses.append(loss)\n",
    "        if len(losses) > 1 and np.abs(losses[-1] - losses[-2]) < threshold:\n",
    "            break\n",
    "    print(\"loss={l}\".format(l=calculate_loss(y, tx, w)))\n",
    "\n",
    "logistic_regression_gradient_descent(y_tr, x_tr)"
   ]
  },
  {
   "cell_type": "code",
   "execution_count": null,
   "metadata": {},
   "outputs": [],
   "source": []
  },
  {
   "cell_type": "markdown",
   "metadata": {},
   "source": [
    "Calculate your hessian below"
   ]
  },
  {
   "cell_type": "code",
   "execution_count": 16,
   "metadata": {},
   "outputs": [],
   "source": [
    "def calculate_hessian(y, tx, w):\n",
    "    \"\"\"return the hessian of the loss function.\"\"\"\n",
    "    N = tx.shape[0]\n",
    "    S = np.zeros((N,N))\n",
    "    for i in range(N):\n",
    "        sigma = sigmoid(tx[i,:].T.dot(w))\n",
    "        S[i,i] = sigma*(1-sigma)\n",
    "    return tx.T.dot(S).dot(tx)"
   ]
  },
  {
   "cell_type": "markdown",
   "metadata": {},
   "source": [
    "Write a function below to return loss, gradient, and hessian."
   ]
  },
  {
   "cell_type": "code",
   "execution_count": 17,
   "metadata": {},
   "outputs": [],
   "source": [
    "def logistic_regression(y, tx, w):\n",
    "    \"\"\"return the loss, gradient, and hessian.\"\"\"\n",
    "    return calculate_loss(y, tx, w), calculate_gradient(y, tx, w), calculate_hessian(y, tx, w)"
   ]
  },
  {
   "cell_type": "markdown",
   "metadata": {},
   "source": [
    "### Using Newton's method\n",
    "Use Newton's method for logistic regression."
   ]
  },
  {
   "cell_type": "code",
   "execution_count": 18,
   "metadata": {},
   "outputs": [],
   "source": [
    "def learning_by_newton_method(y, tx, w):\n",
    "    \"\"\"\n",
    "    Do one step on Newton's method.\n",
    "    return the loss and updated w.\n",
    "    \"\"\"\n",
    "    # mettiamo il gamma???????\n",
    "    gamma = 0.1\n",
    "    loss, gradient, hessian = logistic_regression(y, tx, w)\n",
    "    w = w - gamma * np.linalg.inv(hessian).dot(gradient)\n",
    "    return loss, w"
   ]
  },
  {
   "cell_type": "markdown",
   "metadata": {},
   "source": [
    "demo"
   ]
  },
  {
   "cell_type": "code",
   "execution_count": 19,
   "metadata": {
    "collapsed": false,
    "jupyter": {
     "outputs_hidden": false
    },
    "scrolled": true
   },
   "outputs": [
    {
     "name": "stdout",
     "output_type": "stream",
     "text": [
      "Current iteration=0, the loss=[[138.62943611]]\n",
      "Current iteration=1, the loss=[[126.31098317]]\n",
      "Current iteration=2, the loss=[[116.17884132]]\n",
      "Current iteration=3, the loss=[[107.6360377]]\n",
      "Current iteration=4, the loss=[[100.30205497]]\n",
      "Current iteration=5, the loss=[[93.92045949]]\n",
      "Current iteration=6, the loss=[[88.31062659]]\n",
      "Current iteration=7, the loss=[[83.34061998]]\n",
      "Current iteration=8, the loss=[[78.91107491]]\n",
      "Current iteration=9, the loss=[[74.94517505]]\n",
      "Current iteration=10, the loss=[[71.38217682]]\n",
      "Current iteration=11, the loss=[[68.17308538]]\n",
      "Current iteration=12, the loss=[[65.27768185]]\n",
      "Current iteration=13, the loss=[[62.66242564]]\n",
      "Current iteration=14, the loss=[[60.29893947]]\n",
      "Current iteration=15, the loss=[[58.16289282]]\n",
      "Current iteration=16, the loss=[[56.23316457]]\n",
      "Current iteration=17, the loss=[[54.49120613]]\n",
      "Current iteration=18, the loss=[[52.92055178]]\n",
      "Current iteration=19, the loss=[[51.50643913]]\n",
      "Current iteration=20, the loss=[[50.23551383]]\n",
      "Current iteration=21, the loss=[[49.09559917]]\n",
      "Current iteration=22, the loss=[[48.07551671]]\n",
      "Current iteration=23, the loss=[[47.16494693]]\n",
      "Current iteration=24, the loss=[[46.35432156]]\n",
      "Current iteration=25, the loss=[[45.63474094]]\n",
      "Current iteration=26, the loss=[[44.99791098]]\n",
      "Current iteration=27, the loss=[[44.43609533]]\n",
      "Current iteration=28, the loss=[[43.94207916]]\n",
      "Current iteration=29, the loss=[[43.50914159]]\n",
      "Current iteration=30, the loss=[[43.13103416]]\n",
      "Current iteration=31, the loss=[[42.80196345]]\n",
      "Current iteration=32, the loss=[[42.51657603]]\n",
      "Current iteration=33, the loss=[[42.26994451]]\n",
      "Current iteration=34, the loss=[[42.05755353]]\n",
      "Current iteration=35, the loss=[[41.87528517]]\n",
      "Current iteration=36, the loss=[[41.71940297]]\n",
      "Current iteration=37, the loss=[[41.58653462]]\n",
      "Current iteration=38, the loss=[[41.47365307]]\n",
      "Current iteration=39, the loss=[[41.37805622]]\n",
      "Current iteration=40, the loss=[[41.29734543]]\n",
      "Current iteration=41, the loss=[[41.22940327]]\n",
      "Current iteration=42, the loss=[[41.17237069]]\n",
      "Current iteration=43, the loss=[[41.12462421]]\n",
      "Current iteration=44, the loss=[[41.08475345]]\n",
      "Current iteration=45, the loss=[[41.0515392]]\n",
      "Current iteration=46, the loss=[[41.02393262]]\n",
      "Current iteration=47, the loss=[[41.00103553]]\n",
      "Current iteration=48, the loss=[[40.98208208]]\n",
      "Current iteration=49, the loss=[[40.96642196]]\n",
      "Current iteration=50, the loss=[[40.95350508]]\n",
      "Current iteration=51, the loss=[[40.94286778]]\n",
      "Current iteration=52, the loss=[[40.93412061]]\n",
      "Current iteration=53, the loss=[[40.92693742]]\n",
      "Current iteration=54, the loss=[[40.92104591]]\n",
      "Current iteration=55, the loss=[[40.91621932]]\n",
      "Current iteration=56, the loss=[[40.91226929]]\n",
      "Current iteration=57, the loss=[[40.90903974]]\n",
      "Current iteration=58, the loss=[[40.90640154]]\n",
      "Current iteration=59, the loss=[[40.90424815]]\n",
      "Current iteration=60, the loss=[[40.90249174]]\n",
      "Current iteration=61, the loss=[[40.90106008]]\n",
      "Current iteration=62, the loss=[[40.89989382]]\n",
      "Current iteration=63, the loss=[[40.89894429]]\n",
      "Current iteration=64, the loss=[[40.8981716]]\n",
      "Current iteration=65, the loss=[[40.89754308]]\n",
      "Current iteration=66, the loss=[[40.89703205]]\n",
      "Current iteration=67, the loss=[[40.89661671]]\n",
      "Current iteration=68, the loss=[[40.89627924]]\n",
      "Current iteration=69, the loss=[[40.89600512]]\n",
      "Current iteration=70, the loss=[[40.89578253]]\n",
      "Current iteration=71, the loss=[[40.89560183]]\n",
      "Current iteration=72, the loss=[[40.89545516]]\n",
      "Current iteration=73, the loss=[[40.89533614]]\n",
      "Current iteration=74, the loss=[[40.89523957]]\n",
      "Current iteration=75, the loss=[[40.89516124]]\n",
      "Current iteration=76, the loss=[[40.8950977]]\n",
      "Current iteration=77, the loss=[[40.89504617]]\n",
      "Current iteration=78, the loss=[[40.89500439]]\n",
      "Current iteration=79, the loss=[[40.89497051]]\n",
      "Current iteration=80, the loss=[[40.89494304]]\n",
      "Current iteration=81, the loss=[[40.89492078]]\n",
      "Current iteration=82, the loss=[[40.89490273]]\n",
      "Current iteration=83, the loss=[[40.8948881]]\n",
      "Current iteration=84, the loss=[[40.89487625]]\n",
      "Current iteration=85, the loss=[[40.89486664]]\n",
      "Current iteration=86, the loss=[[40.89485886]]\n",
      "Current iteration=87, the loss=[[40.89485255]]\n",
      "Current iteration=88, the loss=[[40.89484743]]\n",
      "Current iteration=89, the loss=[[40.89484329]]\n",
      "Current iteration=90, the loss=[[40.89483993]]\n",
      "Current iteration=91, the loss=[[40.89483721]]\n",
      "Current iteration=92, the loss=[[40.89483501]]\n",
      "Current iteration=93, the loss=[[40.89483323]]\n",
      "Current iteration=94, the loss=[[40.89483178]]\n",
      "Current iteration=95, the loss=[[40.89483061]]\n",
      "Current iteration=96, the loss=[[40.89482966]]\n",
      "Current iteration=97, the loss=[[40.89482889]]\n",
      "Current iteration=98, the loss=[[40.89482827]]\n",
      "Current iteration=99, the loss=[[40.89482776]]\n",
      "loss=[[40.89482735]]\n"
     ]
    },
    {
     "data": {
      "image/png": "[encoded data removed]",
      "text/plain": [
       "<Figure size 432x288 with 2 Axes>"
      ]
     },
     "metadata": {
      "needs_background": "light"
     },
     "output_type": "display_data"
    }
   ],
   "source": [
    "def logistic_regression_newton_method_demo(y, x):\n",
    "    # init parameters\n",
    "    max_iter = 100\n",
    "    threshold = 1e-8\n",
    "    lambda_ = 0.1\n",
    "    losses = []\n",
    "\n",
    "    # build tx\n",
    "    tx = np.c_[np.ones((y.shape[0], 1)), x]\n",
    "    w = np.zeros((tx.shape[1], 1))\n",
    "\n",
    "    # start the logistic regression\n",
    "    for iter in range(max_iter):\n",
    "        # get loss and update w.\n",
    "        loss, w = learning_by_newton_method(y, tx, w)\n",
    "        # log info\n",
    "        if iter % 1 == 0:\n",
    "            print(\"Current iteration={i}, the loss={l}\".format(i=iter, l=loss))\n",
    "        # converge criterion\n",
    "        losses.append(loss)\n",
    "        if len(losses) > 1 and np.abs(losses[-1] - losses[-2]) < threshold:\n",
    "            break\n",
    "    # visualization\n",
    "    visualization(y, x, mean_x, std_x, w, \"classification_by_logistic_regression_newton_method\")\n",
    "    print(\"loss={l}\".format(l=calculate_loss(y, tx, w)))\n",
    "\n",
    "logistic_regression_newton_method_demo(y, x)"
   ]
  },
  {
   "cell_type": "markdown",
   "metadata": {},
   "source": [
    "### Using penalized logistic regression\n",
    "Fill in the function below."
   ]
  },
  {
   "cell_type": "code",
   "execution_count": 38,
   "metadata": {},
   "outputs": [],
   "source": [
    "def penalized_logistic_regression(y, tx, w, lambda_):\n",
    "    \"\"\"return the loss, gradient, and hessian.\"\"\"\n",
    "    N = tx.shape[0]\n",
    "    D = tx.shape[1]\n",
    "    loss = calculate_loss(y, tx, w) + lambda_ / 2 * np.linalg.norm(w)\n",
    "    gradient = calculate_gradient(y, tx, w) + lambda_ * w\n",
    "    hessian = calculate_hessian(y, tx, w) + N * np.identity(D)\n",
    "    return loss, gradient, hessian"
   ]
  },
  {
   "cell_type": "code",
   "execution_count": 39,
   "metadata": {},
   "outputs": [],
   "source": [
    "def learning_by_penalized_gradient(y, tx, w, gamma, lambda_):\n",
    "    \"\"\"\n",
    "    Do one step of gradient descent, using the penalized logistic regression.\n",
    "    Return the loss and updated w.\n",
    "    \"\"\"\n",
    "    loss, gradient, hessian = penalized_logistic_regression(y, tx, w, lambda_)\n",
    "    w = w - gamma * gradient\n",
    "    return loss, w"
   ]
  },
  {
   "cell_type": "code",
   "execution_count": 41,
   "metadata": {
    "collapsed": false,
    "jupyter": {
     "outputs_hidden": false
    }
   },
   "outputs": [
    {
     "name": "stdout",
     "output_type": "stream",
     "text": [
      "Current iteration=0, loss=[[138.62943611]]\n",
      "Current iteration=100, loss=[[44.05317937]]\n",
      "Current iteration=200, loss=[[42.25140875]]\n",
      "Current iteration=300, loss=[[41.80558261]]\n",
      "Current iteration=400, loss=[[41.6525147]]\n",
      "Current iteration=500, loss=[[41.59047409]]\n",
      "Current iteration=600, loss=[[41.5630489]]\n",
      "Current iteration=700, loss=[[41.55037695]]\n",
      "Current iteration=800, loss=[[41.54439137]]\n",
      "Current iteration=900, loss=[[41.54153339]]\n",
      "Current iteration=1000, loss=[[41.54016158]]\n",
      "Current iteration=1100, loss=[[41.53950145]]\n",
      "Current iteration=1200, loss=[[41.53918339]]\n",
      "Current iteration=1300, loss=[[41.53903005]]\n",
      "Current iteration=1400, loss=[[41.53895611]]\n",
      "Current iteration=1500, loss=[[41.53892045]]\n",
      "Current iteration=1600, loss=[[41.53890325]]\n",
      "Current iteration=1700, loss=[[41.53889495]]\n",
      "Current iteration=1800, loss=[[41.53889095]]\n",
      "Current iteration=1900, loss=[[41.53888902]]\n",
      "loss=[[41.22247126]]\n"
     ]
    },
    {
     "data": {
      "image/png": "[encoded data removed]",
      "text/plain": [
       "<Figure size 432x288 with 2 Axes>"
      ]
     },
     "metadata": {
      "needs_background": "light"
     },
     "output_type": "display_data"
    }
   ],
   "source": [
    "def logistic_regression_penalized_gradient_descent_demo(y, x):\n",
    "    # init parameters\n",
    "    max_iter = 10000\n",
    "    gamma = 0.01\n",
    "    lambda_ = 0.1\n",
    "    threshold = 1e-8\n",
    "    losses = []\n",
    "\n",
    "    # build tx\n",
    "    tx = np.c_[np.ones((y.shape[0], 1)), x]\n",
    "    w = np.zeros((tx.shape[1], 1))\n",
    "\n",
    "    # start the logistic regression\n",
    "    for iter in range(max_iter):\n",
    "        # get loss and update w.\n",
    "        loss, w = learning_by_penalized_gradient(y, tx, w, gamma, lambda_)\n",
    "        # log info\n",
    "        if iter % 100 == 0:\n",
    "            print(\"Current iteration={i}, loss={l}\".format(i=iter, l=loss))\n",
    "        # converge criterion\n",
    "        losses.append(loss)\n",
    "        if len(losses) > 1 and np.abs(losses[-1] - losses[-2]) < threshold:\n",
    "            break\n",
    "    # visualization\n",
    "    visualization(y, x, mean_x, std_x, w, \"classification_by_logistic_regression_penalized_gradient_descent\")\n",
    "    print(\"loss={l}\".format(l=calculate_loss(y, tx, w)))\n",
    "    \n",
    "logistic_regression_penalized_gradient_descent_demo(y, x)"
   ]
  },
  {
   "cell_type": "code",
   "execution_count": null,
   "metadata": {},
   "outputs": [],
   "source": []
  },
  {
   "cell_type": "markdown",
   "metadata": {},
   "source": [
    "## Generate predictions and save ouput in csv format for submission:"
   ]
  },
  {
   "cell_type": "markdown",
   "metadata": {},
   "source": [
    "#### Use Accuracy and F1 Score on our classification:"
   ]
  },
  {
   "cell_type": "code",
   "execution_count": null,
   "metadata": {},
   "outputs": [],
   "source": [
    "from sklearn.metrics import f1_score, accuracy_score"
   ]
  },
  {
   "cell_type": "code",
   "execution_count": null,
   "metadata": {},
   "outputs": [],
   "source": [
    "y_pred_test = predict_labels(w_ls, x_te)\n",
    "acc = accuracy_score(y_te, y_pred_test)\n",
    "f1 = f1_score(y_te, y_pred_test)\n",
    "print(acc, f1)"
   ]
  },
  {
   "cell_type": "code",
   "execution_count": null,
   "metadata": {},
   "outputs": [],
   "source": [
    "DATA_TEST_PATH = '../data/test.csv'\n",
    "_, tX_test, ids_test = load_csv_data(DATA_TEST_PATH)"
   ]
  },
  {
   "cell_type": "code",
   "execution_count": null,
   "metadata": {},
   "outputs": [],
   "source": [
    "OUTPUT_PATH = '../data/submission.csv'\n",
    "tX_test_s, mean_tes, std_test = standardize(tX_test)\n",
    "y_pred = predict_labels(w, tX_test_s)\n",
    "create_csv_submission(ids_test, y_pred, OUTPUT_PATH)"
   ]
  },
  {
   "cell_type": "code",
   "execution_count": null,
   "metadata": {},
   "outputs": [],
   "source": [
    "#we will need something like this\n",
    "\n",
    "from sklearn.decomposition import PCA\n",
    "pca = PCA(n_components=2)\n",
    "principalComponents = pca.fit_transform(tX_test_s)\n",
    "plt.scatter(principalComponents[:,0], principalComponents[:,1])"
   ]
  }
 ],
 "metadata": {
  "anaconda-cloud": {},
  "kernelspec": {
   "display_name": "hw1_ADA",
   "language": "python",
   "name": "hw1_ada"
  },
  "language_info": {
   "codemirror_mode": {
    "name": "ipython",
    "version": 3
   },
   "file_extension": ".py",
   "mimetype": "text/x-python",
   "name": "python",
   "nbconvert_exporter": "python",
   "pygments_lexer": "ipython3",
   "version": "3.6.8"
  },
  "latex_envs": {
   "LaTeX_envs_menu_present": true,
   "autoclose": false,
   "autocomplete": true,
   "bibliofile": "biblio.bib",
   "cite_by": "apalike",
   "current_citInitial": 1,
   "eqLabelWithNumbers": true,
   "eqNumInitial": 1,
   "hotkeys": {
    "equation": "Ctrl-E",
    "itemize": "Ctrl-I"
   },
   "labels_anchors": false,
   "latex_user_defs": false,
   "report_style_numbering": false,
   "user_envs_cfg": false
  },
  "varInspector": {
   "cols": {
    "lenName": 16,
    "lenType": 16,
    "lenVar": 40
   },
   "kernels_config": {
    "python": {
     "delete_cmd_postfix": "",
     "delete_cmd_prefix": "del ",
     "library": "var_list.py",
     "varRefreshCmd": "print(var_dic_list())"
    },
    "r": {
     "delete_cmd_postfix": ") ",
     "delete_cmd_prefix": "rm(",
     "library": "var_list.r",
     "varRefreshCmd": "cat(var_dic_list()) "
    }
   },
   "types_to_exclude": [
    "module",
    "function",
    "builtin_function_or_method",
    "instance",
    "_Feature"
   ],
   "window_display": false
  }
 },
 "nbformat": 4,
 "nbformat_minor": 4
}
