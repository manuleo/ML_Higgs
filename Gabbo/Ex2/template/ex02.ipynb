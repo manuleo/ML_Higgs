{
 "cells": [
  {
   "cell_type": "code",
   "execution_count": 121,
   "metadata": {},
   "outputs": [
    {
     "name": "stdout",
     "output_type": "stream",
     "text": [
      "The autoreload extension is already loaded. To reload it, use:\n",
      "  %reload_ext autoreload\n"
     ]
    }
   ],
   "source": [
    "# Useful starting lines\n",
    "%matplotlib inline\n",
    "import numpy as np\n",
    "import matplotlib.pyplot as plt\n",
    "%load_ext autoreload\n",
    "%autoreload 2"
   ]
  },
  {
   "cell_type": "markdown",
   "metadata": {},
   "source": [
    "# Load the data"
   ]
  },
  {
   "cell_type": "code",
   "execution_count": 179,
   "metadata": {},
   "outputs": [],
   "source": [
    "import datetime\n",
    "from helpers import *\n",
    "\n",
    "height, weight, gender = load_data(sub_sample=False, add_outlier=False)\n",
    "x, mean_x, std_x = standardize(height)\n",
    "y, tx = build_model_data(x, weight)"
   ]
  },
  {
   "cell_type": "code",
   "execution_count": 123,
   "metadata": {},
   "outputs": [
    {
     "data": {
      "text/plain": [
       "((10000,), (10000, 2))"
      ]
     },
     "execution_count": 123,
     "metadata": {},
     "output_type": "execute_result"
    }
   ],
   "source": [
    "y.shape, tx.shape"
   ]
  },
  {
   "cell_type": "markdown",
   "metadata": {},
   "source": [
    "# 1 Computing the Cost Function"
   ]
  },
  {
   "cell_type": "markdown",
   "metadata": {},
   "source": [
    "Fill in the `compute_loss` function below:\n",
    "<a id='compute_loss'></a>\n"
   ]
  },
  {
   "cell_type": "code",
   "execution_count": 124,
   "metadata": {},
   "outputs": [],
   "source": [
    "def compute_loss(y, tx, w):\n",
    "    \"\"\"Calculate the loss.\n",
    "\n",
    "    You can calculate the loss using mse or mae.\n",
    "    \"\"\"\n",
    "    # ***************************************************\n",
    "    e = y - tx.dot(w)\n",
    "    N = e.shape[0]\n",
    "    loss = np.transpose(e).dot(e)/(2*N)\n",
    "    return loss\n",
    "    \n",
    "    # TODO: compute loss by MSE\n",
    "    # ***************************************************\n",
    "    raise NotImplementedError"
   ]
  },
  {
   "cell_type": "markdown",
   "metadata": {},
   "source": [
    "let's try out this function"
   ]
  },
  {
   "cell_type": "code",
   "execution_count": 125,
   "metadata": {},
   "outputs": [
    {
     "data": {
      "text/plain": [
       "2694.483365887084"
      ]
     },
     "execution_count": 125,
     "metadata": {},
     "output_type": "execute_result"
    }
   ],
   "source": [
    "w = np.array([1,2])\n",
    "compute_loss(y,tx,w)"
   ]
  },
  {
   "cell_type": "markdown",
   "metadata": {},
   "source": [
    "# 2 Grid Search\n",
    "\n",
    "Fill in the function `grid_search()` below:"
   ]
  },
  {
   "cell_type": "code",
   "execution_count": 126,
   "metadata": {},
   "outputs": [],
   "source": [
    "def grid_search(y, tx, w0, w1):\n",
    "    \"\"\"Algorithm for grid search.\"\"\"\n",
    "    losses = np.zeros((len(w0), len(w1)))\n",
    "    # ***************************************************\n",
    "    for i in range(len(w0)):\n",
    "        for j in range(len(w1)):\n",
    "            w = np.array([w0[i],w1[j]])\n",
    "            losses[i,j] = compute_loss(y, tx, w)\n",
    "    # TODO: compute loss for each combination of w0 and w1.\n",
    "    # ***************************************************\n",
    "    return losses\n",
    "    raise NotImplementedError\n",
    "    "
   ]
  },
  {
   "cell_type": "code",
   "execution_count": 127,
   "metadata": {},
   "outputs": [
    {
     "data": {
      "text/plain": [
       "array([[2673.52394102, 2664.54422858, 2656.56451615, 2649.58480371],\n",
       "       [2601.73001902, 2592.75030658, 2584.77059415, 2577.79088171],\n",
       "       [2530.93609701, 2521.95638458, 2513.97667214, 2506.99695971],\n",
       "       [2461.14217501, 2452.16246258, 2444.18275014, 2437.20303771]])"
      ]
     },
     "execution_count": 127,
     "metadata": {},
     "output_type": "execute_result"
    }
   ],
   "source": [
    "w0 = [1,2,3,4]\n",
    "w1 = [4,5,6,7]\n",
    "grid_search(y, tx, w0, w1)"
   ]
  },
  {
   "cell_type": "code",
   "execution_count": 128,
   "metadata": {},
   "outputs": [
    {
     "data": {
      "text/plain": [
       "(array([-100.        ,  -66.66666667,  -33.33333333,    0.        ,\n",
       "          33.33333333,   66.66666667,  100.        ,  133.33333333,\n",
       "         166.66666667,  200.        ]),\n",
       " array([-150.        , -116.66666667,  -83.33333333,  -50.        ,\n",
       "         -16.66666667,   16.66666667,   50.        ,   83.33333333,\n",
       "         116.66666667,  150.        ]))"
      ]
     },
     "execution_count": 128,
     "metadata": {},
     "output_type": "execute_result"
    }
   ],
   "source": [
    "generate_w(num_intervals=10)"
   ]
  },
  {
   "cell_type": "markdown",
   "metadata": {},
   "source": [
    "Let us play with the grid search demo now!"
   ]
  },
  {
   "cell_type": "code",
   "execution_count": 129,
   "metadata": {},
   "outputs": [
    {
     "name": "stdout",
     "output_type": "stream",
     "text": [
      "Grid Search: loss*=15.558703368609532, w0*=72.72727272727272, w1*=13.636363636363626, execution time=0.473 seconds\n"
     ]
    },
    {
     "data": {
      "image/png": "[encoded data removed]",
      "text/plain": [
       "<Figure size 720x432 with 3 Axes>"
      ]
     },
     "metadata": {
      "needs_background": "light"
     },
     "output_type": "display_data"
    }
   ],
   "source": [
    "from grid_search import generate_w, get_best_parameters\n",
    "from plots import grid_visualization\n",
    "\n",
    "# Generate the grid of parameters to be swept\n",
    "grid_w0, grid_w1 = generate_w(num_intervals=100)\n",
    "\n",
    "# Start the grid search\n",
    "start_time = datetime.datetime.now()\n",
    "grid_losses = grid_search(y, tx, grid_w0, grid_w1)\n",
    "\n",
    "# Select the best combinaison\n",
    "loss_star, w0_star, w1_star = get_best_parameters(grid_w0, grid_w1, grid_losses)\n",
    "end_time = datetime.datetime.now()\n",
    "execution_time = (end_time - start_time).total_seconds()\n",
    "\n",
    "# Print the results\n",
    "print(\"Grid Search: loss*={l}, w0*={w0}, w1*={w1}, execution time={t:.3f} seconds\".format(\n",
    "      l=loss_star, w0=w0_star, w1=w1_star, t=execution_time))\n",
    "\n",
    "# Plot the results\n",
    "fig = grid_visualization(grid_losses, grid_w0, grid_w1, mean_x, std_x, height, weight)\n",
    "fig.set_size_inches(10.0,6.0)\n",
    "fig.savefig(\"grid_plot\")  # Optional saving"
   ]
  },
  {
   "cell_type": "markdown",
   "metadata": {},
   "source": [
    "# 3 Gradient Descent"
   ]
  },
  {
   "cell_type": "markdown",
   "metadata": {},
   "source": [
    "Again, please fill in the functions `compute_gradient` below:"
   ]
  },
  {
   "cell_type": "code",
   "execution_count": 130,
   "metadata": {},
   "outputs": [],
   "source": [
    "def compute_gradient(y, tx, w):\n",
    "    \"\"\"Compute the gradient.\"\"\"\n",
    "    # ***************************************************\n",
    "    e = y - tx.dot(w)\n",
    "    N = e.shape[0]\n",
    "    gradient = - 1/N * np.transpose(tx).dot(e)\n",
    "    return gradient\n",
    "    \n",
    "    # TODO: compute gradient and error vector\n",
    "    # ***************************************************\n",
    "    raise NotImplementedError"
   ]
  },
  {
   "cell_type": "code",
   "execution_count": 131,
   "metadata": {},
   "outputs": [
    {
     "data": {
      "text/plain": [
       "10000"
      ]
     },
     "execution_count": 131,
     "metadata": {},
     "output_type": "execute_result"
    }
   ],
   "source": [
    "(y-tx.dot(w)).shape[0]"
   ]
  },
  {
   "cell_type": "code",
   "execution_count": 132,
   "metadata": {},
   "outputs": [
    {
     "data": {
      "text/plain": [
       "array([26.706078  ,  6.52028757])"
      ]
     },
     "execution_count": 132,
     "metadata": {},
     "output_type": "execute_result"
    }
   ],
   "source": [
    "w = np.array([100,20])\n",
    "compute_gradient(y, tx, w)"
   ]
  },
  {
   "cell_type": "code",
   "execution_count": 133,
   "metadata": {},
   "outputs": [
    {
     "data": {
      "text/plain": [
       "array([-23.293922  ,  -3.47971243])"
      ]
     },
     "execution_count": 133,
     "metadata": {},
     "output_type": "execute_result"
    }
   ],
   "source": [
    "w = np.array([50,10])\n",
    "compute_gradient(y, tx, w)"
   ]
  },
  {
   "cell_type": "markdown",
   "metadata": {},
   "source": [
    "Please fill in the functions `gradient_descent` below:"
   ]
  },
  {
   "cell_type": "code",
   "execution_count": 134,
   "metadata": {},
   "outputs": [],
   "source": [
    "def gradient_descent(y, tx, initial_w, max_iters, gamma):\n",
    "    \"\"\"Gradient descent algorithm.\"\"\"\n",
    "    # Define parameters to store w and loss\n",
    "    ws = [initial_w]\n",
    "    losses = []\n",
    "    w = initial_w\n",
    "    for n_iter in range(max_iters):\n",
    "        # ***************************************************\n",
    "        gradient = compute_gradient(y, tx, w)\n",
    "        loss = compute_loss(y, tx, w)\n",
    "        # TODO: compute gradient and loss\n",
    "        # ***************************************************\n",
    "        \n",
    "        # ***************************************************\n",
    "        w = w - gamma*gradient\n",
    "        # TODO: update w by gradient\n",
    "        # ***************************************************\n",
    "        \n",
    "        # store w and loss\n",
    "        ws.append(w)\n",
    "        losses.append(loss)\n",
    "        print(\"Gradient Descent({bi}/{ti}): loss={l}, w0={w0}, w1={w1}\".format(\n",
    "              bi=n_iter, ti=max_iters - 1, l=loss, w0=w[0], w1=w[1]))\n",
    "\n",
    "    return losses, ws"
   ]
  },
  {
   "cell_type": "markdown",
   "metadata": {},
   "source": [
    "Test your gradient descent function through gradient descent demo shown below:"
   ]
  },
  {
   "cell_type": "code",
   "execution_count": 258,
   "metadata": {},
   "outputs": [
    {
     "name": "stdout",
     "output_type": "stream",
     "text": [
      "Gradient Descent(0/49): loss=3490.378808430329, w0=31.646961001052652, w1=11.73985621749453\n",
      "Gradient Descent(1/49): loss=884.1341180092018, w0=52.470441501578904, w1=12.609784326241757\n",
      "Gradient Descent(2/49): loss=232.57294540392292, w0=62.88218175184207, w1=13.04474838061537\n",
      "Gradient Descent(3/49): loss=69.68265225260257, w0=68.08805187697364, w1=13.2622304078022\n",
      "Gradient Descent(4/49): loss=28.960078964772656, w0=70.69098693953943, w1=13.370971421395623\n",
      "Gradient Descent(5/49): loss=18.779435642815177, w0=71.99245447082231, w1=13.425341928192337\n",
      "Gradient Descent(6/49): loss=16.23427481232584, w0=72.64318823646374, w1=13.45252718159069\n",
      "Gradient Descent(7/49): loss=15.597984604703516, w0=72.96855511928447, w1=13.46611980828987\n",
      "Gradient Descent(8/49): loss=15.438912052797928, w0=73.13123856069483, w1=13.472916121639459\n",
      "Gradient Descent(9/49): loss=15.399143914821531, w0=73.21258028140001, w1=13.476314278314254\n",
      "Gradient Descent(10/49): loss=15.389201880327434, w0=73.2532511417526, w1=13.478013356651651\n",
      "Gradient Descent(11/49): loss=15.386716371703908, w0=73.2735865719289, w1=13.47886289582035\n",
      "Gradient Descent(12/49): loss=15.386094994548028, w0=73.28375428701705, w1=13.4792876654047\n",
      "Gradient Descent(13/49): loss=15.385939650259056, w0=73.28883814456113, w1=13.479500050196874\n",
      "Gradient Descent(14/49): loss=15.385900814186817, w0=73.29138007333316, w1=13.479606242592961\n",
      "Gradient Descent(15/49): loss=15.385891105168755, w0=73.29265103771918, w1=13.479659338791004\n",
      "Gradient Descent(16/49): loss=15.385888677914236, w0=73.29328651991219, w1=13.479685886890026\n",
      "Gradient Descent(17/49): loss=15.385888071100611, w0=73.29360426100868, w1=13.479699160939537\n",
      "Gradient Descent(18/49): loss=15.3858879193972, w0=73.29376313155693, w1=13.479705797964293\n",
      "Gradient Descent(19/49): loss=15.385887881471351, w0=73.29384256683106, w1=13.479709116476672\n",
      "Gradient Descent(20/49): loss=15.385887871989887, w0=73.29388228446813, w1=13.47971077573286\n",
      "Gradient Descent(21/49): loss=15.385887869619523, w0=73.29390214328666, w1=13.479711605360954\n",
      "Gradient Descent(22/49): loss=15.385887869026929, w0=73.29391207269592, w1=13.479712020175002\n",
      "Gradient Descent(23/49): loss=15.385887868878786, w0=73.29391703740056, w1=13.479712227582025\n",
      "Gradient Descent(24/49): loss=15.385887868841746, w0=73.29391951975288, w1=13.479712331285537\n",
      "Gradient Descent(25/49): loss=15.385887868832489, w0=73.29392076092903, w1=13.479712383137294\n",
      "Gradient Descent(26/49): loss=15.38588786883017, w0=73.29392138151711, w1=13.479712409063172\n",
      "Gradient Descent(27/49): loss=15.385887868829592, w0=73.29392169181115, w1=13.479712422026111\n",
      "Gradient Descent(28/49): loss=15.38588786882945, w0=73.29392184695817, w1=13.47971242850758\n",
      "Gradient Descent(29/49): loss=15.385887868829409, w0=73.29392192453167, w1=13.479712431748315\n",
      "Gradient Descent(30/49): loss=15.385887868829403, w0=73.29392196331843, w1=13.479712433368682\n",
      "Gradient Descent(31/49): loss=15.3858878688294, w0=73.29392198271181, w1=13.479712434178866\n",
      "Gradient Descent(32/49): loss=15.3858878688294, w0=73.2939219924085, w1=13.479712434583957\n",
      "Gradient Descent(33/49): loss=15.385887868829398, w0=73.29392199725685, w1=13.479712434786503\n",
      "Gradient Descent(34/49): loss=15.3858878688294, w0=73.29392199968102, w1=13.479712434887777\n",
      "Gradient Descent(35/49): loss=15.385887868829403, w0=73.2939220008931, w1=13.479712434938413\n",
      "Gradient Descent(36/49): loss=15.385887868829398, w0=73.29392200149914, w1=13.479712434963732\n",
      "Gradient Descent(37/49): loss=15.3858878688294, w0=73.29392200180216, w1=13.47971243497639\n",
      "Gradient Descent(38/49): loss=15.3858878688294, w0=73.29392200195367, w1=13.47971243498272\n",
      "Gradient Descent(39/49): loss=15.385887868829398, w0=73.29392200202943, w1=13.479712434985885\n",
      "Gradient Descent(40/49): loss=15.385887868829403, w0=73.2939220020673, w1=13.479712434987468\n",
      "Gradient Descent(41/49): loss=15.385887868829403, w0=73.29392200208625, w1=13.479712434988258\n",
      "Gradient Descent(42/49): loss=15.385887868829398, w0=73.29392200209573, w1=13.479712434988654\n",
      "Gradient Descent(43/49): loss=15.385887868829398, w0=73.29392200210046, w1=13.479712434988851\n",
      "Gradient Descent(44/49): loss=15.385887868829398, w0=73.29392200210282, w1=13.479712434988949\n",
      "Gradient Descent(45/49): loss=15.3858878688294, w0=73.293922002104, w1=13.479712434988999\n",
      "Gradient Descent(46/49): loss=15.385887868829398, w0=73.2939220021046, w1=13.479712434989024\n",
      "Gradient Descent(47/49): loss=15.3858878688294, w0=73.29392200210489, w1=13.479712434989036\n",
      "Gradient Descent(48/49): loss=15.385887868829398, w0=73.29392200210505, w1=13.479712434989043\n",
      "Gradient Descent(49/49): loss=15.3858878688294, w0=73.29392200210512, w1=13.479712434989045\n",
      "Gradient Descent: execution time=0.050 seconds\n"
     ]
    }
   ],
   "source": [
    "# from gradient_descent import *\n",
    "from plots import gradient_descent_visualization\n",
    "\n",
    "# Define the parameters of the algorithm.\n",
    "max_iters = 50\n",
    "gamma = 0.5\n",
    "\n",
    "# Initialization\n",
    "w_initial = np.array([-10, 10])\n",
    "\n",
    "# Start gradient descent.\n",
    "start_time = datetime.datetime.now()\n",
    "gradient_losses, gradient_ws = gradient_descent(y, tx, w_initial, max_iters, gamma)\n",
    "end_time = datetime.datetime.now()\n",
    "\n",
    "# Print result\n",
    "exection_time = (end_time - start_time).total_seconds()\n",
    "print(\"Gradient Descent: execution time={t:.3f} seconds\".format(t=exection_time))"
   ]
  },
  {
   "cell_type": "code",
   "execution_count": 259,
   "metadata": {},
   "outputs": [
    {
     "data": {
      "application/vnd.jupyter.widget-view+json": {
       "model_id": "dfc38ea28be541c490bc13f9ff7b0619",
       "version_major": 2,
       "version_minor": 0
      },
      "text/plain": [
       "interactive(children=(IntSlider(value=1, description='n_iter', max=51, min=1), Output()), _dom_classes=('widge…"
      ]
     },
     "metadata": {},
     "output_type": "display_data"
    },
    {
     "data": {
      "text/plain": [
       "<function __main__.plot_figure(n_iter)>"
      ]
     },
     "execution_count": 259,
     "metadata": {},
     "output_type": "execute_result"
    }
   ],
   "source": [
    "# Time Visualization\n",
    "from ipywidgets import IntSlider, interact\n",
    "\n",
    "def plot_figure(n_iter):\n",
    "    fig = gradient_descent_visualization(\n",
    "        gradient_losses, gradient_ws, grid_losses, grid_w0, grid_w1, mean_x, std_x, height, weight, n_iter)\n",
    "    fig.set_size_inches(10.0, 6.0)\n",
    "\n",
    "interact(plot_figure, n_iter=IntSlider(min=1, max=len(gradient_ws)))"
   ]
  },
  {
   "cell_type": "markdown",
   "metadata": {},
   "source": [
    "# 4 Stochastic gradient descent"
   ]
  },
  {
   "cell_type": "code",
   "execution_count": 288,
   "metadata": {},
   "outputs": [],
   "source": [
    "def compute_stoch_gradient(y, tx, w):\n",
    "    \"\"\"Compute a stochastic gradient from just few examples n and their corresponding y_n labels.\"\"\"\n",
    "    # ***************************************************\n",
    "    e = y - tx.dot(w)\n",
    "    B = e.shape[0]\n",
    "    gradient = - 1/B * np.transpose(tx).dot(e)\n",
    "    return gradient\n",
    "\n",
    "    # TODO: implement stochastic gradient computation.It's same as the gradient descent.\n",
    "    # ***************************************************\n",
    "    \n",
    "\n",
    "\n",
    "def stochastic_gradient_descent(\n",
    "        y, tx, initial_w, batch_size, max_iters, gamma):\n",
    "    \"\"\"Stochastic gradient descent algorithm.\"\"\"\n",
    "    # Define parameters to store w and loss\n",
    "    \n",
    "    ws = [initial_w]\n",
    "    losses = []\n",
    "    w = initial_w\n",
    "    for n_iter in range(max_iters):\n",
    "        # ***************************************************\n",
    "        for y_batch,tx_batch in batch_iter(y, tx, batch_size=5, num_batches=2):\n",
    "            gradient = compute_gradient(y_batch, tx_batch, w)\n",
    "            loss = compute_loss(y_batch, tx_batch, w)\n",
    "            # TODO: compute gradient and loss\n",
    "            # ***************************************************\n",
    "\n",
    "            # ***************************************************\n",
    "            w = w - gamma*gradient\n",
    "            # TODO: update w by gradient\n",
    "            # ***************************************************\n",
    "\n",
    "            # store w and loss\n",
    "            ws.append(w)\n",
    "            losses.append(loss)\n",
    "            print(\"Gradient Descent({bi}/{ti}): loss={l}, w0={w0}, w1={w1}\".format(\n",
    "                  bi=n_iter, ti=max_iters - 1, l=loss, w0=w[0], w1=w[1]))\n",
    "    print(ws)\n",
    "    return losses, ws"
   ]
  },
  {
   "cell_type": "code",
   "execution_count": 278,
   "metadata": {},
   "outputs": [
    {
     "data": {
      "text/plain": [
       "10000"
      ]
     },
     "execution_count": 278,
     "metadata": {},
     "output_type": "execute_result"
    }
   ],
   "source": [
    "len(y)"
   ]
  },
  {
   "cell_type": "code",
   "execution_count": 279,
   "metadata": {},
   "outputs": [
    {
     "name": "stdout",
     "output_type": "stream",
     "text": [
      "[71.22840204 76.93452487 75.47839227 57.87144722 64.34799681]\n",
      "[[ 1.         -0.02749046]\n",
      " [ 1.          0.38261035]\n",
      " [ 1.          0.09565892]\n",
      " [ 1.         -1.15140596]\n",
      " [ 1.         -0.4871744 ]]\n",
      "[71.81982452 96.4493536  95.66821814 84.23232615 78.47262193]\n",
      "[[ 1.         -0.13497999]\n",
      " [ 1.          1.34515124]\n",
      " [ 1.          1.57629115]\n",
      " [ 1.          0.44349895]\n",
      " [ 1.          0.59947977]]\n",
      "[58.17453456 94.65631267 84.19196884 76.50841742 53.96258673]\n",
      "[[ 1.         -1.23630715]\n",
      " [ 1.          1.26591719]\n",
      " [ 1.          1.10434945]\n",
      " [ 1.          0.26686557]\n",
      " [ 1.         -1.77230832]]\n",
      "[65.77276701 65.2035212  73.94409387 60.94720048 54.85222101]\n",
      "[[ 1.         -0.76679551]\n",
      " [ 1.         -0.51336317]\n",
      " [ 1.          0.13509705]\n",
      " [ 1.          0.01333538]\n",
      " [ 1.         -1.82787579]]\n",
      "[77.03256817 58.4560835  54.97696252 70.92567714 89.61445458]\n",
      "[[ 1.         -0.16674596]\n",
      " [ 1.         -1.21134173]\n",
      " [ 1.         -0.39764395]\n",
      " [ 1.         -0.16593246]\n",
      " [ 1.          1.1610616 ]]\n",
      "[76.75902193 80.10716695 66.29457595 76.06974125 66.09161676]\n",
      "[[ 1.         -0.67089487]\n",
      " [ 1.          0.21012271]\n",
      " [ 1.          0.26148922]\n",
      " [ 1.          0.283202  ]\n",
      " [ 1.         -0.16110585]]\n",
      "[40.76465929 48.00560459 83.81700462 80.46508216 91.68443072]\n",
      "[[ 1.         -2.23602837]\n",
      " [ 1.         -2.21719428]\n",
      " [ 1.          0.86402215]\n",
      " [ 1.          0.66157214]\n",
      " [ 1.          0.9325652 ]]\n",
      "[93.33117898 78.43662574 54.91236374 71.65646957 78.59457891]\n",
      "[[ 1.          1.79062119]\n",
      " [ 1.          0.75503361]\n",
      " [ 1.         -1.47845242]\n",
      " [ 1.          0.41859099]\n",
      " [ 1.          0.60292956]]\n",
      "[53.56635666 92.22363484 68.26585402 67.60708666 90.7975584 ]\n",
      "[[ 1.         -1.37321852]\n",
      " [ 1.          0.23807324]\n",
      " [ 1.         -0.21910821]\n",
      " [ 1.         -1.01128607]\n",
      " [ 1.          0.65184435]]\n",
      "[89.55893618 80.4971395  64.3634673  95.35893324 83.71015586]\n",
      "[[ 1.          0.92408114]\n",
      " [ 1.          0.22310766]\n",
      " [ 1.         -0.8392036 ]\n",
      " [ 1.          2.06697077]\n",
      " [ 1.          1.11424615]]\n"
     ]
    }
   ],
   "source": [
    "for y_batch,tx_batch in batch_iter(y, tx, batch_size=5, num_batches=10):\n",
    "    print(y_batch)\n",
    "    print(tx_batch)"
   ]
  },
  {
   "cell_type": "code",
   "execution_count": 280,
   "metadata": {},
   "outputs": [
    {
     "name": "stdout",
     "output_type": "stream",
     "text": [
      "g [-71.98974013   4.61638222]\n",
      "w [35.99487006 -2.30819111]\n",
      "g [-40.80066373 -37.6588264 ]\n",
      "w [56.39520193 16.52122209]\n",
      "g [-18.68983267   6.65377451]\n",
      "w [65.74011827 13.19433484]\n",
      "g [-8.66462042 -2.75879199]\n",
      "w [70.07242847 14.57373083]\n",
      "g [-4.43737545 -0.5745422 ]\n",
      "w [72.2911162  14.86100193]\n",
      "g [-3.22883626  1.53795754]\n",
      "w [73.90553433 14.09202316]\n",
      "g [-2.4134124  -0.22627082]\n",
      "w [75.11224053 14.20515857]\n",
      "g [ 0.63743172 -0.17283686]\n",
      "w [74.79352467 14.291577  ]\n",
      "g [ 0.97033471 -2.65016217]\n",
      "w [74.30835732 15.61665809]\n",
      "g [-0.62104775  6.82996964]\n",
      "w [74.61888119 12.20167327]\n",
      "g [-1.54722816 -3.19241703]\n",
      "w [75.39249527 13.79788178]\n",
      "g [ 3.28303642 -0.78344861]\n",
      "w [73.75097706 14.18960609]\n",
      "g [0.88683789 0.59455039]\n",
      "w [73.30755811 13.89233089]\n",
      "g [-0.87524125  0.51606745]\n",
      "w [73.74517874 13.63429717]\n",
      "g [ 0.3010836  -1.41499845]\n",
      "w [73.59463694 14.34179639]\n",
      "g [ 2.68077135 -1.88948413]\n",
      "w [72.25425126 15.28653846]\n",
      "g [-0.44740521 -0.32056606]\n",
      "w [72.47795387 15.44682149]\n",
      "g [-1.54908034  0.59058132]\n",
      "w [73.25249404 15.15153083]\n",
      "g [-0.47985954  2.66769137]\n",
      "w [73.49242381 13.81768515]\n",
      "g [1.59555239 3.43258896]\n",
      "w [72.69464761 12.10139067]\n",
      "g [-2.83195002 -2.69154221]\n",
      "w [74.11062262 13.44716178]\n",
      "g [-0.27244062 -0.58781838]\n",
      "w [74.24684293 13.74107096]\n",
      "g [3.70994318 0.68137447]\n",
      "w [72.39187134 13.40038373]\n",
      "g [-1.68995118 -3.37020828]\n",
      "w [73.23684693 15.08548787]\n",
      "g [0.29875955 1.02794538]\n",
      "w [73.08746716 14.57151518]\n",
      "g [-2.22362966  6.7617946 ]\n",
      "w [74.19928199 11.19061788]\n",
      "g [-1.97050624 -3.19625382]\n",
      "w [75.1845351  12.78874479]\n",
      "g [2.08814708 1.99742463]\n",
      "w [74.14046156 11.79003247]\n",
      "g [ 3.757976  -4.1684492]\n",
      "w [72.26147356 13.87425707]\n",
      "g [-1.58202088 -3.08327039]\n",
      "w [73.052484   15.41589227]\n",
      "g [3.50591506 3.29954835]\n",
      "w [71.29952647 13.7661181 ]\n",
      "g [ 0.51862954 -0.27405784]\n",
      "w [71.0402117  13.90314702]\n",
      "g [ 0.8733611  -0.33069144]\n",
      "w [70.60353116 14.06849273]\n",
      "g [-3.82434015  1.95919894]\n",
      "w [72.51570123 13.08889326]\n",
      "g [-0.51515821  0.311562  ]\n",
      "w [72.77328034 12.93311226]\n",
      "g [-3.19980844  0.73111903]\n",
      "w [74.37318456 12.56755275]\n",
      "g [ 1.33700665 -2.64429425]\n",
      "w [73.70468123 13.88969987]\n",
      "g [ 2.17443932 -0.79674688]\n",
      "w [72.61746157 14.28807331]\n",
      "g [1.22993703 1.07430423]\n",
      "w [72.00249305 13.7509212 ]\n",
      "g [-3.11266305  4.06087278]\n",
      "w [73.55882458 11.72048481]\n",
      "g [ 2.16031961 -1.64306976]\n",
      "w [72.47866477 12.54201969]\n",
      "g [-0.99719234 -1.21868691]\n",
      "w [72.97726094 13.15136314]\n",
      "g [ 1.12829911 -0.29993053]\n",
      "w [72.41311138 13.30132841]\n",
      "g [0.09467221 0.42718586]\n",
      "w [72.36577528 13.08773548]\n",
      "g [0.66395911 0.23558655]\n",
      "w [72.03379572 12.96994221]\n",
      "g [ 0.365243   -0.95306637]\n",
      "w [71.85117422 13.44647539]\n",
      "g [-4.00242181  0.83433405]\n",
      "w [73.85238513 13.02930837]\n",
      "g [ 2.764615   -1.46565965]\n",
      "w [72.47007763 13.7621382 ]\n",
      "g [ 0.01593205 -1.48178905]\n",
      "w [72.4621116  14.50303272]\n",
      "g [-0.10790209 -1.10528119]\n",
      "w [72.51606265 15.05567331]\n"
     ]
    }
   ],
   "source": [
    "w_initial = np.array([0, 0])\n",
    "w = w_initial\n",
    "for n_iter in range(max_iters):\n",
    "    # ***************************************************\n",
    "    for y_batch,tx_batch in batch_iter(y, tx, batch_size=10, num_batches=1):\n",
    "        gradient = compute_gradient(y_batch, tx_batch, w)\n",
    "        loss = compute_loss(y_batch, tx_batch, w)\n",
    "        w = w - gamma*gradient\n",
    "        print('g',gradient)\n",
    "        print('w',w)"
   ]
  },
  {
   "cell_type": "code",
   "execution_count": 289,
   "metadata": {},
   "outputs": [
    {
     "name": "stdout",
     "output_type": "stream",
     "text": [
      "Gradient Descent(0/49): loss=2649.9492343943957, w0=14.393599620345766, w1=-2.7000527487435493\n",
      "Gradient Descent(0/49): loss=1440.899336991983, w0=24.56445827067376, w1=-3.778356007617905\n",
      "Gradient Descent(1/49): loss=1451.4146262208365, w0=35.053676597685445, w1=-1.023860812307389\n",
      "Gradient Descent(1/49): loss=694.8697506879113, w0=41.97238184849525, w1=0.5720912602468156\n",
      "Gradient Descent(2/49): loss=492.2721683748717, w0=47.36548573414329, w1=1.3488600090812342\n",
      "Gradient Descent(2/49): loss=349.41585176882757, w0=52.312237524452584, w1=1.7871120855383178\n",
      "Gradient Descent(3/49): loss=159.43786325558906, w0=55.066035035219535, w1=3.3335498923285574\n",
      "Gradient Descent(3/49): loss=215.52475138658093, w0=58.859802852669105, w1=5.882127802445639\n",
      "Gradient Descent(4/49): loss=104.56546886068618, w0=61.30954355362307, w1=6.531808214095406\n",
      "Gradient Descent(4/49): loss=28.23845012401106, w0=61.864543257142195, w1=7.954921301867967\n",
      "Gradient Descent(5/49): loss=29.472624453229468, w0=63.14662526249556, w1=7.730178470544449\n",
      "Gradient Descent(5/49): loss=41.85701397903225, w0=64.42783783622669, w1=8.549082241562237\n",
      "Gradient Descent(6/49): loss=100.67539107897407, w0=66.93144223900136, w1=10.834378920364532\n",
      "Gradient Descent(6/49): loss=22.625406765706998, w0=67.5028447054635, w1=11.202559069612333\n",
      "Gradient Descent(7/49): loss=17.325450942145913, w0=68.4564064941572, w1=11.586829966184865\n",
      "Gradient Descent(7/49): loss=33.03903615919104, w0=69.52949606119145, w1=10.529405809716263\n",
      "Gradient Descent(8/49): loss=14.837871914631478, w0=70.22679848250462, w1=11.37978475943564\n",
      "Gradient Descent(8/49): loss=31.23151999427476, w0=70.96667335834634, w1=12.884649362754313\n",
      "Gradient Descent(9/49): loss=44.31187979864767, w0=70.63739487816774, w1=13.585571839930182\n",
      "Gradient Descent(9/49): loss=20.784090634495044, w0=69.88202180471016, w1=14.281609079479198\n",
      "Gradient Descent(10/49): loss=45.39937466238324, w0=71.29506980781453, w1=14.052726344596111\n",
      "Gradient Descent(10/49): loss=15.903517034223455, w0=71.42012334931833, w1=14.127155522744992\n",
      "Gradient Descent(11/49): loss=11.124859325244884, w0=72.22086272772725, w1=13.96179139487008\n",
      "Gradient Descent(11/49): loss=9.238654839128614, w0=72.79431708562147, w1=13.10084275308149\n",
      "Gradient Descent(12/49): loss=7.90112376342536, w0=72.9125362422239, w1=12.88249361003885\n",
      "Gradient Descent(12/49): loss=22.5368547317997, w0=72.49629641652128, w1=12.577860537432317\n",
      "Gradient Descent(13/49): loss=8.613848955573548, w0=72.67732114084446, w1=12.891069274503383\n",
      "Gradient Descent(13/49): loss=11.926285073382891, w0=72.40412731042623, w1=13.550824985698194\n",
      "Gradient Descent(14/49): loss=7.010724518247545, w0=72.47037277714745, w1=13.371468867248662\n",
      "Gradient Descent(14/49): loss=6.047842998188596, w0=72.9068464015553, w1=13.552664460598129\n",
      "Gradient Descent(15/49): loss=11.946936437760145, w0=72.50089711626366, w1=14.010385074211307\n",
      "Gradient Descent(15/49): loss=21.653660325429396, w0=72.0006834254802, w1=14.136406973445276\n",
      "Gradient Descent(16/49): loss=16.56145007809005, w0=71.12109892404749, w1=14.245030438677329\n",
      "Gradient Descent(16/49): loss=2.8989747332970763, w0=71.33395705496018, w1=14.089723609743\n",
      "Gradient Descent(17/49): loss=14.677702231653644, w0=70.680811920093, w1=13.58674621323993\n",
      "Gradient Descent(17/49): loss=4.441500928158209, w0=70.92589173177056, w1=13.975964023190997\n",
      "Gradient Descent(18/49): loss=36.81871521456578, w0=71.7268366495876, w1=14.621076086529445\n",
      "Gradient Descent(18/49): loss=27.95267876705745, w0=71.89903130333951, w1=14.470050835192744\n",
      "Gradient Descent(19/49): loss=11.332938274114966, w0=72.23990370536288, w1=13.751728373040752\n",
      "Gradient Descent(19/49): loss=14.355867805056196, w0=71.51907758150612, w1=13.603597918438968\n",
      "Gradient Descent(20/49): loss=37.488897823761235, w0=72.83146722034589, w1=13.758295125550529\n",
      "Gradient Descent(20/49): loss=19.085705105507138, w0=73.71350359987453, w1=13.317960781030894\n",
      "Gradient Descent(21/49): loss=16.104411421434833, w0=73.25075587333315, w1=13.087454000134182\n",
      "Gradient Descent(21/49): loss=12.454240480621957, w0=73.63372949626596, w1=12.48248074568598\n",
      "Gradient Descent(22/49): loss=24.660754850078067, w0=74.4562890848371, w1=12.981937223514102\n",
      "Gradient Descent(22/49): loss=29.664676210863185, w0=74.14609375123095, w1=12.119004895082425\n",
      "Gradient Descent(23/49): loss=26.155270330765415, w0=73.47026710239189, w1=13.15628783925568\n",
      "Gradient Descent(23/49): loss=15.9445544814462, w0=73.19955492928776, w1=13.383523174409824\n",
      "Gradient Descent(24/49): loss=16.650204041587294, w0=72.90934539934662, w1=13.525154105309136\n",
      "Gradient Descent(24/49): loss=4.4733966697121685, w0=73.3689407303473, w1=13.920700747053395\n",
      "Gradient Descent(25/49): loss=14.867591162789205, w0=73.91921399629263, w1=14.240014572362332\n",
      "Gradient Descent(25/49): loss=10.730835679146384, w0=73.83039482814648, w1=14.518874985813818\n",
      "Gradient Descent(26/49): loss=13.392387335292742, w0=73.40322595986548, w1=13.729246058854377\n",
      "Gradient Descent(26/49): loss=4.131495823050613, w0=73.5886825378651, w1=14.204733259042259\n",
      "Gradient Descent(27/49): loss=30.868012530421517, w0=74.75564827164497, w1=13.681738202517797\n",
      "Gradient Descent(27/49): loss=9.11725336730429, w0=74.44894994125563, w1=13.633889721704302\n",
      "Gradient Descent(28/49): loss=8.46152139981199, w0=74.98662791581064, w1=13.549335302345943\n",
      "Gradient Descent(28/49): loss=13.60389476444971, w0=74.39295066356587, w1=13.674858478057104\n",
      "Gradient Descent(29/49): loss=4.6315026551426834, w0=74.33611511795074, w1=13.52228530522324\n",
      "Gradient Descent(29/49): loss=10.707107950207135, w0=74.86025846515922, w1=13.26733986158666\n",
      "Gradient Descent(30/49): loss=3.469267179703511, w0=75.12247892717883, w1=13.515589136331972\n",
      "Gradient Descent(30/49): loss=22.58531471396052, w0=75.1948602835332, w1=13.215932801032354\n",
      "Gradient Descent(31/49): loss=11.295375145204252, w0=74.79768139181202, w1=13.285337611308474\n",
      "Gradient Descent(31/49): loss=3.9313157451853513, w0=74.84420435850852, w1=13.517708250323048\n",
      "Gradient Descent(32/49): loss=13.859312594471811, w0=74.9579499689685, w1=13.37595578237699\n",
      "Gradient Descent(32/49): loss=8.825073862243535, w0=74.9168530500901, w1=12.46258320306732\n",
      "Gradient Descent(33/49): loss=3.8451077187427245, w0=74.98155029295205, w1=12.294336716451928\n",
      "Gradient Descent(33/49): loss=9.441077969952683, w0=74.15923823961708, w1=12.068992162196423\n",
      "Gradient Descent(34/49): loss=10.102674817431781, w0=74.43070756234951, w1=12.621880656010374\n",
      "Gradient Descent(34/49): loss=21.232963484906787, w0=74.27274779953643, w1=12.26880460311728\n",
      "Gradient Descent(35/49): loss=6.571145326819203, w0=74.36727447258116, w1=12.437722300413348\n",
      "Gradient Descent(35/49): loss=5.47936893288773, w0=74.52812253107193, w1=12.366615311766092\n",
      "Gradient Descent(36/49): loss=34.6445184102071, w0=73.89740090883053, w1=12.610077223236896\n",
      "Gradient Descent(36/49): loss=14.300088559862962, w0=73.81949320464035, w1=12.368874870329547\n",
      "Gradient Descent(37/49): loss=7.55078721754231, w0=73.5590457160446, w1=12.933596465066753\n",
      "Gradient Descent(37/49): loss=6.849953981939772, w0=73.55868624891205, w1=13.14742349214458\n",
      "Gradient Descent(38/49): loss=28.23034565343384, w0=74.68892199733814, w1=13.009081364947727\n",
      "Gradient Descent(38/49): loss=12.843515868099146, w0=74.88926487321336, w1=13.353727642238532\n",
      "Gradient Descent(39/49): loss=19.21955184918612, w0=73.91430085034624, w1=13.761457096160473\n",
      "Gradient Descent(39/49): loss=35.838796041200105, w0=72.91632759040071, w1=13.668442770262184\n",
      "Gradient Descent(40/49): loss=14.888602246986498, w0=72.51254820651181, w1=14.774593068193198\n",
      "Gradient Descent(40/49): loss=9.802296327042564, w0=72.4958452274175, w1=14.635022057215684\n",
      "Gradient Descent(41/49): loss=7.8789699118614065, w0=72.4048517582505, w1=14.037263727205923\n",
      "Gradient Descent(41/49): loss=9.140738269236369, w0=72.62478066383385, w1=14.272960664672738\n",
      "Gradient Descent(42/49): loss=18.33696545353937, w0=72.43782637270131, w1=14.382297084020681\n",
      "Gradient Descent(42/49): loss=9.910540307540302, w0=71.88679116753467, w1=14.712805837840778\n",
      "Gradient Descent(43/49): loss=41.839666475601135, w0=71.5957955497782, w1=13.934896568774205\n",
      "Gradient Descent(43/49): loss=7.164179051330871, w0=71.9277979476557, w1=13.685083549229601\n",
      "Gradient Descent(44/49): loss=17.536241173202285, w0=71.74926204065046, w1=14.003601688096532\n",
      "Gradient Descent(44/49): loss=17.667768270138936, w0=71.2429720748703, w1=13.886204904852336\n",
      "Gradient Descent(45/49): loss=44.18511919231298, w0=72.16595551286066, w1=14.08845658030262\n",
      "Gradient Descent(45/49): loss=10.849925723075588, w0=72.6432351585229, w1=14.646320711517498\n",
      "Gradient Descent(46/49): loss=6.002073983446356, w0=72.61451665080205, w1=14.364814598802516\n",
      "Gradient Descent(46/49): loss=12.667026211400554, w0=72.84002865593908, w1=14.47660092423547\n",
      "Gradient Descent(47/49): loss=7.282778045874498, w0=72.74783261723415, w1=13.851432669260502\n",
      "Gradient Descent(47/49): loss=36.47748831651861, w0=72.75996984713866, w1=13.920813091948709\n",
      "Gradient Descent(48/49): loss=46.8536562739502, w0=73.72124172361633, w1=11.946894162663044\n",
      "Gradient Descent(48/49): loss=22.490007199217413, w0=73.59557229604135, w1=11.985698751885076\n",
      "Gradient Descent(49/49): loss=10.67574668485829, w0=74.43018294219338, w1=12.505081347434873\n",
      "Gradient Descent(49/49): loss=25.672179619917635, w0=73.3003574444185, w1=12.910368259843985\n",
      "[array([0, 0]), array([14.39359962, -2.70005275]), array([24.56445827, -3.77835601]), array([35.0536766 , -1.02386081]), array([41.97238185,  0.57209126]), array([47.36548573,  1.34886001]), array([52.31223752,  1.78711209]), array([55.06603504,  3.33354989]), array([58.85980285,  5.8821278 ]), array([61.30954355,  6.53180821]), array([61.86454326,  7.9549213 ]), array([63.14662526,  7.73017847]), array([64.42783784,  8.54908224]), array([66.93144224, 10.83437892]), array([67.50284471, 11.20255907]), array([68.45640649, 11.58682997]), array([69.52949606, 10.52940581]), array([70.22679848, 11.37978476]), array([70.96667336, 12.88464936]), array([70.63739488, 13.58557184]), array([69.8820218 , 14.28160908]), array([71.29506981, 14.05272634]), array([71.42012335, 14.12715552]), array([72.22086273, 13.96179139]), array([72.79431709, 13.10084275]), array([72.91253624, 12.88249361]), array([72.49629642, 12.57786054]), array([72.67732114, 12.89106927]), array([72.40412731, 13.55082499]), array([72.47037278, 13.37146887]), array([72.9068464 , 13.55266446]), array([72.50089712, 14.01038507]), array([72.00068343, 14.13640697]), array([71.12109892, 14.24503044]), array([71.33395705, 14.08972361]), array([70.68081192, 13.58674621]), array([70.92589173, 13.97596402]), array([71.72683665, 14.62107609]), array([71.8990313 , 14.47005084]), array([72.23990371, 13.75172837]), array([71.51907758, 13.60359792]), array([72.83146722, 13.75829513]), array([73.7135036 , 13.31796078]), array([73.25075587, 13.087454  ]), array([73.6337295 , 12.48248075]), array([74.45628908, 12.98193722]), array([74.14609375, 12.1190049 ]), array([73.4702671 , 13.15628784]), array([73.19955493, 13.38352317]), array([72.9093454 , 13.52515411]), array([73.36894073, 13.92070075]), array([73.919214  , 14.24001457]), array([73.83039483, 14.51887499]), array([73.40322596, 13.72924606]), array([73.58868254, 14.20473326]), array([74.75564827, 13.6817382 ]), array([74.44894994, 13.63388972]), array([74.98662792, 13.5493353 ]), array([74.39295066, 13.67485848]), array([74.33611512, 13.52228531]), array([74.86025847, 13.26733986]), array([75.12247893, 13.51558914]), array([75.19486028, 13.2159328 ]), array([74.79768139, 13.28533761]), array([74.84420436, 13.51770825]), array([74.95794997, 13.37595578]), array([74.91685305, 12.4625832 ]), array([74.98155029, 12.29433672]), array([74.15923824, 12.06899216]), array([74.43070756, 12.62188066]), array([74.2727478, 12.2688046]), array([74.36727447, 12.4377223 ]), array([74.52812253, 12.36661531]), array([73.89740091, 12.61007722]), array([73.8194932 , 12.36887487]), array([73.55904572, 12.93359647]), array([73.55868625, 13.14742349]), array([74.688922  , 13.00908136]), array([74.88926487, 13.35372764]), array([73.91430085, 13.7614571 ]), array([72.91632759, 13.66844277]), array([72.51254821, 14.77459307]), array([72.49584523, 14.63502206]), array([72.40485176, 14.03726373]), array([72.62478066, 14.27296066]), array([72.43782637, 14.38229708]), array([71.88679117, 14.71280584]), array([71.59579555, 13.93489657]), array([71.92779795, 13.68508355]), array([71.74926204, 14.00360169]), array([71.24297207, 13.8862049 ]), array([72.16595551, 14.08845658]), array([72.64323516, 14.64632071]), array([72.61451665, 14.3648146 ]), array([72.84002866, 14.47660092]), array([72.74783262, 13.85143267]), array([72.75996985, 13.92081309]), array([73.72124172, 11.94689416]), array([73.5955723 , 11.98569875]), array([74.43018294, 12.50508135]), array([73.30035744, 12.91036826])]\n",
      "SGD: execution time=0.095 seconds\n"
     ]
    }
   ],
   "source": [
    "# from stochastic_gradient_descent import *\n",
    "\n",
    "# Define the parameters of the algorithm.\n",
    "max_iters = 50\n",
    "gamma = 0.2\n",
    "batch_size = 10000\n",
    "\n",
    "# Initialization\n",
    "w_initial = np.array([0, 0])\n",
    "\n",
    "# Start SGD.\n",
    "start_time = datetime.datetime.now()\n",
    "sgd_losses, sgd_ws = stochastic_gradient_descent(\n",
    "    y, tx, w_initial, batch_size, max_iters, gamma)\n",
    "end_time = datetime.datetime.now()\n",
    "\n",
    "# Print result\n",
    "exection_time = (end_time - start_time).total_seconds()\n",
    "print(\"SGD: execution time={t:.3f} seconds\".format(t=exection_time))"
   ]
  },
  {
   "cell_type": "code",
   "execution_count": 255,
   "metadata": {},
   "outputs": [
    {
     "data": {
      "application/vnd.jupyter.widget-view+json": {
       "model_id": "6a3907bf79034c8a93361e50031a3d80",
       "version_major": 2,
       "version_minor": 0
      },
      "text/plain": [
       "interactive(children=(IntSlider(value=1, description='n_iter', max=51, min=1), Output()), _dom_classes=('widge…"
      ]
     },
     "metadata": {},
     "output_type": "display_data"
    },
    {
     "data": {
      "text/plain": [
       "<function __main__.plot_figure(n_iter)>"
      ]
     },
     "execution_count": 255,
     "metadata": {},
     "output_type": "execute_result"
    }
   ],
   "source": [
    "# Time Visualization\n",
    "from ipywidgets import IntSlider, interact\n",
    "def plot_figure(n_iter):\n",
    "    fig = gradient_descent_visualization(\n",
    "        sgd_losses, sgd_ws, grid_losses, grid_w0, grid_w1, mean_x, std_x, height, weight, n_iter)\n",
    "    fig.set_size_inches(10.0, 6.0)\n",
    "\n",
    "interact(plot_figure, n_iter=IntSlider(min=1, max=len(gradient_ws)))"
   ]
  },
  {
   "cell_type": "markdown",
   "metadata": {},
   "source": [
    "# 5 Effect of Outliers and MAE Cost Function, and Subgradient Descent"
   ]
  },
  {
   "cell_type": "markdown",
   "metadata": {},
   "source": [
    "### Exercise 5\n",
    "\n",
    "Load and plot data containing outliers"
   ]
  },
  {
   "cell_type": "code",
   "execution_count": null,
   "metadata": {
    "collapsed": true
   },
   "outputs": [],
   "source": []
  },
  {
   "cell_type": "markdown",
   "metadata": {},
   "source": [
    "### Exercise 6"
   ]
  },
  {
   "cell_type": "markdown",
   "metadata": {},
   "source": [
    "Modify the function `compute_loss(y, tx, w)` for the Mean Absolute Error cost function [here](#compute_loss)"
   ]
  }
 ],
 "metadata": {
  "anaconda-cloud": {},
  "kernelspec": {
   "display_name": "Python 3",
   "language": "python",
   "name": "python3"
  },
  "language_info": {
   "codemirror_mode": {
    "name": "ipython",
    "version": 3
   },
   "file_extension": ".py",
   "mimetype": "text/x-python",
   "name": "python",
   "nbconvert_exporter": "python",
   "pygments_lexer": "ipython3",
   "version": "3.7.0"
  }
 },
 "nbformat": 4,
 "nbformat_minor": 1
}
