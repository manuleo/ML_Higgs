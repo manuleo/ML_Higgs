{
 "cells": [
  {
   "cell_type": "markdown",
   "metadata": {},
   "source": [
    "Task A\n",
    "\n"
   ]
  },
  {
   "cell_type": "code",
   "execution_count": 6,
   "metadata": {},
   "outputs": [],
   "source": [
    "# Useful starting lines\n",
    "%matplotlib inline\n",
    "import numpy as np\n",
    "import matplotlib.pyplot as plt\n",
    "%load_ext autoreload\n",
    "%autoreload 2"
   ]
  },
  {
   "cell_type": "code",
   "execution_count": 40,
   "metadata": {},
   "outputs": [],
   "source": [
    "def standard(X):\n",
    "    return (X - np.mean(X,axis=0))/np.std(X,axis=0)"
   ]
  },
  {
   "cell_type": "code",
   "execution_count": 42,
   "metadata": {},
   "outputs": [
    {
     "name": "stdout",
     "output_type": "stream",
     "text": [
      "[[ 0.46747696 -1.2427537  -0.98384345  1.19295294]\n",
      " [-1.38963595  0.03684931 -0.38787316 -1.2542359 ]\n",
      " [ 0.92215899  1.20590438  1.37171661  0.06128296]]\n"
     ]
    },
    {
     "data": {
      "text/plain": [
       "(array([-1.11022302e-16,  2.22044605e-16, -7.40148683e-17, -2.54426110e-17]),\n",
       " array([1., 1., 1., 1.]))"
      ]
     },
     "execution_count": 42,
     "metadata": {},
     "output_type": "execute_result"
    }
   ],
   "source": [
    "X = np.random.randn(3,4)\n",
    "Xs=standard(X)\n",
    "print(Xs)\n",
    "np.mean(Xs,axis=0),np.std(Xs,axis=0)"
   ]
  },
  {
   "cell_type": "markdown",
   "metadata": {},
   "source": [
    "Task B"
   ]
  },
  {
   "cell_type": "code",
   "execution_count": 111,
   "metadata": {
    "scrolled": true
   },
   "outputs": [
    {
     "name": "stdout",
     "output_type": "stream",
     "text": [
      "[[ 2  3]\n",
      " [ 4  5]\n",
      " [ 6  7]\n",
      " [ 8  9]\n",
      " [10 11]\n",
      " [12 13]\n",
      " [14 15]]\n",
      "[[ 5  8]\n",
      " [11 14]\n",
      " [17 20]\n",
      " [23 26]\n",
      " [29 32]\n",
      " [35 38]]\n"
     ]
    }
   ],
   "source": [
    "P=np.arange(2,16).reshape(-1,2)\n",
    "Q=np.arange(5,40,3).reshape(-1,2)\n",
    "print(P)\n",
    "print(Q)"
   ]
  },
  {
   "cell_type": "code",
   "execution_count": 117,
   "metadata": {},
   "outputs": [
    {
     "name": "stdout",
     "output_type": "stream",
     "text": [
      "(7, 2)\n",
      "(6, 2)\n",
      "(7, 1, 2)\n",
      "(1, 6, 2)\n",
      "[[[ 2  3]]\n",
      "\n",
      " [[ 4  5]]\n",
      "\n",
      " [[ 6  7]]\n",
      "\n",
      " [[ 8  9]]\n",
      "\n",
      " [[10 11]]\n",
      "\n",
      " [[12 13]]\n",
      "\n",
      " [[14 15]]]\n",
      "[[[ 5  8]\n",
      "  [11 14]\n",
      "  [17 20]\n",
      "  [23 26]\n",
      "  [29 32]\n",
      "  [35 38]]]\n"
     ]
    }
   ],
   "source": [
    "print(P.shape)\n",
    "print(Q.shape)\n",
    "print(P[:,np.newaxis,:].shape)\n",
    "print(Q[np.newaxis,:].shape)\n",
    "print(P[:,np.newaxis,:])\n",
    "print(Q[np.newaxis,:])"
   ]
  },
  {
   "cell_type": "code",
   "execution_count": 114,
   "metadata": {},
   "outputs": [
    {
     "name": "stdout",
     "output_type": "stream",
     "text": [
      "(7, 6, 2)\n",
      "[[[ -3  -5]\n",
      "  [ -9 -11]\n",
      "  [-15 -17]\n",
      "  [-21 -23]\n",
      "  [-27 -29]\n",
      "  [-33 -35]]\n",
      "\n",
      " [[ -1  -3]\n",
      "  [ -7  -9]\n",
      "  [-13 -15]\n",
      "  [-19 -21]\n",
      "  [-25 -27]\n",
      "  [-31 -33]]\n",
      "\n",
      " [[  1  -1]\n",
      "  [ -5  -7]\n",
      "  [-11 -13]\n",
      "  [-17 -19]\n",
      "  [-23 -25]\n",
      "  [-29 -31]]\n",
      "\n",
      " [[  3   1]\n",
      "  [ -3  -5]\n",
      "  [ -9 -11]\n",
      "  [-15 -17]\n",
      "  [-21 -23]\n",
      "  [-27 -29]]\n",
      "\n",
      " [[  5   3]\n",
      "  [ -1  -3]\n",
      "  [ -7  -9]\n",
      "  [-13 -15]\n",
      "  [-19 -21]\n",
      "  [-25 -27]]\n",
      "\n",
      " [[  7   5]\n",
      "  [  1  -1]\n",
      "  [ -5  -7]\n",
      "  [-11 -13]\n",
      "  [-17 -19]\n",
      "  [-23 -25]]\n",
      "\n",
      " [[  9   7]\n",
      "  [  3   1]\n",
      "  [ -3  -5]\n",
      "  [ -9 -11]\n",
      "  [-15 -17]\n",
      "  [-21 -23]]]\n"
     ]
    }
   ],
   "source": [
    "diff = P[:,np.newaxis,:] - Q[np.newaxis,:,:]\n",
    "print(diff.shape)\n",
    "print(diff)"
   ]
  },
  {
   "cell_type": "code",
   "execution_count": 122,
   "metadata": {},
   "outputs": [
    {
     "name": "stdout",
     "output_type": "stream",
     "text": [
      "[[ 5.83095189 14.2126704  22.6715681  31.144823   39.62322551 48.10405388]\n",
      " [ 3.16227766 11.40175425 19.84943324 28.31960452 36.79673899 45.27692569]\n",
      " [ 1.41421356  8.60232527 17.02938637 25.49509757 33.9705755  42.44997055]\n",
      " [ 3.16227766  5.83095189 14.2126704  22.6715681  31.144823   39.62322551]\n",
      " [ 5.83095189  3.16227766 11.40175425 19.84943324 28.31960452 36.79673899]\n",
      " [ 8.60232527  1.41421356  8.60232527 17.02938637 25.49509757 33.9705755 ]\n",
      " [11.40175425  3.16227766  5.83095189 14.2126704  22.6715681  31.144823  ]]\n",
      "(7, 6)\n"
     ]
    }
   ],
   "source": [
    "Dt = np.sqrt(np.sum(diff**2,axis=2))\n",
    "print(Dt)\n",
    "print(Dt.shape)"
   ]
  },
  {
   "cell_type": "code",
   "execution_count": 123,
   "metadata": {},
   "outputs": [],
   "source": [
    "def pairwise (P,Q):\n",
    "    diff = P[:,np.newaxis,:]-Q[np.newaxis,:,:]\n",
    "    D = np.sqrt(np.sum(diff**2,axis=2))\n",
    "    return D"
   ]
  },
  {
   "cell_type": "code",
   "execution_count": 124,
   "metadata": {},
   "outputs": [
    {
     "name": "stdout",
     "output_type": "stream",
     "text": [
      "[[ 5.83095189 14.2126704  22.6715681  31.144823   39.62322551 48.10405388]\n",
      " [ 3.16227766 11.40175425 19.84943324 28.31960452 36.79673899 45.27692569]\n",
      " [ 1.41421356  8.60232527 17.02938637 25.49509757 33.9705755  42.44997055]\n",
      " [ 3.16227766  5.83095189 14.2126704  22.6715681  31.144823   39.62322551]\n",
      " [ 5.83095189  3.16227766 11.40175425 19.84943324 28.31960452 36.79673899]\n",
      " [ 8.60232527  1.41421356  8.60232527 17.02938637 25.49509757 33.9705755 ]\n",
      " [11.40175425  3.16227766  5.83095189 14.2126704  22.6715681  31.144823  ]]\n"
     ]
    }
   ],
   "source": [
    "D = pairwise (P,Q)\n",
    "print(D)"
   ]
  },
  {
   "cell_type": "markdown",
   "metadata": {},
   "source": [
    "Task C"
   ]
  },
  {
   "cell_type": "code",
   "execution_count": 287,
   "metadata": {},
   "outputs": [],
   "source": [
    "d = 2\n",
    "xn = np.array(range(d))\n",
    "theta1 = np.random.randint(0,25,size=(d,d+1))\n",
    "theta2 = np.random.randint(0,25,size=(d,d+1))"
   ]
  },
  {
   "cell_type": "code",
   "execution_count": 322,
   "metadata": {},
   "outputs": [],
   "source": [
    "first = (2*np.pi)**(d/2)\n",
    "p1_1 = 1/((first*(np.linalg.det(theta1[:,1:d+1])))**0.5)\n",
    "p1_2 = 1/((first*(np.linalg.det(theta2[:,1:d+1])))**0.5)"
   ]
  },
  {
   "cell_type": "code",
   "execution_count": 349,
   "metadata": {},
   "outputs": [
    {
     "name": "stdout",
     "output_type": "stream",
     "text": [
      "[[10. 11.]]\n",
      "[[ 0.09019608 -0.05490196]\n",
      " [-0.05098039  0.0745098 ]]\n",
      "[[-20]\n",
      " [-22]]\n",
      "1.0627178717786013e-05\n"
     ]
    }
   ],
   "source": [
    "p2_11=-0.5*((xn-theta1[:,0])).reshape(1,2)\n",
    "print(p2_11)\n",
    "p2_12=np.linalg.inv(theta1[:,1:d+1])\n",
    "print(p2_12)\n",
    "p2_13=(xn-theta1[:,0]).reshape(2,1)\n",
    "print(p2_13)\n",
    "\n",
    "p2_21=-0.5*((xn-theta2[:,0])).reshape(1,2)\n",
    "p2_22=np.linalg.inv(theta2[:,1:d+1])\n",
    "p2_23=(xn-theta2[:,0]).reshape(2,1)\n",
    "p2_1=np.exp((p2_11.dot(p2_12)).dot(p2_13))[0,0]\n",
    "p2_2=np.exp((p2_21.dot(p2_22)).dot(p2_23))[0,0]\n",
    "print(p2_2)"
   ]
  },
  {
   "cell_type": "code",
   "execution_count": 357,
   "metadata": {},
   "outputs": [
    {
     "data": {
      "text/plain": [
       "1"
      ]
     },
     "execution_count": 357,
     "metadata": {},
     "output_type": "execute_result"
    }
   ],
   "source": [
    "p1 = p1_1*p2_1\n",
    "p2 = p1_2*p2_2\n",
    "p = np.array([p1,p2])\n",
    "np.argmax(p)"
   ]
  },
  {
   "cell_type": "code",
   "execution_count": 358,
   "metadata": {},
   "outputs": [],
   "source": [
    "def likelihood (xn,d,theta1,theta2):\n",
    "    first = (2*np.pi)**(d/2)\n",
    "    p1_1 = 1/((first*(np.linalg.det(theta1[:,1:d+1])))**0.5)\n",
    "    p1_2 = 1/((first*(np.linalg.det(theta2[:,1:d+1])))**0.5)\n",
    "    p2_11=-0.5*((xn-theta1[:,0])).reshape(1,2)\n",
    "    p2_12=np.linalg.inv(theta1[:,1:d+1])\n",
    "    p2_13=(xn-theta1[:,0]).reshape(2,1)\n",
    "    p2_21=-0.5*((xn-theta2[:,0])).reshape(1,2)\n",
    "    p2_22=np.linalg.inv(theta2[:,1:d+1])\n",
    "    p2_23=(xn-theta2[:,0]).reshape(2,1)\n",
    "    p2_1=np.exp((p2_11.dot(p2_12)).dot(p2_13))[0,0]\n",
    "    p2_2=np.exp((p2_21.dot(p2_22)).dot(p2_23))[0,0]\n",
    "    p1 = p1_1*p2_1\n",
    "    p2 = p1_2*p2_2\n",
    "    p = np.array([p1,p2])\n",
    "    return np.argmax(p) + 1"
   ]
  },
  {
   "cell_type": "code",
   "execution_count": 359,
   "metadata": {},
   "outputs": [
    {
     "name": "stdout",
     "output_type": "stream",
     "text": [
      "2\n"
     ]
    }
   ],
   "source": [
    "print (likelihood(xn,d,theta1,theta2))"
   ]
  },
  {
   "cell_type": "code",
   "execution_count": null,
   "metadata": {},
   "outputs": [],
   "source": []
  }
 ],
 "metadata": {
  "kernelspec": {
   "display_name": "Python [conda env:ml] *",
   "language": "python",
   "name": "conda-env-ml-py"
  },
  "language_info": {
   "codemirror_mode": {
    "name": "ipython",
    "version": 3
   },
   "file_extension": ".py",
   "mimetype": "text/x-python",
   "name": "python",
   "nbconvert_exporter": "python",
   "pygments_lexer": "ipython3",
   "version": "3.7.4"
  }
 },
 "nbformat": 4,
 "nbformat_minor": 2
}
