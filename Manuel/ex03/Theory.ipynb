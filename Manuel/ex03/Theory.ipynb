{
 "cells": [
  {
   "cell_type": "code",
   "execution_count": 1,
   "metadata": {},
   "outputs": [],
   "source": [
    "import numpy as np"
   ]
  },
  {
   "cell_type": "code",
   "execution_count": 2,
   "metadata": {},
   "outputs": [],
   "source": [
    "x = np.array([[400, -201], [-800, 401]])\n",
    "y = np.array([200, -200])"
   ]
  },
  {
   "cell_type": "code",
   "execution_count": 3,
   "metadata": {},
   "outputs": [
    {
     "data": {
      "text/plain": [
       "-399.9999999999999"
      ]
     },
     "execution_count": 3,
     "metadata": {},
     "output_type": "execute_result"
    }
   ],
   "source": [
    "np.linalg.det(x)"
   ]
  },
  {
   "cell_type": "code",
   "execution_count": 6,
   "metadata": {},
   "outputs": [
    {
     "data": {
      "text/plain": [
       "2"
      ]
     },
     "execution_count": 6,
     "metadata": {},
     "output_type": "execute_result"
    }
   ],
   "source": [
    "np.linalg.matrix_rank(x)"
   ]
  },
  {
   "cell_type": "code",
   "execution_count": 8,
   "metadata": {},
   "outputs": [
    {
     "data": {
      "text/plain": [
       "array([-100., -200.])"
      ]
     },
     "execution_count": 8,
     "metadata": {},
     "output_type": "execute_result"
    }
   ],
   "source": [
    "w = np.linalg.inv(x).dot(y)\n",
    "w"
   ]
  },
  {
   "cell_type": "code",
   "execution_count": 11,
   "metadata": {},
   "outputs": [],
   "source": [
    "x2 = np.array([[401, -201], [-800, 401]])"
   ]
  },
  {
   "cell_type": "code",
   "execution_count": 12,
   "metadata": {},
   "outputs": [
    {
     "data": {
      "text/plain": [
       "0.9999999999914522"
      ]
     },
     "execution_count": 12,
     "metadata": {},
     "output_type": "execute_result"
    }
   ],
   "source": [
    "np.linalg.det(x2)"
   ]
  },
  {
   "cell_type": "code",
   "execution_count": 13,
   "metadata": {},
   "outputs": [
    {
     "data": {
      "text/plain": [
       "2"
      ]
     },
     "execution_count": 13,
     "metadata": {},
     "output_type": "execute_result"
    }
   ],
   "source": [
    "np.linalg.matrix_rank(x2)"
   ]
  },
  {
   "cell_type": "code",
   "execution_count": 14,
   "metadata": {},
   "outputs": [
    {
     "data": {
      "text/plain": [
       "array([40000.00000034, 79800.00000068])"
      ]
     },
     "execution_count": 14,
     "metadata": {},
     "output_type": "execute_result"
    }
   ],
   "source": [
    "w2 = np.linalg.inv(x2).dot(y)\n",
    "w2"
   ]
  },
  {
   "cell_type": "code",
   "execution_count": 15,
   "metadata": {},
   "outputs": [
    {
     "data": {
      "text/plain": [
       "2503.0046004808573"
      ]
     },
     "execution_count": 15,
     "metadata": {},
     "output_type": "execute_result"
    }
   ],
   "source": [
    "np.linalg.cond(x)"
   ]
  },
  {
   "cell_type": "code",
   "execution_count": 16,
   "metadata": {},
   "outputs": [
    {
     "data": {
      "text/plain": [
       "1002003.0000501256"
      ]
     },
     "execution_count": 16,
     "metadata": {},
     "output_type": "execute_result"
    }
   ],
   "source": [
    "np.linalg.cond(x2)"
   ]
  },
  {
   "cell_type": "code",
   "execution_count": 18,
   "metadata": {},
   "outputs": [],
   "source": [
    "# Useful starting lines\n",
    "%matplotlib inline\n",
    "import numpy as np\n",
    "import matplotlib.pyplot as plt"
   ]
  },
  {
   "cell_type": "markdown",
   "metadata": {},
   "source": [
    "Second part"
   ]
  },
  {
   "cell_type": "code",
   "execution_count": 140,
   "metadata": {},
   "outputs": [],
   "source": [
    "from helpers import *\n",
    "from costs import *\n",
    "height, weight, gender = load_data_from_ex02(sub_sample=True, add_outlier=False)\n",
    "x, mean_x, std_x = standardize(height)\n",
    "y, tx = build_model_data(x, weight)"
   ]
  },
  {
   "cell_type": "code",
   "execution_count": 130,
   "metadata": {},
   "outputs": [],
   "source": [
    "def least_squares(y, tx):\n",
    "    \"\"\"calculate the least squares solution.\"\"\"\n",
    "    D = tx.shape[1]\n",
    "    G = tx.T.dot(tx)\n",
    "    if(np.linalg.matrix_rank(G)==D):\n",
    "        w = np.linalg.inv(G).dot(tx.T).dot(y)\n",
    "    else:\n",
    "        w = np.linalg.solve(G,tx.T.dot(y))\n",
    "    loss = compute_loss(y, tx, w)\n",
    "    return w, loss"
   ]
  },
  {
   "cell_type": "code",
   "execution_count": 131,
   "metadata": {},
   "outputs": [
    {
     "name": "stdout",
     "output_type": "stream",
     "text": [
      "Least squares: loss*=13.643434811522654, w0*=73.63227245973111, w1*=14.475704876437085\n"
     ]
    }
   ],
   "source": [
    " #least squares\n",
    "w_ls, loss_ls = least_squares(y, tx)\n",
    "print(\"Least squares: loss*={l}, w0*={w0}, w1*={w1}\".format(l=loss_ls, w0=w_ls[0], w1=w_ls[1]))"
   ]
  },
  {
   "cell_type": "code",
   "execution_count": 132,
   "metadata": {},
   "outputs": [],
   "source": [
    "xt = np.random.rand(tx.shape[0], tx.shape[1])\n",
    "yt = xt.dot(w_ls)"
   ]
  },
  {
   "cell_type": "code",
   "execution_count": 162,
   "metadata": {},
   "outputs": [
    {
     "data": {
      "text/plain": [
       "0.005685320438063885"
      ]
     },
     "execution_count": 162,
     "metadata": {},
     "output_type": "execute_result"
    },
    {
     "data": {
      "image/png": "[encoded data removed]",
      "text/plain": [
       "<Figure size 432x288 with 1 Axes>"
      ]
     },
     "metadata": {
      "needs_background": "light"
     },
     "output_type": "display_data"
    }
   ],
   "source": [
    "import matplotlib.pyplot as plt\n",
    "randomIndex = np.random.randint(0, 200)\n",
    "eps = 0.0001\n",
    "L = []\n",
    "for i in range(0,200):\n",
    "    Ln = (tx[i, :].dot(w_ls) - y[i])**2\n",
    "    Ln = Ln/(y[i]**2 + eps)\n",
    "    L.append(Ln)\n",
    "plt.plot(np.arange(1,201), L)\n",
    "Ls = np.sum(L)/(len(y))\n",
    "Ls\n",
    "#Ln = (tx[randomIndex, :].dot(w_ls) - y[randomIndex])**2\n",
    "#Ln = Ln/(y[randomIndex]**2 + eps)\n",
    "#Ln"
   ]
  },
  {
   "cell_type": "code",
   "execution_count": 158,
   "metadata": {},
   "outputs": [],
   "source": [
    "def compute_loss_2 (y, x, w):\n",
    "    N = len(y)\n",
    "    eps = 0.0001\n",
    "    L = (tx.dot(w) - y)**2\n",
    "    L = L/(y**2+eps)\n",
    "    return np.sum(L)/N"
   ]
  },
  {
   "cell_type": "code",
   "execution_count": 161,
   "metadata": {},
   "outputs": [
    {
     "data": {
      "text/plain": [
       "0.005685320438063885"
      ]
     },
     "execution_count": 161,
     "metadata": {},
     "output_type": "execute_result"
    }
   ],
   "source": [
    "L2 = compute_loss_2(y,tx,w_ls)\n",
    "#Ls = np.sum(L)\n",
    "#Ls\n",
    "L2.shape\n",
    "tx.shape\n",
    "y.shape\n",
    "L2\n",
    "#np.setdiff1d(L,L2)\n",
    "#plt.plot(L)"
   ]
  },
  {
   "cell_type": "code",
   "execution_count": 165,
   "metadata": {},
   "outputs": [],
   "source": [
    "def compute_gradient_2 (y,x,w):\n",
    "    N=len(y)\n",
    "    i = (tx.dot(w) - y)**2\n",
    "    i = i/(y**2+eps)\n",
    "    g = tx.T.dot(i)\n",
    "    g = -2*g\n",
    "    return g/N"
   ]
  },
  {
   "cell_type": "code",
   "execution_count": 166,
   "metadata": {},
   "outputs": [
    {
     "data": {
      "text/plain": [
       "array([-0.01137064,  0.00356315])"
      ]
     },
     "execution_count": 166,
     "metadata": {},
     "output_type": "execute_result"
    }
   ],
   "source": [
    "compute_gradient_2(y,tx,w_ls)"
   ]
  },
  {
   "cell_type": "code",
   "execution_count": 168,
   "metadata": {},
   "outputs": [
    {
     "name": "stdout",
     "output_type": "stream",
     "text": [
      "40.5 4900.5\n"
     ]
    }
   ],
   "source": [
    "#sensitive\n",
    "y = 1\n",
    "x = 2\n",
    "y1 = 10\n",
    "y2 = 100\n",
    "\n",
    "L1 = ((y1-y)**2)/(y**2+1)\n",
    "L2 = ((y2-y)**2)/(y**2+1)\n",
    "print(L1, L2) #the error is 100 times higher (goes like diff^2)"
   ]
  },
  {
   "cell_type": "code",
   "execution_count": 170,
   "metadata": {},
   "outputs": [
    {
     "name": "stdout",
     "output_type": "stream",
     "text": [
      "0.5481369119951501 2.9012015187733686\n"
     ]
    }
   ],
   "source": [
    "L1t = (np.log10(y1+1) - np.log10(y+1))**2\n",
    "L2t = (np.log10(y2+1) - np.log10(y+1))**2\n",
    "print(L1t,L2t) #less sensible!!"
   ]
  }
 ],
 "metadata": {
  "kernelspec": {
   "display_name": "hw1_ADA",
   "language": "python",
   "name": "hw1_ada"
  },
  "language_info": {
   "codemirror_mode": {
    "name": "ipython",
    "version": 3
   },
   "file_extension": ".py",
   "mimetype": "text/x-python",
   "name": "python",
   "nbconvert_exporter": "python",
   "pygments_lexer": "ipython3",
   "version": "3.6.8"
  }
 },
 "nbformat": 4,
 "nbformat_minor": 4
}
